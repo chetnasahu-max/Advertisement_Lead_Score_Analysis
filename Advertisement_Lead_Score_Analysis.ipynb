{
 "cells": [
  {
   "cell_type": "markdown",
   "id": "5f41b089",
   "metadata": {},
   "source": [
    "## Step 1: Importing import packages and Reading Data"
   ]
  },
  {
   "cell_type": "code",
   "execution_count": 1,
   "id": "f9d2115b",
   "metadata": {},
   "outputs": [],
   "source": [
    "# Suppressing Warnings\n",
    "import warnings\n",
    "warnings.filterwarnings('ignore')\n"
   ]
  },
  {
   "cell_type": "code",
   "execution_count": 2,
   "id": "b8af2dad",
   "metadata": {},
   "outputs": [],
   "source": [
    "#Importing libraries\n",
    "\n",
    "\n",
    "# Importing Pandas and NumPy\n",
    "import pandas as pd, numpy as np\n",
    "# Importing matplotlib and seaborn\n",
    "import matplotlib.pyplot as plt\n",
    "import seaborn as sns\n",
    "# visulaisation\n",
    "from matplotlib.pyplot import xticks\n",
    "\n",
    "from sklearn.model_selection import train_test_split\n",
    "from sklearn.preprocessing import StandardScaler\n",
    "from sklearn.linear_model import LogisticRegression\n",
    "from sklearn.feature_selection import RFE\n",
    "from statsmodels.stats.outliers_influence import variance_inflation_factor\n",
    "from sklearn import metrics\n",
    "\n",
    "\n",
    "import statsmodels.api as sm\n",
    "\n",
    "%matplotlib inline"
   ]
  },
  {
   "cell_type": "code",
   "execution_count": 3,
   "id": "e6188579",
   "metadata": {},
   "outputs": [],
   "source": [
    "# Read the dataset\n",
    "leadscore = pd.read_csv('Leads.csv')"
   ]
  },
  {
   "cell_type": "code",
   "execution_count": 4,
   "id": "b0d18203",
   "metadata": {},
   "outputs": [
    {
     "data": {
      "text/html": [
       "<div>\n",
       "<style scoped>\n",
       "    .dataframe tbody tr th:only-of-type {\n",
       "        vertical-align: middle;\n",
       "    }\n",
       "\n",
       "    .dataframe tbody tr th {\n",
       "        vertical-align: top;\n",
       "    }\n",
       "\n",
       "    .dataframe thead th {\n",
       "        text-align: right;\n",
       "    }\n",
       "</style>\n",
       "<table border=\"1\" class=\"dataframe\">\n",
       "  <thead>\n",
       "    <tr style=\"text-align: right;\">\n",
       "      <th></th>\n",
       "      <th>Prospect ID</th>\n",
       "      <th>Lead Number</th>\n",
       "      <th>Lead Origin</th>\n",
       "      <th>Lead Source</th>\n",
       "      <th>Do Not Email</th>\n",
       "      <th>Do Not Call</th>\n",
       "      <th>Converted</th>\n",
       "      <th>TotalVisits</th>\n",
       "      <th>Total Time Spent on Website</th>\n",
       "      <th>Page Views Per Visit</th>\n",
       "      <th>...</th>\n",
       "      <th>Get updates on DM Content</th>\n",
       "      <th>Lead Profile</th>\n",
       "      <th>City</th>\n",
       "      <th>Asymmetrique Activity Index</th>\n",
       "      <th>Asymmetrique Profile Index</th>\n",
       "      <th>Asymmetrique Activity Score</th>\n",
       "      <th>Asymmetrique Profile Score</th>\n",
       "      <th>I agree to pay the amount through cheque</th>\n",
       "      <th>A free copy of Mastering The Interview</th>\n",
       "      <th>Last Notable Activity</th>\n",
       "    </tr>\n",
       "  </thead>\n",
       "  <tbody>\n",
       "    <tr>\n",
       "      <th>0</th>\n",
       "      <td>7927b2df-8bba-4d29-b9a2-b6e0beafe620</td>\n",
       "      <td>660737</td>\n",
       "      <td>API</td>\n",
       "      <td>Olark Chat</td>\n",
       "      <td>No</td>\n",
       "      <td>No</td>\n",
       "      <td>0</td>\n",
       "      <td>0.0</td>\n",
       "      <td>0</td>\n",
       "      <td>0.0</td>\n",
       "      <td>...</td>\n",
       "      <td>No</td>\n",
       "      <td>Select</td>\n",
       "      <td>Select</td>\n",
       "      <td>02.Medium</td>\n",
       "      <td>02.Medium</td>\n",
       "      <td>15.0</td>\n",
       "      <td>15.0</td>\n",
       "      <td>No</td>\n",
       "      <td>No</td>\n",
       "      <td>Modified</td>\n",
       "    </tr>\n",
       "    <tr>\n",
       "      <th>1</th>\n",
       "      <td>2a272436-5132-4136-86fa-dcc88c88f482</td>\n",
       "      <td>660728</td>\n",
       "      <td>API</td>\n",
       "      <td>Organic Search</td>\n",
       "      <td>No</td>\n",
       "      <td>No</td>\n",
       "      <td>0</td>\n",
       "      <td>5.0</td>\n",
       "      <td>674</td>\n",
       "      <td>2.5</td>\n",
       "      <td>...</td>\n",
       "      <td>No</td>\n",
       "      <td>Select</td>\n",
       "      <td>Select</td>\n",
       "      <td>02.Medium</td>\n",
       "      <td>02.Medium</td>\n",
       "      <td>15.0</td>\n",
       "      <td>15.0</td>\n",
       "      <td>No</td>\n",
       "      <td>No</td>\n",
       "      <td>Email Opened</td>\n",
       "    </tr>\n",
       "    <tr>\n",
       "      <th>2</th>\n",
       "      <td>8cc8c611-a219-4f35-ad23-fdfd2656bd8a</td>\n",
       "      <td>660727</td>\n",
       "      <td>Landing Page Submission</td>\n",
       "      <td>Direct Traffic</td>\n",
       "      <td>No</td>\n",
       "      <td>No</td>\n",
       "      <td>1</td>\n",
       "      <td>2.0</td>\n",
       "      <td>1532</td>\n",
       "      <td>2.0</td>\n",
       "      <td>...</td>\n",
       "      <td>No</td>\n",
       "      <td>Potential Lead</td>\n",
       "      <td>Mumbai</td>\n",
       "      <td>02.Medium</td>\n",
       "      <td>01.High</td>\n",
       "      <td>14.0</td>\n",
       "      <td>20.0</td>\n",
       "      <td>No</td>\n",
       "      <td>Yes</td>\n",
       "      <td>Email Opened</td>\n",
       "    </tr>\n",
       "    <tr>\n",
       "      <th>3</th>\n",
       "      <td>0cc2df48-7cf4-4e39-9de9-19797f9b38cc</td>\n",
       "      <td>660719</td>\n",
       "      <td>Landing Page Submission</td>\n",
       "      <td>Direct Traffic</td>\n",
       "      <td>No</td>\n",
       "      <td>No</td>\n",
       "      <td>0</td>\n",
       "      <td>1.0</td>\n",
       "      <td>305</td>\n",
       "      <td>1.0</td>\n",
       "      <td>...</td>\n",
       "      <td>No</td>\n",
       "      <td>Select</td>\n",
       "      <td>Mumbai</td>\n",
       "      <td>02.Medium</td>\n",
       "      <td>01.High</td>\n",
       "      <td>13.0</td>\n",
       "      <td>17.0</td>\n",
       "      <td>No</td>\n",
       "      <td>No</td>\n",
       "      <td>Modified</td>\n",
       "    </tr>\n",
       "    <tr>\n",
       "      <th>4</th>\n",
       "      <td>3256f628-e534-4826-9d63-4a8b88782852</td>\n",
       "      <td>660681</td>\n",
       "      <td>Landing Page Submission</td>\n",
       "      <td>Google</td>\n",
       "      <td>No</td>\n",
       "      <td>No</td>\n",
       "      <td>1</td>\n",
       "      <td>2.0</td>\n",
       "      <td>1428</td>\n",
       "      <td>1.0</td>\n",
       "      <td>...</td>\n",
       "      <td>No</td>\n",
       "      <td>Select</td>\n",
       "      <td>Mumbai</td>\n",
       "      <td>02.Medium</td>\n",
       "      <td>01.High</td>\n",
       "      <td>15.0</td>\n",
       "      <td>18.0</td>\n",
       "      <td>No</td>\n",
       "      <td>No</td>\n",
       "      <td>Modified</td>\n",
       "    </tr>\n",
       "  </tbody>\n",
       "</table>\n",
       "<p>5 rows × 37 columns</p>\n",
       "</div>"
      ],
      "text/plain": [
       "                            Prospect ID  Lead Number              Lead Origin  \\\n",
       "0  7927b2df-8bba-4d29-b9a2-b6e0beafe620       660737                      API   \n",
       "1  2a272436-5132-4136-86fa-dcc88c88f482       660728                      API   \n",
       "2  8cc8c611-a219-4f35-ad23-fdfd2656bd8a       660727  Landing Page Submission   \n",
       "3  0cc2df48-7cf4-4e39-9de9-19797f9b38cc       660719  Landing Page Submission   \n",
       "4  3256f628-e534-4826-9d63-4a8b88782852       660681  Landing Page Submission   \n",
       "\n",
       "      Lead Source Do Not Email Do Not Call  Converted  TotalVisits  \\\n",
       "0      Olark Chat           No          No          0          0.0   \n",
       "1  Organic Search           No          No          0          5.0   \n",
       "2  Direct Traffic           No          No          1          2.0   \n",
       "3  Direct Traffic           No          No          0          1.0   \n",
       "4          Google           No          No          1          2.0   \n",
       "\n",
       "   Total Time Spent on Website  Page Views Per Visit  ...  \\\n",
       "0                            0                   0.0  ...   \n",
       "1                          674                   2.5  ...   \n",
       "2                         1532                   2.0  ...   \n",
       "3                          305                   1.0  ...   \n",
       "4                         1428                   1.0  ...   \n",
       "\n",
       "  Get updates on DM Content    Lead Profile    City  \\\n",
       "0                        No          Select  Select   \n",
       "1                        No          Select  Select   \n",
       "2                        No  Potential Lead  Mumbai   \n",
       "3                        No          Select  Mumbai   \n",
       "4                        No          Select  Mumbai   \n",
       "\n",
       "  Asymmetrique Activity Index Asymmetrique Profile Index  \\\n",
       "0                   02.Medium                  02.Medium   \n",
       "1                   02.Medium                  02.Medium   \n",
       "2                   02.Medium                    01.High   \n",
       "3                   02.Medium                    01.High   \n",
       "4                   02.Medium                    01.High   \n",
       "\n",
       "  Asymmetrique Activity Score Asymmetrique Profile Score  \\\n",
       "0                        15.0                       15.0   \n",
       "1                        15.0                       15.0   \n",
       "2                        14.0                       20.0   \n",
       "3                        13.0                       17.0   \n",
       "4                        15.0                       18.0   \n",
       "\n",
       "  I agree to pay the amount through cheque  \\\n",
       "0                                       No   \n",
       "1                                       No   \n",
       "2                                       No   \n",
       "3                                       No   \n",
       "4                                       No   \n",
       "\n",
       "  A free copy of Mastering The Interview Last Notable Activity  \n",
       "0                                     No              Modified  \n",
       "1                                     No          Email Opened  \n",
       "2                                    Yes          Email Opened  \n",
       "3                                     No              Modified  \n",
       "4                                     No              Modified  \n",
       "\n",
       "[5 rows x 37 columns]"
      ]
     },
     "execution_count": 4,
     "metadata": {},
     "output_type": "execute_result"
    }
   ],
   "source": [
    "# Let's look at the first five rows\n",
    "leadscore.head()"
   ]
  },
  {
   "cell_type": "code",
   "execution_count": 5,
   "id": "91414e2b",
   "metadata": {},
   "outputs": [
    {
     "data": {
      "text/plain": [
       "(9240, 37)"
      ]
     },
     "execution_count": 5,
     "metadata": {},
     "output_type": "execute_result"
    }
   ],
   "source": [
    "# Shape of the data\n",
    "leadscore.shape"
   ]
  },
  {
   "cell_type": "code",
   "execution_count": 6,
   "id": "a03c94ef",
   "metadata": {},
   "outputs": [
    {
     "data": {
      "text/plain": [
       "Index(['Prospect ID', 'Lead Number', 'Lead Origin', 'Lead Source',\n",
       "       'Do Not Email', 'Do Not Call', 'Converted', 'TotalVisits',\n",
       "       'Total Time Spent on Website', 'Page Views Per Visit', 'Last Activity',\n",
       "       'Country', 'Specialization', 'How did you hear about X Education',\n",
       "       'What is your current occupation',\n",
       "       'What matters most to you in choosing a course', 'Search', 'Magazine',\n",
       "       'Newspaper Article', 'X Education Forums', 'Newspaper',\n",
       "       'Digital Advertisement', 'Through Recommendations',\n",
       "       'Receive More Updates About Our Courses', 'Tags', 'Lead Quality',\n",
       "       'Update me on Supply Chain Content', 'Get updates on DM Content',\n",
       "       'Lead Profile', 'City', 'Asymmetrique Activity Index',\n",
       "       'Asymmetrique Profile Index', 'Asymmetrique Activity Score',\n",
       "       'Asymmetrique Profile Score',\n",
       "       'I agree to pay the amount through cheque',\n",
       "       'A free copy of Mastering The Interview', 'Last Notable Activity'],\n",
       "      dtype='object')"
      ]
     },
     "execution_count": 6,
     "metadata": {},
     "output_type": "execute_result"
    }
   ],
   "source": [
    "# Let's look at the columns\n",
    "leadscore.columns"
   ]
  },
  {
   "cell_type": "code",
   "execution_count": 7,
   "id": "13bfc53e",
   "metadata": {},
   "outputs": [
    {
     "data": {
      "text/html": [
       "<div>\n",
       "<style scoped>\n",
       "    .dataframe tbody tr th:only-of-type {\n",
       "        vertical-align: middle;\n",
       "    }\n",
       "\n",
       "    .dataframe tbody tr th {\n",
       "        vertical-align: top;\n",
       "    }\n",
       "\n",
       "    .dataframe thead th {\n",
       "        text-align: right;\n",
       "    }\n",
       "</style>\n",
       "<table border=\"1\" class=\"dataframe\">\n",
       "  <thead>\n",
       "    <tr style=\"text-align: right;\">\n",
       "      <th></th>\n",
       "      <th>Lead Number</th>\n",
       "      <th>Converted</th>\n",
       "      <th>TotalVisits</th>\n",
       "      <th>Total Time Spent on Website</th>\n",
       "      <th>Page Views Per Visit</th>\n",
       "      <th>Asymmetrique Activity Score</th>\n",
       "      <th>Asymmetrique Profile Score</th>\n",
       "    </tr>\n",
       "  </thead>\n",
       "  <tbody>\n",
       "    <tr>\n",
       "      <th>count</th>\n",
       "      <td>9240.000000</td>\n",
       "      <td>9240.000000</td>\n",
       "      <td>9103.000000</td>\n",
       "      <td>9240.000000</td>\n",
       "      <td>9103.000000</td>\n",
       "      <td>5022.000000</td>\n",
       "      <td>5022.000000</td>\n",
       "    </tr>\n",
       "    <tr>\n",
       "      <th>mean</th>\n",
       "      <td>617188.435606</td>\n",
       "      <td>0.385390</td>\n",
       "      <td>3.445238</td>\n",
       "      <td>487.698268</td>\n",
       "      <td>2.362820</td>\n",
       "      <td>14.306252</td>\n",
       "      <td>16.344883</td>\n",
       "    </tr>\n",
       "    <tr>\n",
       "      <th>std</th>\n",
       "      <td>23405.995698</td>\n",
       "      <td>0.486714</td>\n",
       "      <td>4.854853</td>\n",
       "      <td>548.021466</td>\n",
       "      <td>2.161418</td>\n",
       "      <td>1.386694</td>\n",
       "      <td>1.811395</td>\n",
       "    </tr>\n",
       "    <tr>\n",
       "      <th>min</th>\n",
       "      <td>579533.000000</td>\n",
       "      <td>0.000000</td>\n",
       "      <td>0.000000</td>\n",
       "      <td>0.000000</td>\n",
       "      <td>0.000000</td>\n",
       "      <td>7.000000</td>\n",
       "      <td>11.000000</td>\n",
       "    </tr>\n",
       "    <tr>\n",
       "      <th>25%</th>\n",
       "      <td>596484.500000</td>\n",
       "      <td>0.000000</td>\n",
       "      <td>1.000000</td>\n",
       "      <td>12.000000</td>\n",
       "      <td>1.000000</td>\n",
       "      <td>14.000000</td>\n",
       "      <td>15.000000</td>\n",
       "    </tr>\n",
       "    <tr>\n",
       "      <th>50%</th>\n",
       "      <td>615479.000000</td>\n",
       "      <td>0.000000</td>\n",
       "      <td>3.000000</td>\n",
       "      <td>248.000000</td>\n",
       "      <td>2.000000</td>\n",
       "      <td>14.000000</td>\n",
       "      <td>16.000000</td>\n",
       "    </tr>\n",
       "    <tr>\n",
       "      <th>75%</th>\n",
       "      <td>637387.250000</td>\n",
       "      <td>1.000000</td>\n",
       "      <td>5.000000</td>\n",
       "      <td>936.000000</td>\n",
       "      <td>3.000000</td>\n",
       "      <td>15.000000</td>\n",
       "      <td>18.000000</td>\n",
       "    </tr>\n",
       "    <tr>\n",
       "      <th>max</th>\n",
       "      <td>660737.000000</td>\n",
       "      <td>1.000000</td>\n",
       "      <td>251.000000</td>\n",
       "      <td>2272.000000</td>\n",
       "      <td>55.000000</td>\n",
       "      <td>18.000000</td>\n",
       "      <td>20.000000</td>\n",
       "    </tr>\n",
       "  </tbody>\n",
       "</table>\n",
       "</div>"
      ],
      "text/plain": [
       "         Lead Number    Converted  TotalVisits  Total Time Spent on Website  \\\n",
       "count    9240.000000  9240.000000  9103.000000                  9240.000000   \n",
       "mean   617188.435606     0.385390     3.445238                   487.698268   \n",
       "std     23405.995698     0.486714     4.854853                   548.021466   \n",
       "min    579533.000000     0.000000     0.000000                     0.000000   \n",
       "25%    596484.500000     0.000000     1.000000                    12.000000   \n",
       "50%    615479.000000     0.000000     3.000000                   248.000000   \n",
       "75%    637387.250000     1.000000     5.000000                   936.000000   \n",
       "max    660737.000000     1.000000   251.000000                  2272.000000   \n",
       "\n",
       "       Page Views Per Visit  Asymmetrique Activity Score  \\\n",
       "count           9103.000000                  5022.000000   \n",
       "mean               2.362820                    14.306252   \n",
       "std                2.161418                     1.386694   \n",
       "min                0.000000                     7.000000   \n",
       "25%                1.000000                    14.000000   \n",
       "50%                2.000000                    14.000000   \n",
       "75%                3.000000                    15.000000   \n",
       "max               55.000000                    18.000000   \n",
       "\n",
       "       Asymmetrique Profile Score  \n",
       "count                 5022.000000  \n",
       "mean                    16.344883  \n",
       "std                      1.811395  \n",
       "min                     11.000000  \n",
       "25%                     15.000000  \n",
       "50%                     16.000000  \n",
       "75%                     18.000000  \n",
       "max                     20.000000  "
      ]
     },
     "execution_count": 7,
     "metadata": {},
     "output_type": "execute_result"
    }
   ],
   "source": [
    "# Check the summary\n",
    "leadscore.describe()"
   ]
  },
  {
   "cell_type": "code",
   "execution_count": 8,
   "id": "667e4376",
   "metadata": {},
   "outputs": [
    {
     "name": "stdout",
     "output_type": "stream",
     "text": [
      "<class 'pandas.core.frame.DataFrame'>\n",
      "RangeIndex: 9240 entries, 0 to 9239\n",
      "Data columns (total 37 columns):\n",
      " #   Column                                         Non-Null Count  Dtype  \n",
      "---  ------                                         --------------  -----  \n",
      " 0   Prospect ID                                    9240 non-null   object \n",
      " 1   Lead Number                                    9240 non-null   int64  \n",
      " 2   Lead Origin                                    9240 non-null   object \n",
      " 3   Lead Source                                    9204 non-null   object \n",
      " 4   Do Not Email                                   9240 non-null   object \n",
      " 5   Do Not Call                                    9240 non-null   object \n",
      " 6   Converted                                      9240 non-null   int64  \n",
      " 7   TotalVisits                                    9103 non-null   float64\n",
      " 8   Total Time Spent on Website                    9240 non-null   int64  \n",
      " 9   Page Views Per Visit                           9103 non-null   float64\n",
      " 10  Last Activity                                  9137 non-null   object \n",
      " 11  Country                                        6779 non-null   object \n",
      " 12  Specialization                                 7802 non-null   object \n",
      " 13  How did you hear about X Education             7033 non-null   object \n",
      " 14  What is your current occupation                6550 non-null   object \n",
      " 15  What matters most to you in choosing a course  6531 non-null   object \n",
      " 16  Search                                         9240 non-null   object \n",
      " 17  Magazine                                       9240 non-null   object \n",
      " 18  Newspaper Article                              9240 non-null   object \n",
      " 19  X Education Forums                             9240 non-null   object \n",
      " 20  Newspaper                                      9240 non-null   object \n",
      " 21  Digital Advertisement                          9240 non-null   object \n",
      " 22  Through Recommendations                        9240 non-null   object \n",
      " 23  Receive More Updates About Our Courses         9240 non-null   object \n",
      " 24  Tags                                           5887 non-null   object \n",
      " 25  Lead Quality                                   4473 non-null   object \n",
      " 26  Update me on Supply Chain Content              9240 non-null   object \n",
      " 27  Get updates on DM Content                      9240 non-null   object \n",
      " 28  Lead Profile                                   6531 non-null   object \n",
      " 29  City                                           7820 non-null   object \n",
      " 30  Asymmetrique Activity Index                    5022 non-null   object \n",
      " 31  Asymmetrique Profile Index                     5022 non-null   object \n",
      " 32  Asymmetrique Activity Score                    5022 non-null   float64\n",
      " 33  Asymmetrique Profile Score                     5022 non-null   float64\n",
      " 34  I agree to pay the amount through cheque       9240 non-null   object \n",
      " 35  A free copy of Mastering The Interview         9240 non-null   object \n",
      " 36  Last Notable Activity                          9240 non-null   object \n",
      "dtypes: float64(4), int64(3), object(30)\n",
      "memory usage: 2.6+ MB\n"
     ]
    }
   ],
   "source": [
    "# Let's check the info of the data to know the datatypes\n",
    "leadscore.info()"
   ]
  },
  {
   "cell_type": "markdown",
   "id": "89900b7c",
   "metadata": {},
   "source": [
    "# Check for conversion rate in dataframe"
   ]
  },
  {
   "cell_type": "code",
   "execution_count": 9,
   "id": "1ca3a6f1",
   "metadata": {},
   "outputs": [
    {
     "data": {
      "text/plain": [
       "0.39"
      ]
     },
     "execution_count": 9,
     "metadata": {},
     "output_type": "execute_result"
    }
   ],
   "source": [
    "# Conversion rate\n",
    "\n",
    "round(leadscore[\"Converted\"].sum()/len(leadscore.index),2)"
   ]
  },
  {
   "cell_type": "markdown",
   "id": "29c67b52",
   "metadata": {},
   "source": [
    "Conversion rate is 39 percent."
   ]
  },
  {
   "cell_type": "markdown",
   "id": "f257f90c",
   "metadata": {},
   "source": [
    "## Step 2: Data Cleaning and Preparation"
   ]
  },
  {
   "cell_type": "code",
   "execution_count": 10,
   "id": "e11f694f",
   "metadata": {},
   "outputs": [
    {
     "data": {
      "text/plain": [
       "Prospect ID                                         0\n",
       "Lead Number                                         0\n",
       "Lead Origin                                         0\n",
       "Lead Source                                        36\n",
       "Do Not Email                                        0\n",
       "Do Not Call                                         0\n",
       "Converted                                           0\n",
       "TotalVisits                                       137\n",
       "Total Time Spent on Website                         0\n",
       "Page Views Per Visit                              137\n",
       "Last Activity                                     103\n",
       "Country                                          2461\n",
       "Specialization                                   1438\n",
       "How did you hear about X Education               2207\n",
       "What is your current occupation                  2690\n",
       "What matters most to you in choosing a course    2709\n",
       "Search                                              0\n",
       "Magazine                                            0\n",
       "Newspaper Article                                   0\n",
       "X Education Forums                                  0\n",
       "Newspaper                                           0\n",
       "Digital Advertisement                               0\n",
       "Through Recommendations                             0\n",
       "Receive More Updates About Our Courses              0\n",
       "Tags                                             3353\n",
       "Lead Quality                                     4767\n",
       "Update me on Supply Chain Content                   0\n",
       "Get updates on DM Content                           0\n",
       "Lead Profile                                     2709\n",
       "City                                             1420\n",
       "Asymmetrique Activity Index                      4218\n",
       "Asymmetrique Profile Index                       4218\n",
       "Asymmetrique Activity Score                      4218\n",
       "Asymmetrique Profile Score                       4218\n",
       "I agree to pay the amount through cheque            0\n",
       "A free copy of Mastering The Interview              0\n",
       "Last Notable Activity                               0\n",
       "dtype: int64"
      ]
     },
     "execution_count": 10,
     "metadata": {},
     "output_type": "execute_result"
    }
   ],
   "source": [
    "# Check missing values\n",
    "leadscore.isnull().sum()"
   ]
  },
  {
   "cell_type": "markdown",
   "id": "4ef8b40a",
   "metadata": {},
   "source": [
    "There are a lot of missing values in this dataset. A lot of columns have more than 3000 missing values, let's eliminate the columns having greater than 3000 missing values as they are of no use."
   ]
  },
  {
   "cell_type": "code",
   "execution_count": 11,
   "id": "36298e96",
   "metadata": {},
   "outputs": [],
   "source": [
    "# Drop all the columns having more than 3000 missing values\n",
    "\n",
    "for col in leadscore.columns:\n",
    "    if leadscore[col].isnull().sum() > 3000:\n",
    "        leadscore.drop(col, 1, inplace=True)"
   ]
  },
  {
   "cell_type": "code",
   "execution_count": 12,
   "id": "2547fc3a",
   "metadata": {},
   "outputs": [
    {
     "data": {
      "text/plain": [
       "Prospect ID                                         0\n",
       "Lead Number                                         0\n",
       "Lead Origin                                         0\n",
       "Lead Source                                        36\n",
       "Do Not Email                                        0\n",
       "Do Not Call                                         0\n",
       "Converted                                           0\n",
       "TotalVisits                                       137\n",
       "Total Time Spent on Website                         0\n",
       "Page Views Per Visit                              137\n",
       "Last Activity                                     103\n",
       "Country                                          2461\n",
       "Specialization                                   1438\n",
       "How did you hear about X Education               2207\n",
       "What is your current occupation                  2690\n",
       "What matters most to you in choosing a course    2709\n",
       "Search                                              0\n",
       "Magazine                                            0\n",
       "Newspaper Article                                   0\n",
       "X Education Forums                                  0\n",
       "Newspaper                                           0\n",
       "Digital Advertisement                               0\n",
       "Through Recommendations                             0\n",
       "Receive More Updates About Our Courses              0\n",
       "Update me on Supply Chain Content                   0\n",
       "Get updates on DM Content                           0\n",
       "Lead Profile                                     2709\n",
       "City                                             1420\n",
       "I agree to pay the amount through cheque            0\n",
       "A free copy of Mastering The Interview              0\n",
       "Last Notable Activity                               0\n",
       "dtype: int64"
      ]
     },
     "execution_count": 12,
     "metadata": {},
     "output_type": "execute_result"
    }
   ],
   "source": [
    "leadscore.isnull().sum()"
   ]
  },
  {
   "cell_type": "code",
   "execution_count": 13,
   "id": "0a3bd109",
   "metadata": {},
   "outputs": [],
   "source": [
    "# Columns city and country won't be of any use to our analysis, so we can drop these.\n",
    "leadscore.drop(['City'], axis = 1, inplace = True)"
   ]
  },
  {
   "cell_type": "code",
   "execution_count": 14,
   "id": "1c11a67c",
   "metadata": {},
   "outputs": [],
   "source": [
    "leadscore.drop(['Country'], axis = 1, inplace = True)"
   ]
  },
  {
   "cell_type": "code",
   "execution_count": 15,
   "id": "ed13090e",
   "metadata": {},
   "outputs": [
    {
     "data": {
      "text/plain": [
       "Prospect ID                                       0.00\n",
       "Lead Number                                       0.00\n",
       "Lead Origin                                       0.00\n",
       "Lead Source                                       0.39\n",
       "Do Not Email                                      0.00\n",
       "Do Not Call                                       0.00\n",
       "Converted                                         0.00\n",
       "TotalVisits                                       1.48\n",
       "Total Time Spent on Website                       0.00\n",
       "Page Views Per Visit                              1.48\n",
       "Last Activity                                     1.11\n",
       "Specialization                                   15.56\n",
       "How did you hear about X Education               23.89\n",
       "What is your current occupation                  29.11\n",
       "What matters most to you in choosing a course    29.32\n",
       "Search                                            0.00\n",
       "Magazine                                          0.00\n",
       "Newspaper Article                                 0.00\n",
       "X Education Forums                                0.00\n",
       "Newspaper                                         0.00\n",
       "Digital Advertisement                             0.00\n",
       "Through Recommendations                           0.00\n",
       "Receive More Updates About Our Courses            0.00\n",
       "Update me on Supply Chain Content                 0.00\n",
       "Get updates on DM Content                         0.00\n",
       "Lead Profile                                     29.32\n",
       "I agree to pay the amount through cheque          0.00\n",
       "A free copy of Mastering The Interview            0.00\n",
       "Last Notable Activity                             0.00\n",
       "dtype: float64"
      ]
     },
     "execution_count": 15,
     "metadata": {},
     "output_type": "execute_result"
    }
   ],
   "source": [
    "# Let's now check the percentage of missing values in each column\n",
    "\n",
    "round(100*(leadscore.isnull().sum()/len(leadscore.index)), 2)"
   ]
  },
  {
   "cell_type": "code",
   "execution_count": 16,
   "id": "a6d590a8",
   "metadata": {},
   "outputs": [
    {
     "name": "stdout",
     "output_type": "stream",
     "text": [
      "fffb0e5e-9f92-4017-9f42-781a69da4154    1\n",
      "56453aec-3f7b-4f30-870c-8f966d393100    1\n",
      "53ac14bd-2bb2-4315-a21c-94562d1b6b2d    1\n",
      "53aabd84-5dcc-4299-bbe3-62f3764b07b1    1\n",
      "539ffa32-1be7-4fe1-b04c-faf1bab763cf    1\n",
      "                                       ..\n",
      "aa4180a5-84f1-4e67-8d90-0c8403070a59    1\n",
      "aa405742-17ac-4c65-b19e-ab91c241cc53    1\n",
      "aa30ebb2-8476-41ce-9258-37cc025110d3    1\n",
      "aa27a0af-eeab-4007-a770-fa8a93fa53c8    1\n",
      "000104b9-23e4-4ddc-8caa-8629fe8ad7f4    1\n",
      "Name: Prospect ID, Length: 9240, dtype: int64\n",
      "___________________________________________________\n",
      "660737    1\n",
      "603303    1\n",
      "602561    1\n",
      "602557    1\n",
      "602540    1\n",
      "         ..\n",
      "630422    1\n",
      "630405    1\n",
      "630403    1\n",
      "630390    1\n",
      "579533    1\n",
      "Name: Lead Number, Length: 9240, dtype: int64\n",
      "___________________________________________________\n",
      "Landing Page Submission    4886\n",
      "API                        3580\n",
      "Lead Add Form               718\n",
      "Lead Import                  55\n",
      "Quick Add Form                1\n",
      "Name: Lead Origin, dtype: int64\n",
      "___________________________________________________\n",
      "Google               2868\n",
      "Direct Traffic       2543\n",
      "Olark Chat           1755\n",
      "Organic Search       1154\n",
      "Reference             534\n",
      "Welingak Website      142\n",
      "Referral Sites        125\n",
      "Facebook               55\n",
      "bing                    6\n",
      "google                  5\n",
      "Click2call              4\n",
      "Press_Release           2\n",
      "Social Media            2\n",
      "Live Chat               2\n",
      "Pay per Click Ads       1\n",
      "welearnblog_Home        1\n",
      "NC_EDM                  1\n",
      "WeLearn                 1\n",
      "blog                    1\n",
      "testone                 1\n",
      "youtubechannel          1\n",
      "Name: Lead Source, dtype: int64\n",
      "___________________________________________________\n",
      "No     8506\n",
      "Yes     734\n",
      "Name: Do Not Email, dtype: int64\n",
      "___________________________________________________\n",
      "No     9238\n",
      "Yes       2\n",
      "Name: Do Not Call, dtype: int64\n",
      "___________________________________________________\n",
      "0    5679\n",
      "1    3561\n",
      "Name: Converted, dtype: int64\n",
      "___________________________________________________\n",
      "0.0      2189\n",
      "2.0      1680\n",
      "3.0      1306\n",
      "4.0      1120\n",
      "5.0       783\n",
      "6.0       466\n",
      "1.0       395\n",
      "7.0       309\n",
      "8.0       224\n",
      "9.0       164\n",
      "10.0      114\n",
      "11.0       86\n",
      "13.0       48\n",
      "12.0       45\n",
      "14.0       36\n",
      "16.0       21\n",
      "15.0       18\n",
      "17.0       16\n",
      "18.0       15\n",
      "20.0       12\n",
      "19.0        9\n",
      "21.0        6\n",
      "23.0        6\n",
      "24.0        5\n",
      "25.0        5\n",
      "27.0        5\n",
      "22.0        3\n",
      "29.0        2\n",
      "26.0        2\n",
      "28.0        2\n",
      "43.0        1\n",
      "115.0       1\n",
      "74.0        1\n",
      "55.0        1\n",
      "54.0        1\n",
      "141.0       1\n",
      "42.0        1\n",
      "41.0        1\n",
      "32.0        1\n",
      "30.0        1\n",
      "251.0       1\n",
      "Name: TotalVisits, dtype: int64\n",
      "___________________________________________________\n",
      "0      2193\n",
      "60       19\n",
      "127      18\n",
      "74       18\n",
      "75       18\n",
      "       ... \n",
      "919       1\n",
      "915       1\n",
      "911       1\n",
      "909       1\n",
      "934       1\n",
      "Name: Total Time Spent on Website, Length: 1731, dtype: int64\n",
      "___________________________________________________\n",
      "0.00     2189\n",
      "2.00     1795\n",
      "3.00     1196\n",
      "4.00      896\n",
      "1.00      651\n",
      "         ... \n",
      "1.86        1\n",
      "3.80        1\n",
      "3.82        1\n",
      "3.83        1\n",
      "55.00       1\n",
      "Name: Page Views Per Visit, Length: 114, dtype: int64\n",
      "___________________________________________________\n",
      "Email Opened                    3437\n",
      "SMS Sent                        2745\n",
      "Olark Chat Conversation          973\n",
      "Page Visited on Website          640\n",
      "Converted to Lead                428\n",
      "Email Bounced                    326\n",
      "Email Link Clicked               267\n",
      "Form Submitted on Website        116\n",
      "Unreachable                       93\n",
      "Unsubscribed                      61\n",
      "Had a Phone Conversation          30\n",
      "Approached upfront                 9\n",
      "View in browser link Clicked       6\n",
      "Email Marked Spam                  2\n",
      "Email Received                     2\n",
      "Resubscribed to emails             1\n",
      "Visited Booth in Tradeshow         1\n",
      "Name: Last Activity, dtype: int64\n",
      "___________________________________________________\n",
      "Select                               1942\n",
      "Finance Management                    976\n",
      "Human Resource Management             848\n",
      "Marketing Management                  838\n",
      "Operations Management                 503\n",
      "Business Administration               403\n",
      "IT Projects Management                366\n",
      "Supply Chain Management               349\n",
      "Banking, Investment And Insurance     338\n",
      "Travel and Tourism                    203\n",
      "Media and Advertising                 203\n",
      "International Business                178\n",
      "Healthcare Management                 159\n",
      "Hospitality Management                114\n",
      "E-COMMERCE                            112\n",
      "Retail Management                     100\n",
      "Rural and Agribusiness                 73\n",
      "E-Business                             57\n",
      "Services Excellence                    40\n",
      "Name: Specialization, dtype: int64\n",
      "___________________________________________________\n",
      "Select                   5043\n",
      "Online Search             808\n",
      "Word Of Mouth             348\n",
      "Student of SomeSchool     310\n",
      "Other                     186\n",
      "Multiple Sources          152\n",
      "Advertisements             70\n",
      "Social Media               67\n",
      "Email                      26\n",
      "SMS                        23\n",
      "Name: How did you hear about X Education, dtype: int64\n",
      "___________________________________________________\n",
      "Unemployed              5600\n",
      "Working Professional     706\n",
      "Student                  210\n",
      "Other                     16\n",
      "Housewife                 10\n",
      "Businessman                8\n",
      "Name: What is your current occupation, dtype: int64\n",
      "___________________________________________________\n",
      "Better Career Prospects      6528\n",
      "Flexibility & Convenience       2\n",
      "Other                           1\n",
      "Name: What matters most to you in choosing a course, dtype: int64\n",
      "___________________________________________________\n",
      "No     9226\n",
      "Yes      14\n",
      "Name: Search, dtype: int64\n",
      "___________________________________________________\n",
      "No    9240\n",
      "Name: Magazine, dtype: int64\n",
      "___________________________________________________\n",
      "No     9238\n",
      "Yes       2\n",
      "Name: Newspaper Article, dtype: int64\n",
      "___________________________________________________\n",
      "No     9239\n",
      "Yes       1\n",
      "Name: X Education Forums, dtype: int64\n",
      "___________________________________________________\n",
      "No     9239\n",
      "Yes       1\n",
      "Name: Newspaper, dtype: int64\n",
      "___________________________________________________\n",
      "No     9236\n",
      "Yes       4\n",
      "Name: Digital Advertisement, dtype: int64\n",
      "___________________________________________________\n",
      "No     9233\n",
      "Yes       7\n",
      "Name: Through Recommendations, dtype: int64\n",
      "___________________________________________________\n",
      "No    9240\n",
      "Name: Receive More Updates About Our Courses, dtype: int64\n",
      "___________________________________________________\n",
      "No    9240\n",
      "Name: Update me on Supply Chain Content, dtype: int64\n",
      "___________________________________________________\n",
      "No    9240\n",
      "Name: Get updates on DM Content, dtype: int64\n",
      "___________________________________________________\n",
      "Select                         4146\n",
      "Potential Lead                 1613\n",
      "Other Leads                     487\n",
      "Student of SomeSchool           241\n",
      "Lateral Student                  24\n",
      "Dual Specialization Student      20\n",
      "Name: Lead Profile, dtype: int64\n",
      "___________________________________________________\n",
      "No    9240\n",
      "Name: I agree to pay the amount through cheque, dtype: int64\n",
      "___________________________________________________\n",
      "No     6352\n",
      "Yes    2888\n",
      "Name: A free copy of Mastering The Interview, dtype: int64\n",
      "___________________________________________________\n",
      "Modified                        3407\n",
      "Email Opened                    2827\n",
      "SMS Sent                        2172\n",
      "Page Visited on Website          318\n",
      "Olark Chat Conversation          183\n",
      "Email Link Clicked               173\n",
      "Email Bounced                     60\n",
      "Unsubscribed                      47\n",
      "Unreachable                       32\n",
      "Had a Phone Conversation          14\n",
      "Email Marked Spam                  2\n",
      "View in browser link Clicked       1\n",
      "Resubscribed to emails             1\n",
      "Form Submitted on Website          1\n",
      "Email Received                     1\n",
      "Approached upfront                 1\n",
      "Name: Last Notable Activity, dtype: int64\n",
      "___________________________________________________\n"
     ]
    }
   ],
   "source": [
    "# Get the value counts of all the columns\n",
    "\n",
    "for column in leadscore:\n",
    "    print(leadscore[column].astype('category').value_counts())\n",
    "    print('___________________________________________________')"
   ]
  },
  {
   "cell_type": "markdown",
   "id": "d6028ce3",
   "metadata": {},
   "source": [
    "As we can see there are 3 columns with a level 'Select' in it, which basically means that the student had not selected the option for that particular column which is why it shows 'Select'.\n",
    "\n",
    "The following 3 columns have level 'Select'."
   ]
  },
  {
   "cell_type": "code",
   "execution_count": 17,
   "id": "92e83140",
   "metadata": {},
   "outputs": [
    {
     "data": {
      "text/plain": [
       "Select                         4146\n",
       "Potential Lead                 1613\n",
       "Other Leads                     487\n",
       "Student of SomeSchool           241\n",
       "Lateral Student                  24\n",
       "Dual Specialization Student      20\n",
       "Name: Lead Profile, dtype: int64"
      ]
     },
     "execution_count": 17,
     "metadata": {},
     "output_type": "execute_result"
    }
   ],
   "source": [
    "leadscore['Lead Profile'].astype('category').value_counts()"
   ]
  },
  {
   "cell_type": "code",
   "execution_count": 18,
   "id": "06443ac7",
   "metadata": {},
   "outputs": [
    {
     "data": {
      "text/plain": [
       "Select                   5043\n",
       "Online Search             808\n",
       "Word Of Mouth             348\n",
       "Student of SomeSchool     310\n",
       "Other                     186\n",
       "Multiple Sources          152\n",
       "Advertisements             70\n",
       "Social Media               67\n",
       "Email                      26\n",
       "SMS                        23\n",
       "Name: How did you hear about X Education, dtype: int64"
      ]
     },
     "execution_count": 18,
     "metadata": {},
     "output_type": "execute_result"
    }
   ],
   "source": [
    "leadscore['How did you hear about X Education'].value_counts()"
   ]
  },
  {
   "cell_type": "code",
   "execution_count": 19,
   "id": "39b77cf8",
   "metadata": {},
   "outputs": [
    {
     "data": {
      "text/plain": [
       "Select                               1942\n",
       "Finance Management                    976\n",
       "Human Resource Management             848\n",
       "Marketing Management                  838\n",
       "Operations Management                 503\n",
       "Business Administration               403\n",
       "IT Projects Management                366\n",
       "Supply Chain Management               349\n",
       "Banking, Investment And Insurance     338\n",
       "Media and Advertising                 203\n",
       "Travel and Tourism                    203\n",
       "International Business                178\n",
       "Healthcare Management                 159\n",
       "Hospitality Management                114\n",
       "E-COMMERCE                            112\n",
       "Retail Management                     100\n",
       "Rural and Agribusiness                 73\n",
       "E-Business                             57\n",
       "Services Excellence                    40\n",
       "Name: Specialization, dtype: int64"
      ]
     },
     "execution_count": 19,
     "metadata": {},
     "output_type": "execute_result"
    }
   ],
   "source": [
    "leadscore['Specialization'].value_counts()"
   ]
  },
  {
   "cell_type": "markdown",
   "id": "89c015aa",
   "metadata": {},
   "source": [
    "Clearly the levels 'Lead Profile' and 'How did you hear about X Education' have a lot of rows which have the value Select which is of no use to the analysis so it's best that we drop them. And the column 'Specialization' is an important column so we can drop it."
   ]
  },
  {
   "cell_type": "code",
   "execution_count": 20,
   "id": "65528c8d",
   "metadata": {},
   "outputs": [],
   "source": [
    "leadscore.drop(['Lead Profile', 'How did you hear about X Education'], axis = 1, inplace = True)"
   ]
  },
  {
   "cell_type": "markdown",
   "id": "79ce7de7",
   "metadata": {},
   "source": [
    "As we can see that when you got the value counts of all the columns, there were a few columns in which only one value was majorly present for all the data points. These include 'Do Not Call', 'Search, Magazine', 'Newspaper Article', 'X Education Forums', 'Newspaper','Digital Advertisement', 'Through Recommendations', 'Receive More Updates About Our Courses', 'Update me on Supply Chain Content', 'Get updates on DM Content', 'I agree to pay the amount through cheque'. Since practically all of the values for these variables are No, it's best that we drop these columns as they won't help with our analysis.\n",
    "\n",
    "The variable 'What matters most to you in choosing a course' has the level \"Better Career\" Prospects 6528 times while the other two levels appear once twice and once respectively. So we should drop this column as well."
   ]
  },
  {
   "cell_type": "code",
   "execution_count": 21,
   "id": "8fffa0fd",
   "metadata": {},
   "outputs": [
    {
     "data": {
      "text/plain": [
       "Better Career Prospects      6528\n",
       "Flexibility & Convenience       2\n",
       "Other                           1\n",
       "Name: What matters most to you in choosing a course, dtype: int64"
      ]
     },
     "execution_count": 21,
     "metadata": {},
     "output_type": "execute_result"
    }
   ],
   "source": [
    "leadscore['What matters most to you in choosing a course'].value_counts()"
   ]
  },
  {
   "cell_type": "code",
   "execution_count": 22,
   "id": "2b7becc3",
   "metadata": {},
   "outputs": [],
   "source": [
    "leadscore.drop(['Do Not Call', 'Search', 'Magazine', 'Newspaper Article', 'X Education Forums', 'Newspaper', \n",
    "            'Digital Advertisement', 'Through Recommendations', 'Receive More Updates About Our Courses', \n",
    "            'Update me on Supply Chain Content', 'Get updates on DM Content', \n",
    "            'I agree to pay the amount through cheque', 'What matters most to you in choosing a course'], axis = 1, inplace = True)"
   ]
  },
  {
   "cell_type": "code",
   "execution_count": 23,
   "id": "ffef3299",
   "metadata": {},
   "outputs": [
    {
     "data": {
      "text/plain": [
       "Prospect ID                                  0\n",
       "Lead Number                                  0\n",
       "Lead Origin                                  0\n",
       "Lead Source                                 36\n",
       "Do Not Email                                 0\n",
       "Converted                                    0\n",
       "TotalVisits                                137\n",
       "Total Time Spent on Website                  0\n",
       "Page Views Per Visit                       137\n",
       "Last Activity                              103\n",
       "Specialization                            1438\n",
       "What is your current occupation           2690\n",
       "A free copy of Mastering The Interview       0\n",
       "Last Notable Activity                        0\n",
       "dtype: int64"
      ]
     },
     "execution_count": 23,
     "metadata": {},
     "output_type": "execute_result"
    }
   ],
   "source": [
    "# Check the number of null values again\n",
    "\n",
    "leadscore.isnull().sum()"
   ]
  },
  {
   "cell_type": "markdown",
   "id": "88890ebe",
   "metadata": {},
   "source": [
    "As we can see from above that 'What is your current occupation' column have lots of null values. We will not remove the entire columns as, it is an important column instead of that we can remove the null values rows."
   ]
  },
  {
   "cell_type": "code",
   "execution_count": 24,
   "id": "45d33489",
   "metadata": {},
   "outputs": [],
   "source": [
    "leadscore = leadscore[~pd.isnull(leadscore['What is your current occupation'])]"
   ]
  },
  {
   "cell_type": "code",
   "execution_count": 25,
   "id": "3af648f9",
   "metadata": {},
   "outputs": [
    {
     "data": {
      "text/plain": [
       "Prospect ID                                 0\n",
       "Lead Number                                 0\n",
       "Lead Origin                                 0\n",
       "Lead Source                                36\n",
       "Do Not Email                                0\n",
       "Converted                                   0\n",
       "TotalVisits                               130\n",
       "Total Time Spent on Website                 0\n",
       "Page Views Per Visit                      130\n",
       "Last Activity                             103\n",
       "Specialization                             18\n",
       "What is your current occupation             0\n",
       "A free copy of Mastering The Interview      0\n",
       "Last Notable Activity                       0\n",
       "dtype: int64"
      ]
     },
     "execution_count": 25,
     "metadata": {},
     "output_type": "execute_result"
    }
   ],
   "source": [
    "# Check the number of null values again\n",
    "\n",
    "leadscore.isnull().sum()"
   ]
  },
  {
   "cell_type": "markdown",
   "id": "89b2ff68",
   "metadata": {},
   "source": [
    "Since now the number of null values present in the columns are quite small we can simply drop the rows in which these null values are present."
   ]
  },
  {
   "cell_type": "code",
   "execution_count": 26,
   "id": "f4b72155",
   "metadata": {},
   "outputs": [
    {
     "data": {
      "text/plain": [
       "0    3359\n",
       "1    3191\n",
       "Name: Converted, dtype: int64"
      ]
     },
     "execution_count": 26,
     "metadata": {},
     "output_type": "execute_result"
    }
   ],
   "source": [
    "leadscore['Converted'].value_counts()"
   ]
  },
  {
   "cell_type": "code",
   "execution_count": 27,
   "id": "f31cee10",
   "metadata": {},
   "outputs": [],
   "source": [
    "# Drop the null value rows in the column 'TotalVisits'\n",
    "\n",
    "leadscore = leadscore[~pd.isnull(leadscore['TotalVisits'])]"
   ]
  },
  {
   "cell_type": "code",
   "execution_count": 28,
   "id": "69948257",
   "metadata": {},
   "outputs": [
    {
     "data": {
      "text/plain": [
       "Prospect ID                                0\n",
       "Lead Number                                0\n",
       "Lead Origin                                0\n",
       "Lead Source                               29\n",
       "Do Not Email                               0\n",
       "Converted                                  0\n",
       "TotalVisits                                0\n",
       "Total Time Spent on Website                0\n",
       "Page Views Per Visit                       0\n",
       "Last Activity                              0\n",
       "Specialization                            18\n",
       "What is your current occupation            0\n",
       "A free copy of Mastering The Interview     0\n",
       "Last Notable Activity                      0\n",
       "dtype: int64"
      ]
     },
     "execution_count": 28,
     "metadata": {},
     "output_type": "execute_result"
    }
   ],
   "source": [
    "# Check the null values again\n",
    "\n",
    "leadscore.isnull().sum()"
   ]
  },
  {
   "cell_type": "code",
   "execution_count": 29,
   "id": "c1dd3d39",
   "metadata": {},
   "outputs": [],
   "source": [
    "# Drop the null values rows in the column 'Lead Source'\n",
    "\n",
    "leadscore = leadscore[~pd.isnull(leadscore['Lead Source'])]"
   ]
  },
  {
   "cell_type": "code",
   "execution_count": 30,
   "id": "97df1c03",
   "metadata": {},
   "outputs": [
    {
     "data": {
      "text/plain": [
       "Prospect ID                                0\n",
       "Lead Number                                0\n",
       "Lead Origin                                0\n",
       "Lead Source                                0\n",
       "Do Not Email                               0\n",
       "Converted                                  0\n",
       "TotalVisits                                0\n",
       "Total Time Spent on Website                0\n",
       "Page Views Per Visit                       0\n",
       "Last Activity                              0\n",
       "Specialization                            18\n",
       "What is your current occupation            0\n",
       "A free copy of Mastering The Interview     0\n",
       "Last Notable Activity                      0\n",
       "dtype: int64"
      ]
     },
     "execution_count": 30,
     "metadata": {},
     "output_type": "execute_result"
    }
   ],
   "source": [
    "# Check the number of null values again\n",
    "\n",
    "leadscore.isnull().sum()"
   ]
  },
  {
   "cell_type": "code",
   "execution_count": 31,
   "id": "46986dc6",
   "metadata": {},
   "outputs": [],
   "source": [
    "# Drop the null values rows in the column 'Specialization'\n",
    "\n",
    "leadscore = leadscore[~pd.isnull(leadscore['Specialization'])]"
   ]
  },
  {
   "cell_type": "code",
   "execution_count": 32,
   "id": "5f63c0cd",
   "metadata": {},
   "outputs": [
    {
     "data": {
      "text/plain": [
       "Prospect ID                               0\n",
       "Lead Number                               0\n",
       "Lead Origin                               0\n",
       "Lead Source                               0\n",
       "Do Not Email                              0\n",
       "Converted                                 0\n",
       "TotalVisits                               0\n",
       "Total Time Spent on Website               0\n",
       "Page Views Per Visit                      0\n",
       "Last Activity                             0\n",
       "Specialization                            0\n",
       "What is your current occupation           0\n",
       "A free copy of Mastering The Interview    0\n",
       "Last Notable Activity                     0\n",
       "dtype: int64"
      ]
     },
     "execution_count": 32,
     "metadata": {},
     "output_type": "execute_result"
    }
   ],
   "source": [
    "# Check the number of null values again\n",
    "\n",
    "leadscore.isnull().sum()"
   ]
  },
  {
   "cell_type": "markdown",
   "id": "aacf2ec3",
   "metadata": {},
   "source": [
    "Now your data doesn't have any null values. Let's now check the percentage of rows that we have retained."
   ]
  },
  {
   "cell_type": "code",
   "execution_count": 33,
   "id": "baff7e3c",
   "metadata": {},
   "outputs": [
    {
     "name": "stdout",
     "output_type": "stream",
     "text": [
      "6373\n",
      "0.6897186147186147\n"
     ]
    }
   ],
   "source": [
    "print(len(leadscore.index))\n",
    "print(len(leadscore.index)/9240)"
   ]
  },
  {
   "cell_type": "markdown",
   "id": "cb01b69c",
   "metadata": {},
   "source": [
    "We still have around 69% of the rows which seems good enough."
   ]
  },
  {
   "cell_type": "code",
   "execution_count": 34,
   "id": "eb21b76b",
   "metadata": {},
   "outputs": [
    {
     "data": {
      "text/html": [
       "<div>\n",
       "<style scoped>\n",
       "    .dataframe tbody tr th:only-of-type {\n",
       "        vertical-align: middle;\n",
       "    }\n",
       "\n",
       "    .dataframe tbody tr th {\n",
       "        vertical-align: top;\n",
       "    }\n",
       "\n",
       "    .dataframe thead th {\n",
       "        text-align: right;\n",
       "    }\n",
       "</style>\n",
       "<table border=\"1\" class=\"dataframe\">\n",
       "  <thead>\n",
       "    <tr style=\"text-align: right;\">\n",
       "      <th></th>\n",
       "      <th>Prospect ID</th>\n",
       "      <th>Lead Number</th>\n",
       "      <th>Lead Origin</th>\n",
       "      <th>Lead Source</th>\n",
       "      <th>Do Not Email</th>\n",
       "      <th>Converted</th>\n",
       "      <th>TotalVisits</th>\n",
       "      <th>Total Time Spent on Website</th>\n",
       "      <th>Page Views Per Visit</th>\n",
       "      <th>Last Activity</th>\n",
       "      <th>Specialization</th>\n",
       "      <th>What is your current occupation</th>\n",
       "      <th>A free copy of Mastering The Interview</th>\n",
       "      <th>Last Notable Activity</th>\n",
       "    </tr>\n",
       "  </thead>\n",
       "  <tbody>\n",
       "    <tr>\n",
       "      <th>0</th>\n",
       "      <td>7927b2df-8bba-4d29-b9a2-b6e0beafe620</td>\n",
       "      <td>660737</td>\n",
       "      <td>API</td>\n",
       "      <td>Olark Chat</td>\n",
       "      <td>No</td>\n",
       "      <td>0</td>\n",
       "      <td>0.0</td>\n",
       "      <td>0</td>\n",
       "      <td>0.0</td>\n",
       "      <td>Page Visited on Website</td>\n",
       "      <td>Select</td>\n",
       "      <td>Unemployed</td>\n",
       "      <td>No</td>\n",
       "      <td>Modified</td>\n",
       "    </tr>\n",
       "    <tr>\n",
       "      <th>1</th>\n",
       "      <td>2a272436-5132-4136-86fa-dcc88c88f482</td>\n",
       "      <td>660728</td>\n",
       "      <td>API</td>\n",
       "      <td>Organic Search</td>\n",
       "      <td>No</td>\n",
       "      <td>0</td>\n",
       "      <td>5.0</td>\n",
       "      <td>674</td>\n",
       "      <td>2.5</td>\n",
       "      <td>Email Opened</td>\n",
       "      <td>Select</td>\n",
       "      <td>Unemployed</td>\n",
       "      <td>No</td>\n",
       "      <td>Email Opened</td>\n",
       "    </tr>\n",
       "    <tr>\n",
       "      <th>2</th>\n",
       "      <td>8cc8c611-a219-4f35-ad23-fdfd2656bd8a</td>\n",
       "      <td>660727</td>\n",
       "      <td>Landing Page Submission</td>\n",
       "      <td>Direct Traffic</td>\n",
       "      <td>No</td>\n",
       "      <td>1</td>\n",
       "      <td>2.0</td>\n",
       "      <td>1532</td>\n",
       "      <td>2.0</td>\n",
       "      <td>Email Opened</td>\n",
       "      <td>Business Administration</td>\n",
       "      <td>Student</td>\n",
       "      <td>Yes</td>\n",
       "      <td>Email Opened</td>\n",
       "    </tr>\n",
       "    <tr>\n",
       "      <th>3</th>\n",
       "      <td>0cc2df48-7cf4-4e39-9de9-19797f9b38cc</td>\n",
       "      <td>660719</td>\n",
       "      <td>Landing Page Submission</td>\n",
       "      <td>Direct Traffic</td>\n",
       "      <td>No</td>\n",
       "      <td>0</td>\n",
       "      <td>1.0</td>\n",
       "      <td>305</td>\n",
       "      <td>1.0</td>\n",
       "      <td>Unreachable</td>\n",
       "      <td>Media and Advertising</td>\n",
       "      <td>Unemployed</td>\n",
       "      <td>No</td>\n",
       "      <td>Modified</td>\n",
       "    </tr>\n",
       "    <tr>\n",
       "      <th>4</th>\n",
       "      <td>3256f628-e534-4826-9d63-4a8b88782852</td>\n",
       "      <td>660681</td>\n",
       "      <td>Landing Page Submission</td>\n",
       "      <td>Google</td>\n",
       "      <td>No</td>\n",
       "      <td>1</td>\n",
       "      <td>2.0</td>\n",
       "      <td>1428</td>\n",
       "      <td>1.0</td>\n",
       "      <td>Converted to Lead</td>\n",
       "      <td>Select</td>\n",
       "      <td>Unemployed</td>\n",
       "      <td>No</td>\n",
       "      <td>Modified</td>\n",
       "    </tr>\n",
       "  </tbody>\n",
       "</table>\n",
       "</div>"
      ],
      "text/plain": [
       "                            Prospect ID  Lead Number              Lead Origin  \\\n",
       "0  7927b2df-8bba-4d29-b9a2-b6e0beafe620       660737                      API   \n",
       "1  2a272436-5132-4136-86fa-dcc88c88f482       660728                      API   \n",
       "2  8cc8c611-a219-4f35-ad23-fdfd2656bd8a       660727  Landing Page Submission   \n",
       "3  0cc2df48-7cf4-4e39-9de9-19797f9b38cc       660719  Landing Page Submission   \n",
       "4  3256f628-e534-4826-9d63-4a8b88782852       660681  Landing Page Submission   \n",
       "\n",
       "      Lead Source Do Not Email  Converted  TotalVisits  \\\n",
       "0      Olark Chat           No          0          0.0   \n",
       "1  Organic Search           No          0          5.0   \n",
       "2  Direct Traffic           No          1          2.0   \n",
       "3  Direct Traffic           No          0          1.0   \n",
       "4          Google           No          1          2.0   \n",
       "\n",
       "   Total Time Spent on Website  Page Views Per Visit            Last Activity  \\\n",
       "0                            0                   0.0  Page Visited on Website   \n",
       "1                          674                   2.5             Email Opened   \n",
       "2                         1532                   2.0             Email Opened   \n",
       "3                          305                   1.0              Unreachable   \n",
       "4                         1428                   1.0        Converted to Lead   \n",
       "\n",
       "            Specialization What is your current occupation  \\\n",
       "0                   Select                      Unemployed   \n",
       "1                   Select                      Unemployed   \n",
       "2  Business Administration                         Student   \n",
       "3    Media and Advertising                      Unemployed   \n",
       "4                   Select                      Unemployed   \n",
       "\n",
       "  A free copy of Mastering The Interview Last Notable Activity  \n",
       "0                                     No              Modified  \n",
       "1                                     No          Email Opened  \n",
       "2                                    Yes          Email Opened  \n",
       "3                                     No              Modified  \n",
       "4                                     No              Modified  "
      ]
     },
     "execution_count": 34,
     "metadata": {},
     "output_type": "execute_result"
    }
   ],
   "source": [
    "# Let's look at the dataset again\n",
    "\n",
    "leadscore.head()"
   ]
  },
  {
   "cell_type": "markdown",
   "id": "a5cd1ab1",
   "metadata": {},
   "source": [
    "Now, clearly the variables Prospect ID won't be of any use in the analysis, so it's best that we drop these two variables."
   ]
  },
  {
   "cell_type": "code",
   "execution_count": 35,
   "id": "021bc48d",
   "metadata": {},
   "outputs": [],
   "source": [
    "leadscore.drop(['Prospect ID'], 1, inplace = True)"
   ]
  },
  {
   "cell_type": "code",
   "execution_count": 36,
   "id": "a5e07e68",
   "metadata": {},
   "outputs": [
    {
     "data": {
      "text/html": [
       "<div>\n",
       "<style scoped>\n",
       "    .dataframe tbody tr th:only-of-type {\n",
       "        vertical-align: middle;\n",
       "    }\n",
       "\n",
       "    .dataframe tbody tr th {\n",
       "        vertical-align: top;\n",
       "    }\n",
       "\n",
       "    .dataframe thead th {\n",
       "        text-align: right;\n",
       "    }\n",
       "</style>\n",
       "<table border=\"1\" class=\"dataframe\">\n",
       "  <thead>\n",
       "    <tr style=\"text-align: right;\">\n",
       "      <th></th>\n",
       "      <th>Lead Number</th>\n",
       "      <th>Lead Origin</th>\n",
       "      <th>Lead Source</th>\n",
       "      <th>Do Not Email</th>\n",
       "      <th>Converted</th>\n",
       "      <th>TotalVisits</th>\n",
       "      <th>Total Time Spent on Website</th>\n",
       "      <th>Page Views Per Visit</th>\n",
       "      <th>Last Activity</th>\n",
       "      <th>Specialization</th>\n",
       "      <th>What is your current occupation</th>\n",
       "      <th>A free copy of Mastering The Interview</th>\n",
       "      <th>Last Notable Activity</th>\n",
       "    </tr>\n",
       "  </thead>\n",
       "  <tbody>\n",
       "    <tr>\n",
       "      <th>0</th>\n",
       "      <td>660737</td>\n",
       "      <td>API</td>\n",
       "      <td>Olark Chat</td>\n",
       "      <td>No</td>\n",
       "      <td>0</td>\n",
       "      <td>0.0</td>\n",
       "      <td>0</td>\n",
       "      <td>0.0</td>\n",
       "      <td>Page Visited on Website</td>\n",
       "      <td>Select</td>\n",
       "      <td>Unemployed</td>\n",
       "      <td>No</td>\n",
       "      <td>Modified</td>\n",
       "    </tr>\n",
       "    <tr>\n",
       "      <th>1</th>\n",
       "      <td>660728</td>\n",
       "      <td>API</td>\n",
       "      <td>Organic Search</td>\n",
       "      <td>No</td>\n",
       "      <td>0</td>\n",
       "      <td>5.0</td>\n",
       "      <td>674</td>\n",
       "      <td>2.5</td>\n",
       "      <td>Email Opened</td>\n",
       "      <td>Select</td>\n",
       "      <td>Unemployed</td>\n",
       "      <td>No</td>\n",
       "      <td>Email Opened</td>\n",
       "    </tr>\n",
       "    <tr>\n",
       "      <th>2</th>\n",
       "      <td>660727</td>\n",
       "      <td>Landing Page Submission</td>\n",
       "      <td>Direct Traffic</td>\n",
       "      <td>No</td>\n",
       "      <td>1</td>\n",
       "      <td>2.0</td>\n",
       "      <td>1532</td>\n",
       "      <td>2.0</td>\n",
       "      <td>Email Opened</td>\n",
       "      <td>Business Administration</td>\n",
       "      <td>Student</td>\n",
       "      <td>Yes</td>\n",
       "      <td>Email Opened</td>\n",
       "    </tr>\n",
       "    <tr>\n",
       "      <th>3</th>\n",
       "      <td>660719</td>\n",
       "      <td>Landing Page Submission</td>\n",
       "      <td>Direct Traffic</td>\n",
       "      <td>No</td>\n",
       "      <td>0</td>\n",
       "      <td>1.0</td>\n",
       "      <td>305</td>\n",
       "      <td>1.0</td>\n",
       "      <td>Unreachable</td>\n",
       "      <td>Media and Advertising</td>\n",
       "      <td>Unemployed</td>\n",
       "      <td>No</td>\n",
       "      <td>Modified</td>\n",
       "    </tr>\n",
       "    <tr>\n",
       "      <th>4</th>\n",
       "      <td>660681</td>\n",
       "      <td>Landing Page Submission</td>\n",
       "      <td>Google</td>\n",
       "      <td>No</td>\n",
       "      <td>1</td>\n",
       "      <td>2.0</td>\n",
       "      <td>1428</td>\n",
       "      <td>1.0</td>\n",
       "      <td>Converted to Lead</td>\n",
       "      <td>Select</td>\n",
       "      <td>Unemployed</td>\n",
       "      <td>No</td>\n",
       "      <td>Modified</td>\n",
       "    </tr>\n",
       "  </tbody>\n",
       "</table>\n",
       "</div>"
      ],
      "text/plain": [
       "   Lead Number              Lead Origin     Lead Source Do Not Email  \\\n",
       "0       660737                      API      Olark Chat           No   \n",
       "1       660728                      API  Organic Search           No   \n",
       "2       660727  Landing Page Submission  Direct Traffic           No   \n",
       "3       660719  Landing Page Submission  Direct Traffic           No   \n",
       "4       660681  Landing Page Submission          Google           No   \n",
       "\n",
       "   Converted  TotalVisits  Total Time Spent on Website  Page Views Per Visit  \\\n",
       "0          0          0.0                            0                   0.0   \n",
       "1          0          5.0                          674                   2.5   \n",
       "2          1          2.0                         1532                   2.0   \n",
       "3          0          1.0                          305                   1.0   \n",
       "4          1          2.0                         1428                   1.0   \n",
       "\n",
       "             Last Activity           Specialization  \\\n",
       "0  Page Visited on Website                   Select   \n",
       "1             Email Opened                   Select   \n",
       "2             Email Opened  Business Administration   \n",
       "3              Unreachable    Media and Advertising   \n",
       "4        Converted to Lead                   Select   \n",
       "\n",
       "  What is your current occupation A free copy of Mastering The Interview  \\\n",
       "0                      Unemployed                                     No   \n",
       "1                      Unemployed                                     No   \n",
       "2                         Student                                    Yes   \n",
       "3                      Unemployed                                     No   \n",
       "4                      Unemployed                                     No   \n",
       "\n",
       "  Last Notable Activity  \n",
       "0              Modified  \n",
       "1          Email Opened  \n",
       "2          Email Opened  \n",
       "3              Modified  \n",
       "4              Modified  "
      ]
     },
     "execution_count": 36,
     "metadata": {},
     "output_type": "execute_result"
    }
   ],
   "source": [
    "leadscore.head()"
   ]
  },
  {
   "cell_type": "code",
   "execution_count": 37,
   "id": "01290805",
   "metadata": {},
   "outputs": [
    {
     "data": {
      "text/plain": [
       "(6373, 13)"
      ]
     },
     "execution_count": 37,
     "metadata": {},
     "output_type": "execute_result"
    }
   ],
   "source": [
    "leadscore.shape"
   ]
  },
  {
   "cell_type": "code",
   "execution_count": 38,
   "id": "41743cb1",
   "metadata": {},
   "outputs": [
    {
     "name": "stdout",
     "output_type": "stream",
     "text": [
      "<class 'pandas.core.frame.DataFrame'>\n",
      "Int64Index: 6373 entries, 0 to 9239\n",
      "Data columns (total 13 columns):\n",
      " #   Column                                  Non-Null Count  Dtype  \n",
      "---  ------                                  --------------  -----  \n",
      " 0   Lead Number                             6373 non-null   int64  \n",
      " 1   Lead Origin                             6373 non-null   object \n",
      " 2   Lead Source                             6373 non-null   object \n",
      " 3   Do Not Email                            6373 non-null   object \n",
      " 4   Converted                               6373 non-null   int64  \n",
      " 5   TotalVisits                             6373 non-null   float64\n",
      " 6   Total Time Spent on Website             6373 non-null   int64  \n",
      " 7   Page Views Per Visit                    6373 non-null   float64\n",
      " 8   Last Activity                           6373 non-null   object \n",
      " 9   Specialization                          6373 non-null   object \n",
      " 10  What is your current occupation         6373 non-null   object \n",
      " 11  A free copy of Mastering The Interview  6373 non-null   object \n",
      " 12  Last Notable Activity                   6373 non-null   object \n",
      "dtypes: float64(2), int64(3), object(8)\n",
      "memory usage: 697.0+ KB\n"
     ]
    }
   ],
   "source": [
    "leadscore.info()"
   ]
  },
  {
   "cell_type": "code",
   "execution_count": 39,
   "id": "ed62eeb8",
   "metadata": {},
   "outputs": [
    {
     "data": {
      "text/plain": [
       "Lead Number                                 int64\n",
       "Lead Origin                                object\n",
       "Lead Source                                object\n",
       "Do Not Email                               object\n",
       "Converted                                   int64\n",
       "TotalVisits                               float64\n",
       "Total Time Spent on Website                 int64\n",
       "Page Views Per Visit                      float64\n",
       "Last Activity                              object\n",
       "Specialization                             object\n",
       "What is your current occupation            object\n",
       "A free copy of Mastering The Interview     object\n",
       "Last Notable Activity                      object\n",
       "dtype: object"
      ]
     },
     "execution_count": 39,
     "metadata": {},
     "output_type": "execute_result"
    }
   ],
   "source": [
    "leadscore.dtypes"
   ]
  },
  {
   "cell_type": "markdown",
   "id": "49a32363",
   "metadata": {},
   "source": [
    "## Exploratory Data Analysis"
   ]
  },
  {
   "cell_type": "markdown",
   "id": "8ed3e51a",
   "metadata": {},
   "source": [
    "# Numerical columns"
   ]
  },
  {
   "cell_type": "code",
   "execution_count": 40,
   "id": "750712a0",
   "metadata": {},
   "outputs": [
    {
     "data": {
      "image/png": "[encoded data removed]",
      "text/plain": [
       "<Figure size 432x288 with 1 Axes>"
      ]
     },
     "metadata": {
      "needs_background": "light"
     },
     "output_type": "display_data"
    }
   ],
   "source": [
    "plt.hist(leadscore['TotalVisits'], bins=20)\n",
    "plt.show()"
   ]
  },
  {
   "cell_type": "code",
   "execution_count": 41,
   "id": "d23a8918",
   "metadata": {},
   "outputs": [
    {
     "data": {
      "image/png": "[encoded data removed]",
      "text/plain": [
       "<Figure size 432x288 with 1 Axes>"
      ]
     },
     "metadata": {
      "needs_background": "light"
     },
     "output_type": "display_data"
    }
   ],
   "source": [
    "plt.hist(leadscore['Page Views Per Visit'], bins=20)\n",
    "plt.show()"
   ]
  },
  {
   "cell_type": "code",
   "execution_count": 42,
   "id": "52440b56",
   "metadata": {},
   "outputs": [
    {
     "data": {
      "image/png": "[encoded data removed]",
      "text/plain": [
       "<Figure size 432x288 with 1 Axes>"
      ]
     },
     "metadata": {
      "needs_background": "light"
     },
     "output_type": "display_data"
    }
   ],
   "source": [
    "plt.hist(leadscore['Total Time Spent on Website'], bins=20)\n",
    "plt.show()"
   ]
  },
  {
   "cell_type": "markdown",
   "id": "3414f444",
   "metadata": {},
   "source": [
    "# Heatmap"
   ]
  },
  {
   "cell_type": "code",
   "execution_count": 43,
   "id": "48684750",
   "metadata": {},
   "outputs": [
    {
     "data": {
      "image/png": "[encoded data removed]",
      "text/plain": [
       "<Figure size 1008x864 with 2 Axes>"
      ]
     },
     "metadata": {
      "needs_background": "light"
     },
     "output_type": "display_data"
    }
   ],
   "source": [
    "plt.figure(figsize = (14,12))\n",
    "sns.heatmap(leadscore[['TotalVisits', 'Total Time Spent on Website', 'Page Views Per Visit']].corr(), cmap=\"YlGnBu\", annot = True)\n",
    "plt.show()"
   ]
  },
  {
   "cell_type": "markdown",
   "id": "49b8f20a",
   "metadata": {},
   "source": [
    "# Check for outliers"
   ]
  },
  {
   "cell_type": "code",
   "execution_count": 44,
   "id": "9919edb0",
   "metadata": {},
   "outputs": [
    {
     "data": {
      "image/png": "[encoded data removed]",
      "text/plain": [
       "<Figure size 432x288 with 1 Axes>"
      ]
     },
     "metadata": {
      "needs_background": "light"
     },
     "output_type": "display_data"
    }
   ],
   "source": [
    "#plotting TotalVisits to show outliers\n",
    "ax = leadscore.boxplot(column='TotalVisits')\n",
    "plt.title('Total Visits of Customer')\n",
    "ax.set_xlabel('total_visits')\n",
    "ax.set_ylabel('Values')\n",
    "plt.show()"
   ]
  },
  {
   "cell_type": "markdown",
   "id": "2015f544",
   "metadata": {},
   "source": [
    "We can see presence of outliers here."
   ]
  },
  {
   "cell_type": "code",
   "execution_count": 45,
   "id": "f167d16a",
   "metadata": {},
   "outputs": [
    {
     "data": {
      "image/png": "[encoded data removed]",
      "text/plain": [
       "<Figure size 432x288 with 1 Axes>"
      ]
     },
     "metadata": {
      "needs_background": "light"
     },
     "output_type": "display_data"
    }
   ],
   "source": [
    "#plotting Total Time Spent on Website to show outliers\n",
    "ax = leadscore.boxplot(column='Total Time Spent on Website')\n",
    "plt.title('Total Time Spent')\n",
    "ax.set_xlabel('total_time')\n",
    "ax.set_ylabel('Values')\n",
    "plt.show()"
   ]
  },
  {
   "cell_type": "markdown",
   "id": "586cecbe",
   "metadata": {},
   "source": [
    "Since there are no major Outliers for the above variable we don't do any Outlier Treatment for this above Column."
   ]
  },
  {
   "cell_type": "code",
   "execution_count": 46,
   "id": "148e1985",
   "metadata": {},
   "outputs": [
    {
     "data": {
      "image/png": "[encoded data removed]",
      "text/plain": [
       "<Figure size 432x288 with 1 Axes>"
      ]
     },
     "metadata": {
      "needs_background": "light"
     },
     "output_type": "display_data"
    }
   ],
   "source": [
    "#plotting Page Views Per Visit on Website to show outliers\n",
    "ax = leadscore.boxplot(column='Page Views Per Visit')\n",
    "plt.title('Page visited')\n",
    "ax.set_xlabel('page visited')\n",
    "ax.set_ylabel('Values')\n",
    "plt.show()"
   ]
  },
  {
   "cell_type": "markdown",
   "id": "217dcb06",
   "metadata": {},
   "source": [
    "We observe that 'TotalVisits' and 'Page Views Per Visit' variables have huge outliers. So we will use 1.5 IQR rule to remove outliers."
   ]
  },
  {
   "cell_type": "markdown",
   "id": "93bcc4f5",
   "metadata": {},
   "source": [
    "# Perform outlier treatment"
   ]
  },
  {
   "cell_type": "code",
   "execution_count": 47,
   "id": "785a35cd",
   "metadata": {},
   "outputs": [
    {
     "data": {
      "image/png": "[encoded data removed]",
      "text/plain": [
       "<Figure size 432x288 with 1 Axes>"
      ]
     },
     "metadata": {
      "needs_background": "light"
     },
     "output_type": "display_data"
    }
   ],
   "source": [
    "# Treating outliers of TotalVisits\n",
    "Q1 = leadscore.TotalVisits.quantile(0.25)\n",
    "Q3 = leadscore.TotalVisits.quantile(0.75)\n",
    "IQR = Q3 - Q1\n",
    "leadscore = leadscore[(leadscore.TotalVisits >= Q1 - 1.5*IQR) & (leadscore.TotalVisits <= Q3 + 1.5*IQR)]\n",
    "plt.boxplot(leadscore.TotalVisits)\n",
    "plt.show()"
   ]
  },
  {
   "cell_type": "code",
   "execution_count": 48,
   "id": "90e31165",
   "metadata": {},
   "outputs": [
    {
     "data": {
      "image/png": "[encoded data removed]",
      "text/plain": [
       "<Figure size 432x288 with 1 Axes>"
      ]
     },
     "metadata": {
      "needs_background": "light"
     },
     "output_type": "display_data"
    }
   ],
   "source": [
    "# Treating outliers of Page Views Per visit\n",
    "Q1 = leadscore['Page Views Per Visit'].quantile(0.25)\n",
    "Q3 = leadscore['Page Views Per Visit'].quantile(0.75)\n",
    "IQR = Q3 - Q1\n",
    "leadscore = leadscore[(leadscore['Page Views Per Visit'] >= Q1 - 1.5*IQR) & (leadscore['Page Views Per Visit'] <= Q3 + 1.5*IQR)]\n",
    "plt.boxplot(leadscore['Page Views Per Visit'])\n",
    "plt.show()"
   ]
  },
  {
   "cell_type": "code",
   "execution_count": 49,
   "id": "6e92a3f8",
   "metadata": {},
   "outputs": [
    {
     "data": {
      "text/html": [
       "<div>\n",
       "<style scoped>\n",
       "    .dataframe tbody tr th:only-of-type {\n",
       "        vertical-align: middle;\n",
       "    }\n",
       "\n",
       "    .dataframe tbody tr th {\n",
       "        vertical-align: top;\n",
       "    }\n",
       "\n",
       "    .dataframe thead th {\n",
       "        text-align: right;\n",
       "    }\n",
       "</style>\n",
       "<table border=\"1\" class=\"dataframe\">\n",
       "  <thead>\n",
       "    <tr style=\"text-align: right;\">\n",
       "      <th></th>\n",
       "      <th>Lead Number</th>\n",
       "      <th>Converted</th>\n",
       "      <th>TotalVisits</th>\n",
       "      <th>Total Time Spent on Website</th>\n",
       "      <th>Page Views Per Visit</th>\n",
       "    </tr>\n",
       "  </thead>\n",
       "  <tbody>\n",
       "    <tr>\n",
       "      <th>count</th>\n",
       "      <td>5947.000000</td>\n",
       "      <td>5947.000000</td>\n",
       "      <td>5947.000000</td>\n",
       "      <td>5947.000000</td>\n",
       "      <td>5947.000000</td>\n",
       "    </tr>\n",
       "    <tr>\n",
       "      <th>mean</th>\n",
       "      <td>616232.349084</td>\n",
       "      <td>0.479906</td>\n",
       "      <td>2.941819</td>\n",
       "      <td>522.567009</td>\n",
       "      <td>2.184014</td>\n",
       "    </tr>\n",
       "    <tr>\n",
       "      <th>std</th>\n",
       "      <td>23336.150910</td>\n",
       "      <td>0.499638</td>\n",
       "      <td>2.426167</td>\n",
       "      <td>563.413076</td>\n",
       "      <td>1.640378</td>\n",
       "    </tr>\n",
       "    <tr>\n",
       "      <th>min</th>\n",
       "      <td>579533.000000</td>\n",
       "      <td>0.000000</td>\n",
       "      <td>0.000000</td>\n",
       "      <td>0.000000</td>\n",
       "      <td>0.000000</td>\n",
       "    </tr>\n",
       "    <tr>\n",
       "      <th>25%</th>\n",
       "      <td>595776.500000</td>\n",
       "      <td>0.000000</td>\n",
       "      <td>1.000000</td>\n",
       "      <td>22.000000</td>\n",
       "      <td>1.000000</td>\n",
       "    </tr>\n",
       "    <tr>\n",
       "      <th>50%</th>\n",
       "      <td>613818.000000</td>\n",
       "      <td>0.000000</td>\n",
       "      <td>3.000000</td>\n",
       "      <td>274.000000</td>\n",
       "      <td>2.000000</td>\n",
       "    </tr>\n",
       "    <tr>\n",
       "      <th>75%</th>\n",
       "      <td>637073.500000</td>\n",
       "      <td>1.000000</td>\n",
       "      <td>4.000000</td>\n",
       "      <td>1010.500000</td>\n",
       "      <td>3.000000</td>\n",
       "    </tr>\n",
       "    <tr>\n",
       "      <th>max</th>\n",
       "      <td>660737.000000</td>\n",
       "      <td>1.000000</td>\n",
       "      <td>11.000000</td>\n",
       "      <td>2272.000000</td>\n",
       "      <td>6.000000</td>\n",
       "    </tr>\n",
       "  </tbody>\n",
       "</table>\n",
       "</div>"
      ],
      "text/plain": [
       "         Lead Number    Converted  TotalVisits  Total Time Spent on Website  \\\n",
       "count    5947.000000  5947.000000  5947.000000                  5947.000000   \n",
       "mean   616232.349084     0.479906     2.941819                   522.567009   \n",
       "std     23336.150910     0.499638     2.426167                   563.413076   \n",
       "min    579533.000000     0.000000     0.000000                     0.000000   \n",
       "25%    595776.500000     0.000000     1.000000                    22.000000   \n",
       "50%    613818.000000     0.000000     3.000000                   274.000000   \n",
       "75%    637073.500000     1.000000     4.000000                  1010.500000   \n",
       "max    660737.000000     1.000000    11.000000                  2272.000000   \n",
       "\n",
       "       Page Views Per Visit  \n",
       "count           5947.000000  \n",
       "mean               2.184014  \n",
       "std                1.640378  \n",
       "min                0.000000  \n",
       "25%                1.000000  \n",
       "50%                2.000000  \n",
       "75%                3.000000  \n",
       "max                6.000000  "
      ]
     },
     "execution_count": 49,
     "metadata": {},
     "output_type": "execute_result"
    }
   ],
   "source": [
    "leadscore.describe()"
   ]
  },
  {
   "cell_type": "code",
   "execution_count": 50,
   "id": "804f3e58",
   "metadata": {},
   "outputs": [
    {
     "data": {
      "text/html": [
       "<div>\n",
       "<style scoped>\n",
       "    .dataframe tbody tr th:only-of-type {\n",
       "        vertical-align: middle;\n",
       "    }\n",
       "\n",
       "    .dataframe tbody tr th {\n",
       "        vertical-align: top;\n",
       "    }\n",
       "\n",
       "    .dataframe thead th {\n",
       "        text-align: right;\n",
       "    }\n",
       "</style>\n",
       "<table border=\"1\" class=\"dataframe\">\n",
       "  <thead>\n",
       "    <tr style=\"text-align: right;\">\n",
       "      <th></th>\n",
       "      <th>Lead Number</th>\n",
       "      <th>Lead Origin</th>\n",
       "      <th>Lead Source</th>\n",
       "      <th>Do Not Email</th>\n",
       "      <th>Converted</th>\n",
       "      <th>TotalVisits</th>\n",
       "      <th>Total Time Spent on Website</th>\n",
       "      <th>Page Views Per Visit</th>\n",
       "      <th>Last Activity</th>\n",
       "      <th>Specialization</th>\n",
       "      <th>What is your current occupation</th>\n",
       "      <th>A free copy of Mastering The Interview</th>\n",
       "      <th>Last Notable Activity</th>\n",
       "    </tr>\n",
       "  </thead>\n",
       "  <tbody>\n",
       "    <tr>\n",
       "      <th>0</th>\n",
       "      <td>660737</td>\n",
       "      <td>API</td>\n",
       "      <td>Olark Chat</td>\n",
       "      <td>No</td>\n",
       "      <td>0</td>\n",
       "      <td>0.0</td>\n",
       "      <td>0</td>\n",
       "      <td>0.0</td>\n",
       "      <td>Page Visited on Website</td>\n",
       "      <td>Select</td>\n",
       "      <td>Unemployed</td>\n",
       "      <td>No</td>\n",
       "      <td>Modified</td>\n",
       "    </tr>\n",
       "    <tr>\n",
       "      <th>1</th>\n",
       "      <td>660728</td>\n",
       "      <td>API</td>\n",
       "      <td>Organic Search</td>\n",
       "      <td>No</td>\n",
       "      <td>0</td>\n",
       "      <td>5.0</td>\n",
       "      <td>674</td>\n",
       "      <td>2.5</td>\n",
       "      <td>Email Opened</td>\n",
       "      <td>Select</td>\n",
       "      <td>Unemployed</td>\n",
       "      <td>No</td>\n",
       "      <td>Email Opened</td>\n",
       "    </tr>\n",
       "    <tr>\n",
       "      <th>2</th>\n",
       "      <td>660727</td>\n",
       "      <td>Landing Page Submission</td>\n",
       "      <td>Direct Traffic</td>\n",
       "      <td>No</td>\n",
       "      <td>1</td>\n",
       "      <td>2.0</td>\n",
       "      <td>1532</td>\n",
       "      <td>2.0</td>\n",
       "      <td>Email Opened</td>\n",
       "      <td>Business Administration</td>\n",
       "      <td>Student</td>\n",
       "      <td>Yes</td>\n",
       "      <td>Email Opened</td>\n",
       "    </tr>\n",
       "    <tr>\n",
       "      <th>3</th>\n",
       "      <td>660719</td>\n",
       "      <td>Landing Page Submission</td>\n",
       "      <td>Direct Traffic</td>\n",
       "      <td>No</td>\n",
       "      <td>0</td>\n",
       "      <td>1.0</td>\n",
       "      <td>305</td>\n",
       "      <td>1.0</td>\n",
       "      <td>Unreachable</td>\n",
       "      <td>Media and Advertising</td>\n",
       "      <td>Unemployed</td>\n",
       "      <td>No</td>\n",
       "      <td>Modified</td>\n",
       "    </tr>\n",
       "    <tr>\n",
       "      <th>4</th>\n",
       "      <td>660681</td>\n",
       "      <td>Landing Page Submission</td>\n",
       "      <td>Google</td>\n",
       "      <td>No</td>\n",
       "      <td>1</td>\n",
       "      <td>2.0</td>\n",
       "      <td>1428</td>\n",
       "      <td>1.0</td>\n",
       "      <td>Converted to Lead</td>\n",
       "      <td>Select</td>\n",
       "      <td>Unemployed</td>\n",
       "      <td>No</td>\n",
       "      <td>Modified</td>\n",
       "    </tr>\n",
       "  </tbody>\n",
       "</table>\n",
       "</div>"
      ],
      "text/plain": [
       "   Lead Number              Lead Origin     Lead Source Do Not Email  \\\n",
       "0       660737                      API      Olark Chat           No   \n",
       "1       660728                      API  Organic Search           No   \n",
       "2       660727  Landing Page Submission  Direct Traffic           No   \n",
       "3       660719  Landing Page Submission  Direct Traffic           No   \n",
       "4       660681  Landing Page Submission          Google           No   \n",
       "\n",
       "   Converted  TotalVisits  Total Time Spent on Website  Page Views Per Visit  \\\n",
       "0          0          0.0                            0                   0.0   \n",
       "1          0          5.0                          674                   2.5   \n",
       "2          1          2.0                         1532                   2.0   \n",
       "3          0          1.0                          305                   1.0   \n",
       "4          1          2.0                         1428                   1.0   \n",
       "\n",
       "             Last Activity           Specialization  \\\n",
       "0  Page Visited on Website                   Select   \n",
       "1             Email Opened                   Select   \n",
       "2             Email Opened  Business Administration   \n",
       "3              Unreachable    Media and Advertising   \n",
       "4        Converted to Lead                   Select   \n",
       "\n",
       "  What is your current occupation A free copy of Mastering The Interview  \\\n",
       "0                      Unemployed                                     No   \n",
       "1                      Unemployed                                     No   \n",
       "2                         Student                                    Yes   \n",
       "3                      Unemployed                                     No   \n",
       "4                      Unemployed                                     No   \n",
       "\n",
       "  Last Notable Activity  \n",
       "0              Modified  \n",
       "1          Email Opened  \n",
       "2          Email Opened  \n",
       "3              Modified  \n",
       "4              Modified  "
      ]
     },
     "execution_count": 50,
     "metadata": {},
     "output_type": "execute_result"
    }
   ],
   "source": [
    "leadscore.head()"
   ]
  },
  {
   "cell_type": "markdown",
   "id": "42a8e091",
   "metadata": {},
   "source": [
    "## Categorical columns"
   ]
  },
  {
   "cell_type": "code",
   "execution_count": 51,
   "id": "94b66e5a",
   "metadata": {},
   "outputs": [
    {
     "data": {
      "image/png": "[encoded data removed]",
      "text/plain": [
       "<Figure size 792x576 with 1 Axes>"
      ]
     },
     "metadata": {
      "needs_background": "light"
     },
     "output_type": "display_data"
    }
   ],
   "source": [
    "# let's plot bargraph of lead origin\n",
    "plt.figure(figsize = (11, 8))\n",
    "\n",
    "leadscore.groupby('Lead Origin')['Lead Number'].count().sort_values().plot(kind= 'barh', width = 0.8, \n",
    "                                                            edgecolor = 'black', \n",
    "                                                            color = plt.cm.Paired(np.arange(len(leadscore))))\n",
    "plt.show()"
   ]
  },
  {
   "cell_type": "code",
   "execution_count": 52,
   "id": "4a39d322",
   "metadata": {},
   "outputs": [
    {
     "data": {
      "image/png": "[encoded data removed]",
      "text/plain": [
       "<Figure size 792x576 with 1 Axes>"
      ]
     },
     "metadata": {
      "needs_background": "light"
     },
     "output_type": "display_data"
    }
   ],
   "source": [
    "# let's plot bargraph of Lead Source\n",
    "plt.figure(figsize = (11, 8))\n",
    "\n",
    "leadscore.groupby('Lead Source')['Lead Number'].count().sort_values().plot(kind= 'barh', width = 0.8, \n",
    "                                                            edgecolor = 'black', \n",
    "                                                            color = plt.cm.Paired(np.arange(len(leadscore))))\n",
    "plt.show()"
   ]
  },
  {
   "cell_type": "code",
   "execution_count": 53,
   "id": "6917036d",
   "metadata": {},
   "outputs": [
    {
     "data": {
      "image/png": "[encoded data removed]",
      "text/plain": [
       "<Figure size 792x576 with 1 Axes>"
      ]
     },
     "metadata": {
      "needs_background": "light"
     },
     "output_type": "display_data"
    }
   ],
   "source": [
    "# let's plot bargraph of Last Activity\n",
    "plt.figure(figsize = (11, 8))\n",
    "\n",
    "leadscore.groupby('Last Activity')['Lead Number'].count().sort_values().plot(kind= 'barh', width = 0.8, \n",
    "                                                            edgecolor = 'black', \n",
    "                                                            color = plt.cm.Paired(np.arange(len(leadscore))))\n",
    "plt.show()"
   ]
  },
  {
   "cell_type": "code",
   "execution_count": 54,
   "id": "0aaa6124",
   "metadata": {},
   "outputs": [
    {
     "data": {
      "image/png": "[encoded data removed]",
      "text/plain": [
       "<Figure size 792x576 with 1 Axes>"
      ]
     },
     "metadata": {
      "needs_background": "light"
     },
     "output_type": "display_data"
    }
   ],
   "source": [
    "# let's plot bargraph of Specialization\n",
    "plt.figure(figsize = (11, 8))\n",
    "\n",
    "leadscore.groupby('Specialization')['Lead Number'].count().sort_values().plot(kind= 'barh', width = 0.8, \n",
    "                                                            edgecolor = 'black', \n",
    "                                                            color = plt.cm.Paired(np.arange(len(leadscore))))\n",
    "plt.show()"
   ]
  },
  {
   "cell_type": "code",
   "execution_count": 55,
   "id": "22109eda",
   "metadata": {},
   "outputs": [
    {
     "data": {
      "image/png": "[encoded data removed]",
      "text/plain": [
       "<Figure size 792x576 with 1 Axes>"
      ]
     },
     "metadata": {
      "needs_background": "light"
     },
     "output_type": "display_data"
    }
   ],
   "source": [
    "# let's plot bargraph of What is your current occupation\n",
    "plt.figure(figsize = (11, 8))\n",
    "\n",
    "leadscore.groupby('What is your current occupation')['Lead Number'].count().sort_values().plot(kind= 'barh', width = 0.8, \n",
    "                                                            edgecolor = 'black', \n",
    "                                                            color = plt.cm.Paired(np.arange(len(leadscore))))\n",
    "plt.show()"
   ]
  },
  {
   "cell_type": "code",
   "execution_count": 56,
   "id": "0ef51d8f",
   "metadata": {},
   "outputs": [
    {
     "data": {
      "image/png": "[encoded data removed]",
      "text/plain": [
       "<Figure size 792x576 with 1 Axes>"
      ]
     },
     "metadata": {
      "needs_background": "light"
     },
     "output_type": "display_data"
    }
   ],
   "source": [
    "# let's plot bargraph of Last Notable Activity\n",
    "plt.figure(figsize = (11, 8))\n",
    "\n",
    "leadscore.groupby('Last Notable Activity')['Lead Number'].count().sort_values().plot(kind= 'barh', width = 0.8, \n",
    "                                                            edgecolor = 'black', \n",
    "                                                            color = plt.cm.Paired(np.arange(len(leadscore))))\n",
    "plt.show()"
   ]
  },
  {
   "cell_type": "markdown",
   "id": "7847ff3a",
   "metadata": {},
   "source": [
    "## Dummy variable creation"
   ]
  },
  {
   "cell_type": "code",
   "execution_count": 57,
   "id": "b4cef034",
   "metadata": {},
   "outputs": [
    {
     "data": {
      "text/plain": [
       "Index(['Lead Origin', 'Lead Source', 'Do Not Email', 'Last Activity',\n",
       "       'Specialization', 'What is your current occupation',\n",
       "       'A free copy of Mastering The Interview', 'Last Notable Activity'],\n",
       "      dtype='object')"
      ]
     },
     "execution_count": 57,
     "metadata": {},
     "output_type": "execute_result"
    }
   ],
   "source": [
    "# Check the columns which are of type 'object'\n",
    "\n",
    "temp = leadscore.loc[:, leadscore.dtypes == 'object']\n",
    "temp.columns"
   ]
  },
  {
   "cell_type": "code",
   "execution_count": 58,
   "id": "e7393682",
   "metadata": {},
   "outputs": [],
   "source": [
    "# Create dummy variables using the 'get_dummies' command\n",
    "dummy = pd.get_dummies(leadscore[['Lead Origin', 'Lead Source', 'Do Not Email', 'Last Activity',\n",
    "                              'What is your current occupation','A free copy of Mastering The Interview', \n",
    "                              'Last Notable Activity']], drop_first=True)\n",
    "\n",
    "# Add the results to the master dataframe\n",
    "leadscore = pd.concat([leadscore, dummy], axis=1)"
   ]
  },
  {
   "cell_type": "code",
   "execution_count": 59,
   "id": "5911c329",
   "metadata": {},
   "outputs": [],
   "source": [
    "#Creating dummy variable separately for the variable 'Specialization' since it has the level 'Select' which is useless so we\n",
    "# drop that level by specifying it explicitly\n",
    "\n",
    "dummy_spl = pd.get_dummies(leadscore['Specialization'], prefix = 'Specialization')\n",
    "dummy_spl = dummy_spl.drop(['Specialization_Select'], 1)\n",
    "leadscore = pd.concat([leadscore, dummy_spl], axis = 1)"
   ]
  },
  {
   "cell_type": "code",
   "execution_count": 60,
   "id": "ff4083f6",
   "metadata": {},
   "outputs": [],
   "source": [
    "# Drop the variables for which the dummy variables have been created\n",
    "\n",
    "leadscore = leadscore.drop(['Lead Origin', 'Lead Source', 'Do Not Email', 'Last Activity',\n",
    "                   'Specialization', 'What is your current occupation',\n",
    "                   'A free copy of Mastering The Interview', 'Last Notable Activity'], 1)"
   ]
  },
  {
   "cell_type": "code",
   "execution_count": 61,
   "id": "360f54f3",
   "metadata": {},
   "outputs": [],
   "source": [
    "# 'Lead Number' is not needed anymore so we gonna remove that.\n",
    "leadscore.drop(['Lead Number'], 1, inplace = True)"
   ]
  },
  {
   "cell_type": "code",
   "execution_count": 62,
   "id": "b9f5885b",
   "metadata": {},
   "outputs": [
    {
     "data": {
      "text/html": [
       "<div>\n",
       "<style scoped>\n",
       "    .dataframe tbody tr th:only-of-type {\n",
       "        vertical-align: middle;\n",
       "    }\n",
       "\n",
       "    .dataframe tbody tr th {\n",
       "        vertical-align: top;\n",
       "    }\n",
       "\n",
       "    .dataframe thead th {\n",
       "        text-align: right;\n",
       "    }\n",
       "</style>\n",
       "<table border=\"1\" class=\"dataframe\">\n",
       "  <thead>\n",
       "    <tr style=\"text-align: right;\">\n",
       "      <th></th>\n",
       "      <th>Converted</th>\n",
       "      <th>TotalVisits</th>\n",
       "      <th>Total Time Spent on Website</th>\n",
       "      <th>Page Views Per Visit</th>\n",
       "      <th>Lead Origin_Landing Page Submission</th>\n",
       "      <th>Lead Origin_Lead Add Form</th>\n",
       "      <th>Lead Origin_Lead Import</th>\n",
       "      <th>Lead Source_Direct Traffic</th>\n",
       "      <th>Lead Source_Facebook</th>\n",
       "      <th>Lead Source_Google</th>\n",
       "      <th>...</th>\n",
       "      <th>Specialization_IT Projects Management</th>\n",
       "      <th>Specialization_International Business</th>\n",
       "      <th>Specialization_Marketing Management</th>\n",
       "      <th>Specialization_Media and Advertising</th>\n",
       "      <th>Specialization_Operations Management</th>\n",
       "      <th>Specialization_Retail Management</th>\n",
       "      <th>Specialization_Rural and Agribusiness</th>\n",
       "      <th>Specialization_Services Excellence</th>\n",
       "      <th>Specialization_Supply Chain Management</th>\n",
       "      <th>Specialization_Travel and Tourism</th>\n",
       "    </tr>\n",
       "  </thead>\n",
       "  <tbody>\n",
       "    <tr>\n",
       "      <th>0</th>\n",
       "      <td>0</td>\n",
       "      <td>0.0</td>\n",
       "      <td>0</td>\n",
       "      <td>0.0</td>\n",
       "      <td>0</td>\n",
       "      <td>0</td>\n",
       "      <td>0</td>\n",
       "      <td>0</td>\n",
       "      <td>0</td>\n",
       "      <td>0</td>\n",
       "      <td>...</td>\n",
       "      <td>0</td>\n",
       "      <td>0</td>\n",
       "      <td>0</td>\n",
       "      <td>0</td>\n",
       "      <td>0</td>\n",
       "      <td>0</td>\n",
       "      <td>0</td>\n",
       "      <td>0</td>\n",
       "      <td>0</td>\n",
       "      <td>0</td>\n",
       "    </tr>\n",
       "    <tr>\n",
       "      <th>1</th>\n",
       "      <td>0</td>\n",
       "      <td>5.0</td>\n",
       "      <td>674</td>\n",
       "      <td>2.5</td>\n",
       "      <td>0</td>\n",
       "      <td>0</td>\n",
       "      <td>0</td>\n",
       "      <td>0</td>\n",
       "      <td>0</td>\n",
       "      <td>0</td>\n",
       "      <td>...</td>\n",
       "      <td>0</td>\n",
       "      <td>0</td>\n",
       "      <td>0</td>\n",
       "      <td>0</td>\n",
       "      <td>0</td>\n",
       "      <td>0</td>\n",
       "      <td>0</td>\n",
       "      <td>0</td>\n",
       "      <td>0</td>\n",
       "      <td>0</td>\n",
       "    </tr>\n",
       "    <tr>\n",
       "      <th>2</th>\n",
       "      <td>1</td>\n",
       "      <td>2.0</td>\n",
       "      <td>1532</td>\n",
       "      <td>2.0</td>\n",
       "      <td>1</td>\n",
       "      <td>0</td>\n",
       "      <td>0</td>\n",
       "      <td>1</td>\n",
       "      <td>0</td>\n",
       "      <td>0</td>\n",
       "      <td>...</td>\n",
       "      <td>0</td>\n",
       "      <td>0</td>\n",
       "      <td>0</td>\n",
       "      <td>0</td>\n",
       "      <td>0</td>\n",
       "      <td>0</td>\n",
       "      <td>0</td>\n",
       "      <td>0</td>\n",
       "      <td>0</td>\n",
       "      <td>0</td>\n",
       "    </tr>\n",
       "    <tr>\n",
       "      <th>3</th>\n",
       "      <td>0</td>\n",
       "      <td>1.0</td>\n",
       "      <td>305</td>\n",
       "      <td>1.0</td>\n",
       "      <td>1</td>\n",
       "      <td>0</td>\n",
       "      <td>0</td>\n",
       "      <td>1</td>\n",
       "      <td>0</td>\n",
       "      <td>0</td>\n",
       "      <td>...</td>\n",
       "      <td>0</td>\n",
       "      <td>0</td>\n",
       "      <td>0</td>\n",
       "      <td>1</td>\n",
       "      <td>0</td>\n",
       "      <td>0</td>\n",
       "      <td>0</td>\n",
       "      <td>0</td>\n",
       "      <td>0</td>\n",
       "      <td>0</td>\n",
       "    </tr>\n",
       "    <tr>\n",
       "      <th>4</th>\n",
       "      <td>1</td>\n",
       "      <td>2.0</td>\n",
       "      <td>1428</td>\n",
       "      <td>1.0</td>\n",
       "      <td>1</td>\n",
       "      <td>0</td>\n",
       "      <td>0</td>\n",
       "      <td>0</td>\n",
       "      <td>0</td>\n",
       "      <td>1</td>\n",
       "      <td>...</td>\n",
       "      <td>0</td>\n",
       "      <td>0</td>\n",
       "      <td>0</td>\n",
       "      <td>0</td>\n",
       "      <td>0</td>\n",
       "      <td>0</td>\n",
       "      <td>0</td>\n",
       "      <td>0</td>\n",
       "      <td>0</td>\n",
       "      <td>0</td>\n",
       "    </tr>\n",
       "  </tbody>\n",
       "</table>\n",
       "<p>5 rows × 75 columns</p>\n",
       "</div>"
      ],
      "text/plain": [
       "   Converted  TotalVisits  Total Time Spent on Website  Page Views Per Visit  \\\n",
       "0          0          0.0                            0                   0.0   \n",
       "1          0          5.0                          674                   2.5   \n",
       "2          1          2.0                         1532                   2.0   \n",
       "3          0          1.0                          305                   1.0   \n",
       "4          1          2.0                         1428                   1.0   \n",
       "\n",
       "   Lead Origin_Landing Page Submission  Lead Origin_Lead Add Form  \\\n",
       "0                                    0                          0   \n",
       "1                                    0                          0   \n",
       "2                                    1                          0   \n",
       "3                                    1                          0   \n",
       "4                                    1                          0   \n",
       "\n",
       "   Lead Origin_Lead Import  Lead Source_Direct Traffic  Lead Source_Facebook  \\\n",
       "0                        0                           0                     0   \n",
       "1                        0                           0                     0   \n",
       "2                        0                           1                     0   \n",
       "3                        0                           1                     0   \n",
       "4                        0                           0                     0   \n",
       "\n",
       "   Lead Source_Google  ...  Specialization_IT Projects Management  \\\n",
       "0                   0  ...                                      0   \n",
       "1                   0  ...                                      0   \n",
       "2                   0  ...                                      0   \n",
       "3                   0  ...                                      0   \n",
       "4                   1  ...                                      0   \n",
       "\n",
       "   Specialization_International Business  Specialization_Marketing Management  \\\n",
       "0                                      0                                    0   \n",
       "1                                      0                                    0   \n",
       "2                                      0                                    0   \n",
       "3                                      0                                    0   \n",
       "4                                      0                                    0   \n",
       "\n",
       "   Specialization_Media and Advertising  Specialization_Operations Management  \\\n",
       "0                                     0                                     0   \n",
       "1                                     0                                     0   \n",
       "2                                     0                                     0   \n",
       "3                                     1                                     0   \n",
       "4                                     0                                     0   \n",
       "\n",
       "   Specialization_Retail Management  Specialization_Rural and Agribusiness  \\\n",
       "0                                 0                                      0   \n",
       "1                                 0                                      0   \n",
       "2                                 0                                      0   \n",
       "3                                 0                                      0   \n",
       "4                                 0                                      0   \n",
       "\n",
       "   Specialization_Services Excellence  Specialization_Supply Chain Management  \\\n",
       "0                                   0                                       0   \n",
       "1                                   0                                       0   \n",
       "2                                   0                                       0   \n",
       "3                                   0                                       0   \n",
       "4                                   0                                       0   \n",
       "\n",
       "   Specialization_Travel and Tourism  \n",
       "0                                  0  \n",
       "1                                  0  \n",
       "2                                  0  \n",
       "3                                  0  \n",
       "4                                  0  \n",
       "\n",
       "[5 rows x 75 columns]"
      ]
     },
     "execution_count": 62,
     "metadata": {},
     "output_type": "execute_result"
    }
   ],
   "source": [
    "# Let's take a look at the dataset again\n",
    "\n",
    "leadscore.head()"
   ]
  },
  {
   "cell_type": "markdown",
   "id": "d2d9d921",
   "metadata": {},
   "source": [
    " ## Test-Train Split"
   ]
  },
  {
   "cell_type": "code",
   "execution_count": 63,
   "id": "d6f89267",
   "metadata": {},
   "outputs": [
    {
     "data": {
      "text/html": [
       "<div>\n",
       "<style scoped>\n",
       "    .dataframe tbody tr th:only-of-type {\n",
       "        vertical-align: middle;\n",
       "    }\n",
       "\n",
       "    .dataframe tbody tr th {\n",
       "        vertical-align: top;\n",
       "    }\n",
       "\n",
       "    .dataframe thead th {\n",
       "        text-align: right;\n",
       "    }\n",
       "</style>\n",
       "<table border=\"1\" class=\"dataframe\">\n",
       "  <thead>\n",
       "    <tr style=\"text-align: right;\">\n",
       "      <th></th>\n",
       "      <th>TotalVisits</th>\n",
       "      <th>Total Time Spent on Website</th>\n",
       "      <th>Page Views Per Visit</th>\n",
       "      <th>Lead Origin_Landing Page Submission</th>\n",
       "      <th>Lead Origin_Lead Add Form</th>\n",
       "      <th>Lead Origin_Lead Import</th>\n",
       "      <th>Lead Source_Direct Traffic</th>\n",
       "      <th>Lead Source_Facebook</th>\n",
       "      <th>Lead Source_Google</th>\n",
       "      <th>Lead Source_Live Chat</th>\n",
       "      <th>...</th>\n",
       "      <th>Specialization_IT Projects Management</th>\n",
       "      <th>Specialization_International Business</th>\n",
       "      <th>Specialization_Marketing Management</th>\n",
       "      <th>Specialization_Media and Advertising</th>\n",
       "      <th>Specialization_Operations Management</th>\n",
       "      <th>Specialization_Retail Management</th>\n",
       "      <th>Specialization_Rural and Agribusiness</th>\n",
       "      <th>Specialization_Services Excellence</th>\n",
       "      <th>Specialization_Supply Chain Management</th>\n",
       "      <th>Specialization_Travel and Tourism</th>\n",
       "    </tr>\n",
       "  </thead>\n",
       "  <tbody>\n",
       "    <tr>\n",
       "      <th>0</th>\n",
       "      <td>0.0</td>\n",
       "      <td>0</td>\n",
       "      <td>0.0</td>\n",
       "      <td>0</td>\n",
       "      <td>0</td>\n",
       "      <td>0</td>\n",
       "      <td>0</td>\n",
       "      <td>0</td>\n",
       "      <td>0</td>\n",
       "      <td>0</td>\n",
       "      <td>...</td>\n",
       "      <td>0</td>\n",
       "      <td>0</td>\n",
       "      <td>0</td>\n",
       "      <td>0</td>\n",
       "      <td>0</td>\n",
       "      <td>0</td>\n",
       "      <td>0</td>\n",
       "      <td>0</td>\n",
       "      <td>0</td>\n",
       "      <td>0</td>\n",
       "    </tr>\n",
       "    <tr>\n",
       "      <th>1</th>\n",
       "      <td>5.0</td>\n",
       "      <td>674</td>\n",
       "      <td>2.5</td>\n",
       "      <td>0</td>\n",
       "      <td>0</td>\n",
       "      <td>0</td>\n",
       "      <td>0</td>\n",
       "      <td>0</td>\n",
       "      <td>0</td>\n",
       "      <td>0</td>\n",
       "      <td>...</td>\n",
       "      <td>0</td>\n",
       "      <td>0</td>\n",
       "      <td>0</td>\n",
       "      <td>0</td>\n",
       "      <td>0</td>\n",
       "      <td>0</td>\n",
       "      <td>0</td>\n",
       "      <td>0</td>\n",
       "      <td>0</td>\n",
       "      <td>0</td>\n",
       "    </tr>\n",
       "    <tr>\n",
       "      <th>2</th>\n",
       "      <td>2.0</td>\n",
       "      <td>1532</td>\n",
       "      <td>2.0</td>\n",
       "      <td>1</td>\n",
       "      <td>0</td>\n",
       "      <td>0</td>\n",
       "      <td>1</td>\n",
       "      <td>0</td>\n",
       "      <td>0</td>\n",
       "      <td>0</td>\n",
       "      <td>...</td>\n",
       "      <td>0</td>\n",
       "      <td>0</td>\n",
       "      <td>0</td>\n",
       "      <td>0</td>\n",
       "      <td>0</td>\n",
       "      <td>0</td>\n",
       "      <td>0</td>\n",
       "      <td>0</td>\n",
       "      <td>0</td>\n",
       "      <td>0</td>\n",
       "    </tr>\n",
       "    <tr>\n",
       "      <th>3</th>\n",
       "      <td>1.0</td>\n",
       "      <td>305</td>\n",
       "      <td>1.0</td>\n",
       "      <td>1</td>\n",
       "      <td>0</td>\n",
       "      <td>0</td>\n",
       "      <td>1</td>\n",
       "      <td>0</td>\n",
       "      <td>0</td>\n",
       "      <td>0</td>\n",
       "      <td>...</td>\n",
       "      <td>0</td>\n",
       "      <td>0</td>\n",
       "      <td>0</td>\n",
       "      <td>1</td>\n",
       "      <td>0</td>\n",
       "      <td>0</td>\n",
       "      <td>0</td>\n",
       "      <td>0</td>\n",
       "      <td>0</td>\n",
       "      <td>0</td>\n",
       "    </tr>\n",
       "    <tr>\n",
       "      <th>4</th>\n",
       "      <td>2.0</td>\n",
       "      <td>1428</td>\n",
       "      <td>1.0</td>\n",
       "      <td>1</td>\n",
       "      <td>0</td>\n",
       "      <td>0</td>\n",
       "      <td>0</td>\n",
       "      <td>0</td>\n",
       "      <td>1</td>\n",
       "      <td>0</td>\n",
       "      <td>...</td>\n",
       "      <td>0</td>\n",
       "      <td>0</td>\n",
       "      <td>0</td>\n",
       "      <td>0</td>\n",
       "      <td>0</td>\n",
       "      <td>0</td>\n",
       "      <td>0</td>\n",
       "      <td>0</td>\n",
       "      <td>0</td>\n",
       "      <td>0</td>\n",
       "    </tr>\n",
       "  </tbody>\n",
       "</table>\n",
       "<p>5 rows × 74 columns</p>\n",
       "</div>"
      ],
      "text/plain": [
       "   TotalVisits  Total Time Spent on Website  Page Views Per Visit  \\\n",
       "0          0.0                            0                   0.0   \n",
       "1          5.0                          674                   2.5   \n",
       "2          2.0                         1532                   2.0   \n",
       "3          1.0                          305                   1.0   \n",
       "4          2.0                         1428                   1.0   \n",
       "\n",
       "   Lead Origin_Landing Page Submission  Lead Origin_Lead Add Form  \\\n",
       "0                                    0                          0   \n",
       "1                                    0                          0   \n",
       "2                                    1                          0   \n",
       "3                                    1                          0   \n",
       "4                                    1                          0   \n",
       "\n",
       "   Lead Origin_Lead Import  Lead Source_Direct Traffic  Lead Source_Facebook  \\\n",
       "0                        0                           0                     0   \n",
       "1                        0                           0                     0   \n",
       "2                        0                           1                     0   \n",
       "3                        0                           1                     0   \n",
       "4                        0                           0                     0   \n",
       "\n",
       "   Lead Source_Google  Lead Source_Live Chat  ...  \\\n",
       "0                   0                      0  ...   \n",
       "1                   0                      0  ...   \n",
       "2                   0                      0  ...   \n",
       "3                   0                      0  ...   \n",
       "4                   1                      0  ...   \n",
       "\n",
       "   Specialization_IT Projects Management  \\\n",
       "0                                      0   \n",
       "1                                      0   \n",
       "2                                      0   \n",
       "3                                      0   \n",
       "4                                      0   \n",
       "\n",
       "   Specialization_International Business  Specialization_Marketing Management  \\\n",
       "0                                      0                                    0   \n",
       "1                                      0                                    0   \n",
       "2                                      0                                    0   \n",
       "3                                      0                                    0   \n",
       "4                                      0                                    0   \n",
       "\n",
       "   Specialization_Media and Advertising  Specialization_Operations Management  \\\n",
       "0                                     0                                     0   \n",
       "1                                     0                                     0   \n",
       "2                                     0                                     0   \n",
       "3                                     1                                     0   \n",
       "4                                     0                                     0   \n",
       "\n",
       "   Specialization_Retail Management  Specialization_Rural and Agribusiness  \\\n",
       "0                                 0                                      0   \n",
       "1                                 0                                      0   \n",
       "2                                 0                                      0   \n",
       "3                                 0                                      0   \n",
       "4                                 0                                      0   \n",
       "\n",
       "   Specialization_Services Excellence  Specialization_Supply Chain Management  \\\n",
       "0                                   0                                       0   \n",
       "1                                   0                                       0   \n",
       "2                                   0                                       0   \n",
       "3                                   0                                       0   \n",
       "4                                   0                                       0   \n",
       "\n",
       "   Specialization_Travel and Tourism  \n",
       "0                                  0  \n",
       "1                                  0  \n",
       "2                                  0  \n",
       "3                                  0  \n",
       "4                                  0  \n",
       "\n",
       "[5 rows x 74 columns]"
      ]
     },
     "execution_count": 63,
     "metadata": {},
     "output_type": "execute_result"
    }
   ],
   "source": [
    "# Put all the feature variables in X\n",
    "\n",
    "X = leadscore.drop(['Converted'], 1)\n",
    "X.head()"
   ]
  },
  {
   "cell_type": "code",
   "execution_count": 64,
   "id": "c85bfa4a",
   "metadata": {},
   "outputs": [
    {
     "data": {
      "text/plain": [
       "0    0\n",
       "1    0\n",
       "2    1\n",
       "3    0\n",
       "4    1\n",
       "Name: Converted, dtype: int64"
      ]
     },
     "execution_count": 64,
     "metadata": {},
     "output_type": "execute_result"
    }
   ],
   "source": [
    "# Put the target variable in y\n",
    "\n",
    "y = leadscore['Converted']\n",
    "\n",
    "y.head()"
   ]
  },
  {
   "cell_type": "code",
   "execution_count": 65,
   "id": "60eab07c",
   "metadata": {},
   "outputs": [],
   "source": [
    "# Split the dataset into 70% train and 30% test\n",
    "\n",
    "X_train, X_test, y_train, y_test = train_test_split(X, y, train_size=0.7, test_size=0.3, random_state=100)"
   ]
  },
  {
   "cell_type": "markdown",
   "id": "7ea7e88b",
   "metadata": {},
   "source": [
    "## Feature Scaling"
   ]
  },
  {
   "cell_type": "code",
   "execution_count": 66,
   "id": "a17a9826",
   "metadata": {
    "scrolled": true
   },
   "outputs": [
    {
     "data": {
      "text/html": [
       "<div>\n",
       "<style scoped>\n",
       "    .dataframe tbody tr th:only-of-type {\n",
       "        vertical-align: middle;\n",
       "    }\n",
       "\n",
       "    .dataframe tbody tr th {\n",
       "        vertical-align: top;\n",
       "    }\n",
       "\n",
       "    .dataframe thead th {\n",
       "        text-align: right;\n",
       "    }\n",
       "</style>\n",
       "<table border=\"1\" class=\"dataframe\">\n",
       "  <thead>\n",
       "    <tr style=\"text-align: right;\">\n",
       "      <th></th>\n",
       "      <th>TotalVisits</th>\n",
       "      <th>Total Time Spent on Website</th>\n",
       "      <th>Page Views Per Visit</th>\n",
       "      <th>Lead Origin_Landing Page Submission</th>\n",
       "      <th>Lead Origin_Lead Add Form</th>\n",
       "      <th>Lead Origin_Lead Import</th>\n",
       "      <th>Lead Source_Direct Traffic</th>\n",
       "      <th>Lead Source_Facebook</th>\n",
       "      <th>Lead Source_Google</th>\n",
       "      <th>Lead Source_Live Chat</th>\n",
       "      <th>...</th>\n",
       "      <th>Specialization_IT Projects Management</th>\n",
       "      <th>Specialization_International Business</th>\n",
       "      <th>Specialization_Marketing Management</th>\n",
       "      <th>Specialization_Media and Advertising</th>\n",
       "      <th>Specialization_Operations Management</th>\n",
       "      <th>Specialization_Retail Management</th>\n",
       "      <th>Specialization_Rural and Agribusiness</th>\n",
       "      <th>Specialization_Services Excellence</th>\n",
       "      <th>Specialization_Supply Chain Management</th>\n",
       "      <th>Specialization_Travel and Tourism</th>\n",
       "    </tr>\n",
       "  </thead>\n",
       "  <tbody>\n",
       "    <tr>\n",
       "      <th>1871</th>\n",
       "      <td>-1.200474</td>\n",
       "      <td>-0.924488</td>\n",
       "      <td>-1.317923</td>\n",
       "      <td>0</td>\n",
       "      <td>0</td>\n",
       "      <td>0</td>\n",
       "      <td>0</td>\n",
       "      <td>0</td>\n",
       "      <td>0</td>\n",
       "      <td>0</td>\n",
       "      <td>...</td>\n",
       "      <td>0</td>\n",
       "      <td>0</td>\n",
       "      <td>1</td>\n",
       "      <td>0</td>\n",
       "      <td>0</td>\n",
       "      <td>0</td>\n",
       "      <td>0</td>\n",
       "      <td>0</td>\n",
       "      <td>0</td>\n",
       "      <td>0</td>\n",
       "    </tr>\n",
       "    <tr>\n",
       "      <th>6885</th>\n",
       "      <td>1.270328</td>\n",
       "      <td>1.342173</td>\n",
       "      <td>0.509245</td>\n",
       "      <td>1</td>\n",
       "      <td>0</td>\n",
       "      <td>0</td>\n",
       "      <td>1</td>\n",
       "      <td>0</td>\n",
       "      <td>0</td>\n",
       "      <td>0</td>\n",
       "      <td>...</td>\n",
       "      <td>0</td>\n",
       "      <td>0</td>\n",
       "      <td>1</td>\n",
       "      <td>0</td>\n",
       "      <td>0</td>\n",
       "      <td>0</td>\n",
       "      <td>0</td>\n",
       "      <td>0</td>\n",
       "      <td>0</td>\n",
       "      <td>0</td>\n",
       "    </tr>\n",
       "    <tr>\n",
       "      <th>3427</th>\n",
       "      <td>0.034927</td>\n",
       "      <td>-0.655927</td>\n",
       "      <td>0.509245</td>\n",
       "      <td>1</td>\n",
       "      <td>0</td>\n",
       "      <td>0</td>\n",
       "      <td>1</td>\n",
       "      <td>0</td>\n",
       "      <td>0</td>\n",
       "      <td>0</td>\n",
       "      <td>...</td>\n",
       "      <td>0</td>\n",
       "      <td>0</td>\n",
       "      <td>0</td>\n",
       "      <td>0</td>\n",
       "      <td>0</td>\n",
       "      <td>0</td>\n",
       "      <td>0</td>\n",
       "      <td>0</td>\n",
       "      <td>0</td>\n",
       "      <td>0</td>\n",
       "    </tr>\n",
       "    <tr>\n",
       "      <th>1525</th>\n",
       "      <td>0.034927</td>\n",
       "      <td>0.477404</td>\n",
       "      <td>0.509245</td>\n",
       "      <td>1</td>\n",
       "      <td>0</td>\n",
       "      <td>0</td>\n",
       "      <td>0</td>\n",
       "      <td>0</td>\n",
       "      <td>1</td>\n",
       "      <td>0</td>\n",
       "      <td>...</td>\n",
       "      <td>0</td>\n",
       "      <td>0</td>\n",
       "      <td>0</td>\n",
       "      <td>0</td>\n",
       "      <td>0</td>\n",
       "      <td>0</td>\n",
       "      <td>0</td>\n",
       "      <td>0</td>\n",
       "      <td>0</td>\n",
       "      <td>0</td>\n",
       "    </tr>\n",
       "    <tr>\n",
       "      <th>1475</th>\n",
       "      <td>0.034927</td>\n",
       "      <td>1.241910</td>\n",
       "      <td>0.509245</td>\n",
       "      <td>0</td>\n",
       "      <td>0</td>\n",
       "      <td>0</td>\n",
       "      <td>0</td>\n",
       "      <td>0</td>\n",
       "      <td>1</td>\n",
       "      <td>0</td>\n",
       "      <td>...</td>\n",
       "      <td>0</td>\n",
       "      <td>0</td>\n",
       "      <td>0</td>\n",
       "      <td>0</td>\n",
       "      <td>0</td>\n",
       "      <td>0</td>\n",
       "      <td>0</td>\n",
       "      <td>0</td>\n",
       "      <td>0</td>\n",
       "      <td>0</td>\n",
       "    </tr>\n",
       "  </tbody>\n",
       "</table>\n",
       "<p>5 rows × 74 columns</p>\n",
       "</div>"
      ],
      "text/plain": [
       "      TotalVisits  Total Time Spent on Website  Page Views Per Visit  \\\n",
       "1871    -1.200474                    -0.924488             -1.317923   \n",
       "6885     1.270328                     1.342173              0.509245   \n",
       "3427     0.034927                    -0.655927              0.509245   \n",
       "1525     0.034927                     0.477404              0.509245   \n",
       "1475     0.034927                     1.241910              0.509245   \n",
       "\n",
       "      Lead Origin_Landing Page Submission  Lead Origin_Lead Add Form  \\\n",
       "1871                                    0                          0   \n",
       "6885                                    1                          0   \n",
       "3427                                    1                          0   \n",
       "1525                                    1                          0   \n",
       "1475                                    0                          0   \n",
       "\n",
       "      Lead Origin_Lead Import  Lead Source_Direct Traffic  \\\n",
       "1871                        0                           0   \n",
       "6885                        0                           1   \n",
       "3427                        0                           1   \n",
       "1525                        0                           0   \n",
       "1475                        0                           0   \n",
       "\n",
       "      Lead Source_Facebook  Lead Source_Google  Lead Source_Live Chat  ...  \\\n",
       "1871                     0                   0                      0  ...   \n",
       "6885                     0                   0                      0  ...   \n",
       "3427                     0                   0                      0  ...   \n",
       "1525                     0                   1                      0  ...   \n",
       "1475                     0                   1                      0  ...   \n",
       "\n",
       "      Specialization_IT Projects Management  \\\n",
       "1871                                      0   \n",
       "6885                                      0   \n",
       "3427                                      0   \n",
       "1525                                      0   \n",
       "1475                                      0   \n",
       "\n",
       "      Specialization_International Business  \\\n",
       "1871                                      0   \n",
       "6885                                      0   \n",
       "3427                                      0   \n",
       "1525                                      0   \n",
       "1475                                      0   \n",
       "\n",
       "      Specialization_Marketing Management  \\\n",
       "1871                                    1   \n",
       "6885                                    1   \n",
       "3427                                    0   \n",
       "1525                                    0   \n",
       "1475                                    0   \n",
       "\n",
       "      Specialization_Media and Advertising  \\\n",
       "1871                                     0   \n",
       "6885                                     0   \n",
       "3427                                     0   \n",
       "1525                                     0   \n",
       "1475                                     0   \n",
       "\n",
       "      Specialization_Operations Management  Specialization_Retail Management  \\\n",
       "1871                                     0                                 0   \n",
       "6885                                     0                                 0   \n",
       "3427                                     0                                 0   \n",
       "1525                                     0                                 0   \n",
       "1475                                     0                                 0   \n",
       "\n",
       "      Specialization_Rural and Agribusiness  \\\n",
       "1871                                      0   \n",
       "6885                                      0   \n",
       "3427                                      0   \n",
       "1525                                      0   \n",
       "1475                                      0   \n",
       "\n",
       "      Specialization_Services Excellence  \\\n",
       "1871                                   0   \n",
       "6885                                   0   \n",
       "3427                                   0   \n",
       "1525                                   0   \n",
       "1475                                   0   \n",
       "\n",
       "      Specialization_Supply Chain Management  \\\n",
       "1871                                       0   \n",
       "6885                                       0   \n",
       "3427                                       0   \n",
       "1525                                       0   \n",
       "1475                                       0   \n",
       "\n",
       "      Specialization_Travel and Tourism  \n",
       "1871                                  0  \n",
       "6885                                  0  \n",
       "3427                                  0  \n",
       "1525                                  0  \n",
       "1475                                  0  \n",
       "\n",
       "[5 rows x 74 columns]"
      ]
     },
     "execution_count": 66,
     "metadata": {},
     "output_type": "execute_result"
    }
   ],
   "source": [
    "scaler = StandardScaler()\n",
    "colsumnsToScale = ['TotalVisits','Total Time Spent on Website','Page Views Per Visit']\n",
    "X_train[colsumnsToScale] = scaler.fit_transform(X_train[colsumnsToScale])\n",
    "X_train.head()"
   ]
  },
  {
   "cell_type": "markdown",
   "id": "298d551c",
   "metadata": {},
   "source": [
    "## Looking at the correlations"
   ]
  },
  {
   "cell_type": "code",
   "execution_count": 67,
   "id": "f955f97a",
   "metadata": {},
   "outputs": [
    {
     "data": {
      "text/html": [
       "<div>\n",
       "<style scoped>\n",
       "    .dataframe tbody tr th:only-of-type {\n",
       "        vertical-align: middle;\n",
       "    }\n",
       "\n",
       "    .dataframe tbody tr th {\n",
       "        vertical-align: top;\n",
       "    }\n",
       "\n",
       "    .dataframe thead th {\n",
       "        text-align: right;\n",
       "    }\n",
       "</style>\n",
       "<table border=\"1\" class=\"dataframe\">\n",
       "  <thead>\n",
       "    <tr style=\"text-align: right;\">\n",
       "      <th></th>\n",
       "      <th>Converted</th>\n",
       "      <th>TotalVisits</th>\n",
       "      <th>Total Time Spent on Website</th>\n",
       "      <th>Page Views Per Visit</th>\n",
       "      <th>Lead Origin_Landing Page Submission</th>\n",
       "      <th>Lead Origin_Lead Add Form</th>\n",
       "      <th>Lead Origin_Lead Import</th>\n",
       "      <th>Lead Source_Direct Traffic</th>\n",
       "      <th>Lead Source_Facebook</th>\n",
       "      <th>Lead Source_Google</th>\n",
       "      <th>...</th>\n",
       "      <th>Specialization_IT Projects Management</th>\n",
       "      <th>Specialization_International Business</th>\n",
       "      <th>Specialization_Marketing Management</th>\n",
       "      <th>Specialization_Media and Advertising</th>\n",
       "      <th>Specialization_Operations Management</th>\n",
       "      <th>Specialization_Retail Management</th>\n",
       "      <th>Specialization_Rural and Agribusiness</th>\n",
       "      <th>Specialization_Services Excellence</th>\n",
       "      <th>Specialization_Supply Chain Management</th>\n",
       "      <th>Specialization_Travel and Tourism</th>\n",
       "    </tr>\n",
       "  </thead>\n",
       "  <tbody>\n",
       "    <tr>\n",
       "      <th>Converted</th>\n",
       "      <td>1.000000</td>\n",
       "      <td>0.000007</td>\n",
       "      <td>0.298723</td>\n",
       "      <td>-0.075521</td>\n",
       "      <td>-0.121419</td>\n",
       "      <td>0.298809</td>\n",
       "      <td>-0.017741</td>\n",
       "      <td>-0.136152</td>\n",
       "      <td>-0.019813</td>\n",
       "      <td>0.017685</td>\n",
       "      <td>...</td>\n",
       "      <td>0.001957</td>\n",
       "      <td>-0.021089</td>\n",
       "      <td>0.049376</td>\n",
       "      <td>-0.005644</td>\n",
       "      <td>0.030596</td>\n",
       "      <td>-0.014013</td>\n",
       "      <td>0.005490</td>\n",
       "      <td>-0.005628</td>\n",
       "      <td>-0.001638</td>\n",
       "      <td>-0.012083</td>\n",
       "    </tr>\n",
       "    <tr>\n",
       "      <th>TotalVisits</th>\n",
       "      <td>0.000007</td>\n",
       "      <td>1.000000</td>\n",
       "      <td>0.380470</td>\n",
       "      <td>0.739784</td>\n",
       "      <td>0.456869</td>\n",
       "      <td>-0.374147</td>\n",
       "      <td>-0.080356</td>\n",
       "      <td>0.121462</td>\n",
       "      <td>-0.077770</td>\n",
       "      <td>0.264976</td>\n",
       "      <td>...</td>\n",
       "      <td>0.045596</td>\n",
       "      <td>0.061981</td>\n",
       "      <td>0.035721</td>\n",
       "      <td>0.064462</td>\n",
       "      <td>0.039564</td>\n",
       "      <td>0.029274</td>\n",
       "      <td>0.023276</td>\n",
       "      <td>0.029412</td>\n",
       "      <td>0.049926</td>\n",
       "      <td>0.083972</td>\n",
       "    </tr>\n",
       "    <tr>\n",
       "      <th>Total Time Spent on Website</th>\n",
       "      <td>0.298723</td>\n",
       "      <td>0.380470</td>\n",
       "      <td>1.000000</td>\n",
       "      <td>0.381585</td>\n",
       "      <td>0.284935</td>\n",
       "      <td>-0.255975</td>\n",
       "      <td>-0.061467</td>\n",
       "      <td>0.125240</td>\n",
       "      <td>-0.060920</td>\n",
       "      <td>0.244153</td>\n",
       "      <td>...</td>\n",
       "      <td>0.034051</td>\n",
       "      <td>0.014174</td>\n",
       "      <td>0.056759</td>\n",
       "      <td>0.041431</td>\n",
       "      <td>0.052206</td>\n",
       "      <td>0.027467</td>\n",
       "      <td>0.014169</td>\n",
       "      <td>0.004837</td>\n",
       "      <td>0.044821</td>\n",
       "      <td>0.031628</td>\n",
       "    </tr>\n",
       "    <tr>\n",
       "      <th>Page Views Per Visit</th>\n",
       "      <td>-0.075521</td>\n",
       "      <td>0.739784</td>\n",
       "      <td>0.381585</td>\n",
       "      <td>1.000000</td>\n",
       "      <td>0.554911</td>\n",
       "      <td>-0.413605</td>\n",
       "      <td>-0.088234</td>\n",
       "      <td>0.157924</td>\n",
       "      <td>-0.083823</td>\n",
       "      <td>0.306341</td>\n",
       "      <td>...</td>\n",
       "      <td>0.064868</td>\n",
       "      <td>0.071765</td>\n",
       "      <td>0.045916</td>\n",
       "      <td>0.071892</td>\n",
       "      <td>0.052409</td>\n",
       "      <td>0.030757</td>\n",
       "      <td>0.012471</td>\n",
       "      <td>0.019981</td>\n",
       "      <td>0.061730</td>\n",
       "      <td>0.104435</td>\n",
       "    </tr>\n",
       "    <tr>\n",
       "      <th>Lead Origin_Landing Page Submission</th>\n",
       "      <td>-0.121419</td>\n",
       "      <td>0.456869</td>\n",
       "      <td>0.284935</td>\n",
       "      <td>0.554911</td>\n",
       "      <td>1.000000</td>\n",
       "      <td>-0.364778</td>\n",
       "      <td>-0.073813</td>\n",
       "      <td>0.530513</td>\n",
       "      <td>-0.070194</td>\n",
       "      <td>0.081283</td>\n",
       "      <td>...</td>\n",
       "      <td>0.134727</td>\n",
       "      <td>0.089099</td>\n",
       "      <td>0.091823</td>\n",
       "      <td>0.091478</td>\n",
       "      <td>0.103719</td>\n",
       "      <td>0.071547</td>\n",
       "      <td>0.041926</td>\n",
       "      <td>0.039589</td>\n",
       "      <td>0.112209</td>\n",
       "      <td>0.095835</td>\n",
       "    </tr>\n",
       "    <tr>\n",
       "      <th>...</th>\n",
       "      <td>...</td>\n",
       "      <td>...</td>\n",
       "      <td>...</td>\n",
       "      <td>...</td>\n",
       "      <td>...</td>\n",
       "      <td>...</td>\n",
       "      <td>...</td>\n",
       "      <td>...</td>\n",
       "      <td>...</td>\n",
       "      <td>...</td>\n",
       "      <td>...</td>\n",
       "      <td>...</td>\n",
       "      <td>...</td>\n",
       "      <td>...</td>\n",
       "      <td>...</td>\n",
       "      <td>...</td>\n",
       "      <td>...</td>\n",
       "      <td>...</td>\n",
       "      <td>...</td>\n",
       "      <td>...</td>\n",
       "      <td>...</td>\n",
       "    </tr>\n",
       "    <tr>\n",
       "      <th>Specialization_Retail Management</th>\n",
       "      <td>-0.014013</td>\n",
       "      <td>0.029274</td>\n",
       "      <td>0.027467</td>\n",
       "      <td>0.030757</td>\n",
       "      <td>0.071547</td>\n",
       "      <td>-0.025856</td>\n",
       "      <td>-0.007336</td>\n",
       "      <td>0.023434</td>\n",
       "      <td>-0.007476</td>\n",
       "      <td>0.024252</td>\n",
       "      <td>...</td>\n",
       "      <td>-0.023575</td>\n",
       "      <td>-0.016221</td>\n",
       "      <td>-0.038140</td>\n",
       "      <td>-0.017501</td>\n",
       "      <td>-0.028391</td>\n",
       "      <td>1.000000</td>\n",
       "      <td>-0.009881</td>\n",
       "      <td>-0.006898</td>\n",
       "      <td>-0.023190</td>\n",
       "      <td>-0.015954</td>\n",
       "    </tr>\n",
       "    <tr>\n",
       "      <th>Specialization_Rural and Agribusiness</th>\n",
       "      <td>0.005490</td>\n",
       "      <td>0.023276</td>\n",
       "      <td>0.014169</td>\n",
       "      <td>0.012471</td>\n",
       "      <td>0.041926</td>\n",
       "      <td>-0.016387</td>\n",
       "      <td>-0.005914</td>\n",
       "      <td>0.030256</td>\n",
       "      <td>-0.006028</td>\n",
       "      <td>-0.029951</td>\n",
       "      <td>...</td>\n",
       "      <td>-0.019007</td>\n",
       "      <td>-0.013078</td>\n",
       "      <td>-0.030750</td>\n",
       "      <td>-0.014110</td>\n",
       "      <td>-0.022890</td>\n",
       "      <td>-0.009881</td>\n",
       "      <td>1.000000</td>\n",
       "      <td>-0.005561</td>\n",
       "      <td>-0.018697</td>\n",
       "      <td>-0.012863</td>\n",
       "    </tr>\n",
       "    <tr>\n",
       "      <th>Specialization_Services Excellence</th>\n",
       "      <td>-0.005628</td>\n",
       "      <td>0.029412</td>\n",
       "      <td>0.004837</td>\n",
       "      <td>0.019981</td>\n",
       "      <td>0.039589</td>\n",
       "      <td>-0.011245</td>\n",
       "      <td>-0.004129</td>\n",
       "      <td>0.055204</td>\n",
       "      <td>-0.004208</td>\n",
       "      <td>-0.026190</td>\n",
       "      <td>...</td>\n",
       "      <td>-0.013269</td>\n",
       "      <td>-0.009130</td>\n",
       "      <td>-0.021467</td>\n",
       "      <td>-0.009850</td>\n",
       "      <td>-0.015980</td>\n",
       "      <td>-0.006898</td>\n",
       "      <td>-0.005561</td>\n",
       "      <td>1.000000</td>\n",
       "      <td>-0.013053</td>\n",
       "      <td>-0.008980</td>\n",
       "    </tr>\n",
       "    <tr>\n",
       "      <th>Specialization_Supply Chain Management</th>\n",
       "      <td>-0.001638</td>\n",
       "      <td>0.049926</td>\n",
       "      <td>0.044821</td>\n",
       "      <td>0.061730</td>\n",
       "      <td>0.112209</td>\n",
       "      <td>-0.034603</td>\n",
       "      <td>-0.001181</td>\n",
       "      <td>0.088138</td>\n",
       "      <td>-0.001683</td>\n",
       "      <td>-0.030226</td>\n",
       "      <td>...</td>\n",
       "      <td>-0.044611</td>\n",
       "      <td>-0.030695</td>\n",
       "      <td>-0.072172</td>\n",
       "      <td>-0.033116</td>\n",
       "      <td>-0.053723</td>\n",
       "      <td>-0.023190</td>\n",
       "      <td>-0.018697</td>\n",
       "      <td>-0.013053</td>\n",
       "      <td>1.000000</td>\n",
       "      <td>-0.030189</td>\n",
       "    </tr>\n",
       "    <tr>\n",
       "      <th>Specialization_Travel and Tourism</th>\n",
       "      <td>-0.012083</td>\n",
       "      <td>0.083972</td>\n",
       "      <td>0.031628</td>\n",
       "      <td>0.104435</td>\n",
       "      <td>0.095835</td>\n",
       "      <td>-0.043167</td>\n",
       "      <td>-0.009550</td>\n",
       "      <td>0.009417</td>\n",
       "      <td>-0.009733</td>\n",
       "      <td>-0.054948</td>\n",
       "      <td>...</td>\n",
       "      <td>-0.030690</td>\n",
       "      <td>-0.021117</td>\n",
       "      <td>-0.049651</td>\n",
       "      <td>-0.022783</td>\n",
       "      <td>-0.036959</td>\n",
       "      <td>-0.015954</td>\n",
       "      <td>-0.012863</td>\n",
       "      <td>-0.008980</td>\n",
       "      <td>-0.030189</td>\n",
       "      <td>1.000000</td>\n",
       "    </tr>\n",
       "  </tbody>\n",
       "</table>\n",
       "<p>75 rows × 75 columns</p>\n",
       "</div>"
      ],
      "text/plain": [
       "                                        Converted  TotalVisits  \\\n",
       "Converted                                1.000000     0.000007   \n",
       "TotalVisits                              0.000007     1.000000   \n",
       "Total Time Spent on Website              0.298723     0.380470   \n",
       "Page Views Per Visit                    -0.075521     0.739784   \n",
       "Lead Origin_Landing Page Submission     -0.121419     0.456869   \n",
       "...                                           ...          ...   \n",
       "Specialization_Retail Management        -0.014013     0.029274   \n",
       "Specialization_Rural and Agribusiness    0.005490     0.023276   \n",
       "Specialization_Services Excellence      -0.005628     0.029412   \n",
       "Specialization_Supply Chain Management  -0.001638     0.049926   \n",
       "Specialization_Travel and Tourism       -0.012083     0.083972   \n",
       "\n",
       "                                        Total Time Spent on Website  \\\n",
       "Converted                                                  0.298723   \n",
       "TotalVisits                                                0.380470   \n",
       "Total Time Spent on Website                                1.000000   \n",
       "Page Views Per Visit                                       0.381585   \n",
       "Lead Origin_Landing Page Submission                        0.284935   \n",
       "...                                                             ...   \n",
       "Specialization_Retail Management                           0.027467   \n",
       "Specialization_Rural and Agribusiness                      0.014169   \n",
       "Specialization_Services Excellence                         0.004837   \n",
       "Specialization_Supply Chain Management                     0.044821   \n",
       "Specialization_Travel and Tourism                          0.031628   \n",
       "\n",
       "                                        Page Views Per Visit  \\\n",
       "Converted                                          -0.075521   \n",
       "TotalVisits                                         0.739784   \n",
       "Total Time Spent on Website                         0.381585   \n",
       "Page Views Per Visit                                1.000000   \n",
       "Lead Origin_Landing Page Submission                 0.554911   \n",
       "...                                                      ...   \n",
       "Specialization_Retail Management                    0.030757   \n",
       "Specialization_Rural and Agribusiness               0.012471   \n",
       "Specialization_Services Excellence                  0.019981   \n",
       "Specialization_Supply Chain Management              0.061730   \n",
       "Specialization_Travel and Tourism                   0.104435   \n",
       "\n",
       "                                        Lead Origin_Landing Page Submission  \\\n",
       "Converted                                                         -0.121419   \n",
       "TotalVisits                                                        0.456869   \n",
       "Total Time Spent on Website                                        0.284935   \n",
       "Page Views Per Visit                                               0.554911   \n",
       "Lead Origin_Landing Page Submission                                1.000000   \n",
       "...                                                                     ...   \n",
       "Specialization_Retail Management                                   0.071547   \n",
       "Specialization_Rural and Agribusiness                              0.041926   \n",
       "Specialization_Services Excellence                                 0.039589   \n",
       "Specialization_Supply Chain Management                             0.112209   \n",
       "Specialization_Travel and Tourism                                  0.095835   \n",
       "\n",
       "                                        Lead Origin_Lead Add Form  \\\n",
       "Converted                                                0.298809   \n",
       "TotalVisits                                             -0.374147   \n",
       "Total Time Spent on Website                             -0.255975   \n",
       "Page Views Per Visit                                    -0.413605   \n",
       "Lead Origin_Landing Page Submission                     -0.364778   \n",
       "...                                                           ...   \n",
       "Specialization_Retail Management                        -0.025856   \n",
       "Specialization_Rural and Agribusiness                   -0.016387   \n",
       "Specialization_Services Excellence                      -0.011245   \n",
       "Specialization_Supply Chain Management                  -0.034603   \n",
       "Specialization_Travel and Tourism                       -0.043167   \n",
       "\n",
       "                                        Lead Origin_Lead Import  \\\n",
       "Converted                                             -0.017741   \n",
       "TotalVisits                                           -0.080356   \n",
       "Total Time Spent on Website                           -0.061467   \n",
       "Page Views Per Visit                                  -0.088234   \n",
       "Lead Origin_Landing Page Submission                   -0.073813   \n",
       "...                                                         ...   \n",
       "Specialization_Retail Management                      -0.007336   \n",
       "Specialization_Rural and Agribusiness                 -0.005914   \n",
       "Specialization_Services Excellence                    -0.004129   \n",
       "Specialization_Supply Chain Management                -0.001181   \n",
       "Specialization_Travel and Tourism                     -0.009550   \n",
       "\n",
       "                                        Lead Source_Direct Traffic  \\\n",
       "Converted                                                -0.136152   \n",
       "TotalVisits                                               0.121462   \n",
       "Total Time Spent on Website                               0.125240   \n",
       "Page Views Per Visit                                      0.157924   \n",
       "Lead Origin_Landing Page Submission                       0.530513   \n",
       "...                                                            ...   \n",
       "Specialization_Retail Management                          0.023434   \n",
       "Specialization_Rural and Agribusiness                     0.030256   \n",
       "Specialization_Services Excellence                        0.055204   \n",
       "Specialization_Supply Chain Management                    0.088138   \n",
       "Specialization_Travel and Tourism                         0.009417   \n",
       "\n",
       "                                        Lead Source_Facebook  \\\n",
       "Converted                                          -0.019813   \n",
       "TotalVisits                                        -0.077770   \n",
       "Total Time Spent on Website                        -0.060920   \n",
       "Page Views Per Visit                               -0.083823   \n",
       "Lead Origin_Landing Page Submission                -0.070194   \n",
       "...                                                      ...   \n",
       "Specialization_Retail Management                   -0.007476   \n",
       "Specialization_Rural and Agribusiness              -0.006028   \n",
       "Specialization_Services Excellence                 -0.004208   \n",
       "Specialization_Supply Chain Management             -0.001683   \n",
       "Specialization_Travel and Tourism                  -0.009733   \n",
       "\n",
       "                                        Lead Source_Google  ...  \\\n",
       "Converted                                         0.017685  ...   \n",
       "TotalVisits                                       0.264976  ...   \n",
       "Total Time Spent on Website                       0.244153  ...   \n",
       "Page Views Per Visit                              0.306341  ...   \n",
       "Lead Origin_Landing Page Submission               0.081283  ...   \n",
       "...                                                    ...  ...   \n",
       "Specialization_Retail Management                  0.024252  ...   \n",
       "Specialization_Rural and Agribusiness            -0.029951  ...   \n",
       "Specialization_Services Excellence               -0.026190  ...   \n",
       "Specialization_Supply Chain Management           -0.030226  ...   \n",
       "Specialization_Travel and Tourism                -0.054948  ...   \n",
       "\n",
       "                                        Specialization_IT Projects Management  \\\n",
       "Converted                                                            0.001957   \n",
       "TotalVisits                                                          0.045596   \n",
       "Total Time Spent on Website                                          0.034051   \n",
       "Page Views Per Visit                                                 0.064868   \n",
       "Lead Origin_Landing Page Submission                                  0.134727   \n",
       "...                                                                       ...   \n",
       "Specialization_Retail Management                                    -0.023575   \n",
       "Specialization_Rural and Agribusiness                               -0.019007   \n",
       "Specialization_Services Excellence                                  -0.013269   \n",
       "Specialization_Supply Chain Management                              -0.044611   \n",
       "Specialization_Travel and Tourism                                   -0.030690   \n",
       "\n",
       "                                        Specialization_International Business  \\\n",
       "Converted                                                           -0.021089   \n",
       "TotalVisits                                                          0.061981   \n",
       "Total Time Spent on Website                                          0.014174   \n",
       "Page Views Per Visit                                                 0.071765   \n",
       "Lead Origin_Landing Page Submission                                  0.089099   \n",
       "...                                                                       ...   \n",
       "Specialization_Retail Management                                    -0.016221   \n",
       "Specialization_Rural and Agribusiness                               -0.013078   \n",
       "Specialization_Services Excellence                                  -0.009130   \n",
       "Specialization_Supply Chain Management                              -0.030695   \n",
       "Specialization_Travel and Tourism                                   -0.021117   \n",
       "\n",
       "                                        Specialization_Marketing Management  \\\n",
       "Converted                                                          0.049376   \n",
       "TotalVisits                                                        0.035721   \n",
       "Total Time Spent on Website                                        0.056759   \n",
       "Page Views Per Visit                                               0.045916   \n",
       "Lead Origin_Landing Page Submission                                0.091823   \n",
       "...                                                                     ...   \n",
       "Specialization_Retail Management                                  -0.038140   \n",
       "Specialization_Rural and Agribusiness                             -0.030750   \n",
       "Specialization_Services Excellence                                -0.021467   \n",
       "Specialization_Supply Chain Management                            -0.072172   \n",
       "Specialization_Travel and Tourism                                 -0.049651   \n",
       "\n",
       "                                        Specialization_Media and Advertising  \\\n",
       "Converted                                                          -0.005644   \n",
       "TotalVisits                                                         0.064462   \n",
       "Total Time Spent on Website                                         0.041431   \n",
       "Page Views Per Visit                                                0.071892   \n",
       "Lead Origin_Landing Page Submission                                 0.091478   \n",
       "...                                                                      ...   \n",
       "Specialization_Retail Management                                   -0.017501   \n",
       "Specialization_Rural and Agribusiness                              -0.014110   \n",
       "Specialization_Services Excellence                                 -0.009850   \n",
       "Specialization_Supply Chain Management                             -0.033116   \n",
       "Specialization_Travel and Tourism                                  -0.022783   \n",
       "\n",
       "                                        Specialization_Operations Management  \\\n",
       "Converted                                                           0.030596   \n",
       "TotalVisits                                                         0.039564   \n",
       "Total Time Spent on Website                                         0.052206   \n",
       "Page Views Per Visit                                                0.052409   \n",
       "Lead Origin_Landing Page Submission                                 0.103719   \n",
       "...                                                                      ...   \n",
       "Specialization_Retail Management                                   -0.028391   \n",
       "Specialization_Rural and Agribusiness                              -0.022890   \n",
       "Specialization_Services Excellence                                 -0.015980   \n",
       "Specialization_Supply Chain Management                             -0.053723   \n",
       "Specialization_Travel and Tourism                                  -0.036959   \n",
       "\n",
       "                                        Specialization_Retail Management  \\\n",
       "Converted                                                      -0.014013   \n",
       "TotalVisits                                                     0.029274   \n",
       "Total Time Spent on Website                                     0.027467   \n",
       "Page Views Per Visit                                            0.030757   \n",
       "Lead Origin_Landing Page Submission                             0.071547   \n",
       "...                                                                  ...   \n",
       "Specialization_Retail Management                                1.000000   \n",
       "Specialization_Rural and Agribusiness                          -0.009881   \n",
       "Specialization_Services Excellence                             -0.006898   \n",
       "Specialization_Supply Chain Management                         -0.023190   \n",
       "Specialization_Travel and Tourism                              -0.015954   \n",
       "\n",
       "                                        Specialization_Rural and Agribusiness  \\\n",
       "Converted                                                            0.005490   \n",
       "TotalVisits                                                          0.023276   \n",
       "Total Time Spent on Website                                          0.014169   \n",
       "Page Views Per Visit                                                 0.012471   \n",
       "Lead Origin_Landing Page Submission                                  0.041926   \n",
       "...                                                                       ...   \n",
       "Specialization_Retail Management                                    -0.009881   \n",
       "Specialization_Rural and Agribusiness                                1.000000   \n",
       "Specialization_Services Excellence                                  -0.005561   \n",
       "Specialization_Supply Chain Management                              -0.018697   \n",
       "Specialization_Travel and Tourism                                   -0.012863   \n",
       "\n",
       "                                        Specialization_Services Excellence  \\\n",
       "Converted                                                        -0.005628   \n",
       "TotalVisits                                                       0.029412   \n",
       "Total Time Spent on Website                                       0.004837   \n",
       "Page Views Per Visit                                              0.019981   \n",
       "Lead Origin_Landing Page Submission                               0.039589   \n",
       "...                                                                    ...   \n",
       "Specialization_Retail Management                                 -0.006898   \n",
       "Specialization_Rural and Agribusiness                            -0.005561   \n",
       "Specialization_Services Excellence                                1.000000   \n",
       "Specialization_Supply Chain Management                           -0.013053   \n",
       "Specialization_Travel and Tourism                                -0.008980   \n",
       "\n",
       "                                        Specialization_Supply Chain Management  \\\n",
       "Converted                                                            -0.001638   \n",
       "TotalVisits                                                           0.049926   \n",
       "Total Time Spent on Website                                           0.044821   \n",
       "Page Views Per Visit                                                  0.061730   \n",
       "Lead Origin_Landing Page Submission                                   0.112209   \n",
       "...                                                                        ...   \n",
       "Specialization_Retail Management                                     -0.023190   \n",
       "Specialization_Rural and Agribusiness                                -0.018697   \n",
       "Specialization_Services Excellence                                   -0.013053   \n",
       "Specialization_Supply Chain Management                                1.000000   \n",
       "Specialization_Travel and Tourism                                    -0.030189   \n",
       "\n",
       "                                        Specialization_Travel and Tourism  \n",
       "Converted                                                       -0.012083  \n",
       "TotalVisits                                                      0.083972  \n",
       "Total Time Spent on Website                                      0.031628  \n",
       "Page Views Per Visit                                             0.104435  \n",
       "Lead Origin_Landing Page Submission                              0.095835  \n",
       "...                                                                   ...  \n",
       "Specialization_Retail Management                                -0.015954  \n",
       "Specialization_Rural and Agribusiness                           -0.012863  \n",
       "Specialization_Services Excellence                              -0.008980  \n",
       "Specialization_Supply Chain Management                          -0.030189  \n",
       "Specialization_Travel and Tourism                                1.000000  \n",
       "\n",
       "[75 rows x 75 columns]"
      ]
     },
     "execution_count": 67,
     "metadata": {},
     "output_type": "execute_result"
    }
   ],
   "source": [
    "# Looking at the correlation table\n",
    "# As the data is too large we will see correlation table instead of heatmap\n",
    "\n",
    "leadscore.corr()"
   ]
  },
  {
   "cell_type": "code",
   "execution_count": 68,
   "id": "08c0c7b9",
   "metadata": {},
   "outputs": [
    {
     "data": {
      "text/plain": [
       "47.990583487472676"
      ]
     },
     "execution_count": 68,
     "metadata": {},
     "output_type": "execute_result"
    }
   ],
   "source": [
    "## Checking the lead conversion Rate\n",
    "leadscore_conversion = (sum(leadscore['Converted'])/len(leadscore['Converted'].index))*100\n",
    "leadscore_conversion"
   ]
  },
  {
   "cell_type": "markdown",
   "id": "c3bd43cf",
   "metadata": {},
   "source": [
    "## Step 3: Model Building"
   ]
  },
  {
   "cell_type": "markdown",
   "id": "580a87a4",
   "metadata": {},
   "source": [
    "Let's now move to model building. As you can see that there are a lot of variables present in the dataset which we cannot deal with. So the best way to approach this is to select a small set of features from this pool of variables using RFE."
   ]
  },
  {
   "cell_type": "code",
   "execution_count": 69,
   "id": "85220673",
   "metadata": {},
   "outputs": [
    {
     "name": "stdout",
     "output_type": "stream",
     "text": [
      "Training Accuracy\n",
      "0.8044209514656415\n",
      "Testing Accuracy\n",
      "0.5170868347338936\n",
      "[[ 72 846]\n",
      " [ 16 851]]\n",
      "              precision    recall  f1-score   support\n",
      "\n",
      "           0       0.82      0.08      0.14       918\n",
      "           1       0.50      0.98      0.66       867\n",
      "\n",
      "    accuracy                           0.52      1785\n",
      "   macro avg       0.66      0.53      0.40      1785\n",
      "weighted avg       0.66      0.52      0.40      1785\n",
      "\n"
     ]
    }
   ],
   "source": [
    "from sklearn.tree import DecisionTreeClassifier\n",
    "from sklearn.ensemble import RandomForestClassifier\n",
    "from sklearn.metrics import confusion_matrix,classification_report\n",
    "logreg = LogisticRegression()\n",
    "logreg.fit(X_train,y_train)\n",
    "print(\"Training Accuracy\")\n",
    "print(logreg.score(X_train,y_train))\n",
    "print(\"Testing Accuracy\")\n",
    "print(logreg.score(X_test,y_test))\n",
    "\n",
    "predicted = logreg.predict(X_test)\n",
    "print(confusion_matrix(y_test,predicted))\n",
    "print(classification_report(y_test,predicted))"
   ]
  },
  {
   "cell_type": "code",
   "execution_count": 70,
   "id": "8b2c7bef",
   "metadata": {},
   "outputs": [],
   "source": [
    "# Import RFE and select 15 variables\n",
    "from sklearn.feature_selection import RFE\n",
    "rfe = RFE(logreg, 15)             # running RFE with 15 variables as output\n",
    "rfe = rfe.fit(X_train, y_train)"
   ]
  },
  {
   "cell_type": "code",
   "execution_count": 71,
   "id": "be754a2b",
   "metadata": {},
   "outputs": [
    {
     "data": {
      "text/plain": [
       "[('TotalVisits', False, 39),\n",
       " ('Total Time Spent on Website', True, 1),\n",
       " ('Page Views Per Visit', False, 40),\n",
       " ('Lead Origin_Landing Page Submission', False, 16),\n",
       " ('Lead Origin_Lead Add Form', True, 1),\n",
       " ('Lead Origin_Lead Import', False, 53),\n",
       " ('Lead Source_Direct Traffic', True, 1),\n",
       " ('Lead Source_Facebook', False, 52),\n",
       " ('Lead Source_Google', True, 1),\n",
       " ('Lead Source_Live Chat', False, 50),\n",
       " ('Lead Source_Olark Chat', False, 23),\n",
       " ('Lead Source_Organic Search', True, 1),\n",
       " ('Lead Source_Pay per Click Ads', False, 58),\n",
       " ('Lead Source_Press_Release', False, 54),\n",
       " ('Lead Source_Reference', True, 1),\n",
       " ('Lead Source_Referral Sites', True, 1),\n",
       " ('Lead Source_Social Media', False, 34),\n",
       " ('Lead Source_WeLearn', False, 46),\n",
       " ('Lead Source_Welingak Website', True, 1),\n",
       " ('Lead Source_bing', False, 47),\n",
       " ('Lead Source_testone', False, 44),\n",
       " ('Do Not Email_Yes', True, 1),\n",
       " ('Last Activity_Converted to Lead', False, 26),\n",
       " ('Last Activity_Email Bounced', False, 3),\n",
       " ('Last Activity_Email Link Clicked', False, 57),\n",
       " ('Last Activity_Email Marked Spam', False, 32),\n",
       " ('Last Activity_Email Opened', False, 43),\n",
       " ('Last Activity_Email Received', False, 60),\n",
       " ('Last Activity_Form Submitted on Website', False, 29),\n",
       " ('Last Activity_Had a Phone Conversation', True, 1),\n",
       " ('Last Activity_Olark Chat Conversation', True, 1),\n",
       " ('Last Activity_Page Visited on Website', False, 27),\n",
       " ('Last Activity_SMS Sent', True, 1),\n",
       " ('Last Activity_Unreachable', False, 56),\n",
       " ('Last Activity_Unsubscribed', False, 48),\n",
       " ('Last Activity_View in browser link Clicked', False, 25),\n",
       " ('Last Activity_Visited Booth in Tradeshow', False, 51),\n",
       " ('What is your current occupation_Housewife', True, 1),\n",
       " ('What is your current occupation_Other', False, 28),\n",
       " ('What is your current occupation_Student', False, 6),\n",
       " ('What is your current occupation_Unemployed', False, 5),\n",
       " ('What is your current occupation_Working Professional', True, 1),\n",
       " ('A free copy of Mastering The Interview_Yes', False, 45),\n",
       " ('Last Notable Activity_Email Bounced', False, 41),\n",
       " ('Last Notable Activity_Email Link Clicked', False, 31),\n",
       " ('Last Notable Activity_Email Marked Spam', False, 33),\n",
       " ('Last Notable Activity_Email Opened', False, 30),\n",
       " ('Last Notable Activity_Email Received', False, 59),\n",
       " ('Last Notable Activity_Had a Phone Conversation', False, 4),\n",
       " ('Last Notable Activity_Modified', False, 2),\n",
       " ('Last Notable Activity_Olark Chat Conversation', False, 35),\n",
       " ('Last Notable Activity_Page Visited on Website', False, 38),\n",
       " ('Last Notable Activity_SMS Sent', False, 55),\n",
       " ('Last Notable Activity_Unreachable', True, 1),\n",
       " ('Last Notable Activity_Unsubscribed', False, 49),\n",
       " ('Last Notable Activity_View in browser link Clicked', False, 37),\n",
       " ('Specialization_Banking, Investment And Insurance', False, 7),\n",
       " ('Specialization_Business Administration', False, 20),\n",
       " ('Specialization_E-Business', False, 10),\n",
       " ('Specialization_E-COMMERCE', False, 22),\n",
       " ('Specialization_Finance Management', False, 11),\n",
       " ('Specialization_Healthcare Management', False, 9),\n",
       " ('Specialization_Hospitality Management', False, 42),\n",
       " ('Specialization_Human Resource Management', False, 19),\n",
       " ('Specialization_IT Projects Management', False, 18),\n",
       " ('Specialization_International Business', False, 21),\n",
       " ('Specialization_Marketing Management', False, 12),\n",
       " ('Specialization_Media and Advertising', False, 17),\n",
       " ('Specialization_Operations Management', False, 13),\n",
       " ('Specialization_Retail Management', False, 36),\n",
       " ('Specialization_Rural and Agribusiness', False, 8),\n",
       " ('Specialization_Services Excellence', False, 24),\n",
       " ('Specialization_Supply Chain Management', False, 15),\n",
       " ('Specialization_Travel and Tourism', False, 14)]"
      ]
     },
     "execution_count": 71,
     "metadata": {},
     "output_type": "execute_result"
    }
   ],
   "source": [
    "# Let's take a look at which features have been selected by RFE\n",
    "\n",
    "list(zip(X_train.columns, rfe.support_, rfe.ranking_))"
   ]
  },
  {
   "cell_type": "code",
   "execution_count": 72,
   "id": "104a0d4f",
   "metadata": {},
   "outputs": [],
   "source": [
    "# Put all the columns selected by RFE in the variable 'col'\n",
    "\n",
    "col = X_train.columns[rfe.support_]"
   ]
  },
  {
   "cell_type": "markdown",
   "id": "1299b4cc",
   "metadata": {},
   "source": [
    "Now you have all the variables selected by RFE and since we care about the statistics part, i.e. the p-values and the VIFs, let's use these variables to create a logistic regression model using statsmodels."
   ]
  },
  {
   "cell_type": "code",
   "execution_count": 73,
   "id": "f3b7a8db",
   "metadata": {},
   "outputs": [],
   "source": [
    "# Select only the columns selected by RFE\n",
    "\n",
    "X_train = X_train[col]"
   ]
  },
  {
   "cell_type": "markdown",
   "id": "1b8c3f28",
   "metadata": {},
   "source": [
    "Assessing the model with StatsModels"
   ]
  },
  {
   "cell_type": "code",
   "execution_count": 74,
   "id": "54a5c152",
   "metadata": {},
   "outputs": [
    {
     "data": {
      "text/html": [
       "<table class=\"simpletable\">\n",
       "<caption>Generalized Linear Model Regression Results</caption>\n",
       "<tr>\n",
       "  <th>Dep. Variable:</th>       <td>Converted</td>    <th>  No. Observations:  </th>  <td>  4162</td> \n",
       "</tr>\n",
       "<tr>\n",
       "  <th>Model:</th>                  <td>GLM</td>       <th>  Df Residuals:      </th>  <td>  4146</td> \n",
       "</tr>\n",
       "<tr>\n",
       "  <th>Model Family:</th>        <td>Binomial</td>     <th>  Df Model:          </th>  <td>    15</td> \n",
       "</tr>\n",
       "<tr>\n",
       "  <th>Link Function:</th>         <td>logit</td>      <th>  Scale:             </th> <td>  1.0000</td>\n",
       "</tr>\n",
       "<tr>\n",
       "  <th>Method:</th>                <td>IRLS</td>       <th>  Log-Likelihood:    </th> <td> -1914.7</td>\n",
       "</tr>\n",
       "<tr>\n",
       "  <th>Date:</th>            <td>Fri, 12 Nov 2021</td> <th>  Deviance:          </th> <td>  3829.5</td>\n",
       "</tr>\n",
       "<tr>\n",
       "  <th>Time:</th>                <td>07:31:47</td>     <th>  Pearson chi2:      </th> <td>4.24e+03</td>\n",
       "</tr>\n",
       "<tr>\n",
       "  <th>No. Iterations:</th>         <td>21</td>        <th>                     </th>     <td> </td>   \n",
       "</tr>\n",
       "<tr>\n",
       "  <th>Covariance Type:</th>     <td>nonrobust</td>    <th>                     </th>     <td> </td>   \n",
       "</tr>\n",
       "</table>\n",
       "<table class=\"simpletable\">\n",
       "<tr>\n",
       "                            <td></td>                              <th>coef</th>     <th>std err</th>      <th>z</th>      <th>P>|z|</th>  <th>[0.025</th>    <th>0.975]</th>  \n",
       "</tr>\n",
       "<tr>\n",
       "  <th>const</th>                                                <td>    0.4228</td> <td>    0.107</td> <td>    3.961</td> <td> 0.000</td> <td>    0.214</td> <td>    0.632</td>\n",
       "</tr>\n",
       "<tr>\n",
       "  <th>Total Time Spent on Website</th>                          <td>    1.0979</td> <td>    0.048</td> <td>   22.672</td> <td> 0.000</td> <td>    1.003</td> <td>    1.193</td>\n",
       "</tr>\n",
       "<tr>\n",
       "  <th>Lead Origin_Lead Add Form</th>                            <td>   -0.3815</td> <td>    1.167</td> <td>   -0.327</td> <td> 0.744</td> <td>   -2.669</td> <td>    1.906</td>\n",
       "</tr>\n",
       "<tr>\n",
       "  <th>Lead Source_Direct Traffic</th>                           <td>   -1.8290</td> <td>    0.134</td> <td>  -13.622</td> <td> 0.000</td> <td>   -2.092</td> <td>   -1.566</td>\n",
       "</tr>\n",
       "<tr>\n",
       "  <th>Lead Source_Google</th>                                   <td>   -1.3096</td> <td>    0.128</td> <td>  -10.211</td> <td> 0.000</td> <td>   -1.561</td> <td>   -1.058</td>\n",
       "</tr>\n",
       "<tr>\n",
       "  <th>Lead Source_Organic Search</th>                           <td>   -1.5484</td> <td>    0.157</td> <td>   -9.858</td> <td> 0.000</td> <td>   -1.856</td> <td>   -1.241</td>\n",
       "</tr>\n",
       "<tr>\n",
       "  <th>Lead Source_Reference</th>                                <td>    2.6209</td> <td>    1.186</td> <td>    2.210</td> <td> 0.027</td> <td>    0.297</td> <td>    4.945</td>\n",
       "</tr>\n",
       "<tr>\n",
       "  <th>Lead Source_Referral Sites</th>                           <td>   -1.6838</td> <td>    0.436</td> <td>   -3.860</td> <td> 0.000</td> <td>   -2.539</td> <td>   -0.829</td>\n",
       "</tr>\n",
       "<tr>\n",
       "  <th>Lead Source_Welingak Website</th>                         <td>    4.3664</td> <td>    1.369</td> <td>    3.190</td> <td> 0.001</td> <td>    1.684</td> <td>    7.049</td>\n",
       "</tr>\n",
       "<tr>\n",
       "  <th>Do Not Email_Yes</th>                                     <td>   -1.4180</td> <td>    0.195</td> <td>   -7.269</td> <td> 0.000</td> <td>   -1.800</td> <td>   -1.036</td>\n",
       "</tr>\n",
       "<tr>\n",
       "  <th>Last Activity_Had a Phone Conversation</th>               <td>    1.8988</td> <td>    0.778</td> <td>    2.440</td> <td> 0.015</td> <td>    0.374</td> <td>    3.424</td>\n",
       "</tr>\n",
       "<tr>\n",
       "  <th>Last Activity_Olark Chat Conversation</th>                <td>   -1.4691</td> <td>    0.202</td> <td>   -7.284</td> <td> 0.000</td> <td>   -1.864</td> <td>   -1.074</td>\n",
       "</tr>\n",
       "<tr>\n",
       "  <th>Last Activity_SMS Sent</th>                               <td>    1.2041</td> <td>    0.086</td> <td>   13.973</td> <td> 0.000</td> <td>    1.035</td> <td>    1.373</td>\n",
       "</tr>\n",
       "<tr>\n",
       "  <th>What is your current occupation_Housewife</th>            <td>   22.8957</td> <td> 1.49e+04</td> <td>    0.002</td> <td> 0.999</td> <td>-2.91e+04</td> <td> 2.92e+04</td>\n",
       "</tr>\n",
       "<tr>\n",
       "  <th>What is your current occupation_Working Professional</th> <td>    2.3770</td> <td>    0.187</td> <td>   12.742</td> <td> 0.000</td> <td>    2.011</td> <td>    2.743</td>\n",
       "</tr>\n",
       "<tr>\n",
       "  <th>Last Notable Activity_Unreachable</th>                    <td>    2.5186</td> <td>    0.831</td> <td>    3.031</td> <td> 0.002</td> <td>    0.890</td> <td>    4.147</td>\n",
       "</tr>\n",
       "</table>"
      ],
      "text/plain": [
       "<class 'statsmodels.iolib.summary.Summary'>\n",
       "\"\"\"\n",
       "                 Generalized Linear Model Regression Results                  \n",
       "==============================================================================\n",
       "Dep. Variable:              Converted   No. Observations:                 4162\n",
       "Model:                            GLM   Df Residuals:                     4146\n",
       "Model Family:                Binomial   Df Model:                           15\n",
       "Link Function:                  logit   Scale:                          1.0000\n",
       "Method:                          IRLS   Log-Likelihood:                -1914.7\n",
       "Date:                Fri, 12 Nov 2021   Deviance:                       3829.5\n",
       "Time:                        07:31:47   Pearson chi2:                 4.24e+03\n",
       "No. Iterations:                    21                                         \n",
       "Covariance Type:            nonrobust                                         \n",
       "========================================================================================================================\n",
       "                                                           coef    std err          z      P>|z|      [0.025      0.975]\n",
       "------------------------------------------------------------------------------------------------------------------------\n",
       "const                                                    0.4228      0.107      3.961      0.000       0.214       0.632\n",
       "Total Time Spent on Website                              1.0979      0.048     22.672      0.000       1.003       1.193\n",
       "Lead Origin_Lead Add Form                               -0.3815      1.167     -0.327      0.744      -2.669       1.906\n",
       "Lead Source_Direct Traffic                              -1.8290      0.134    -13.622      0.000      -2.092      -1.566\n",
       "Lead Source_Google                                      -1.3096      0.128    -10.211      0.000      -1.561      -1.058\n",
       "Lead Source_Organic Search                              -1.5484      0.157     -9.858      0.000      -1.856      -1.241\n",
       "Lead Source_Reference                                    2.6209      1.186      2.210      0.027       0.297       4.945\n",
       "Lead Source_Referral Sites                              -1.6838      0.436     -3.860      0.000      -2.539      -0.829\n",
       "Lead Source_Welingak Website                             4.3664      1.369      3.190      0.001       1.684       7.049\n",
       "Do Not Email_Yes                                        -1.4180      0.195     -7.269      0.000      -1.800      -1.036\n",
       "Last Activity_Had a Phone Conversation                   1.8988      0.778      2.440      0.015       0.374       3.424\n",
       "Last Activity_Olark Chat Conversation                   -1.4691      0.202     -7.284      0.000      -1.864      -1.074\n",
       "Last Activity_SMS Sent                                   1.2041      0.086     13.973      0.000       1.035       1.373\n",
       "What is your current occupation_Housewife               22.8957   1.49e+04      0.002      0.999   -2.91e+04    2.92e+04\n",
       "What is your current occupation_Working Professional     2.3770      0.187     12.742      0.000       2.011       2.743\n",
       "Last Notable Activity_Unreachable                        2.5186      0.831      3.031      0.002       0.890       4.147\n",
       "========================================================================================================================\n",
       "\"\"\""
      ]
     },
     "execution_count": 74,
     "metadata": {},
     "output_type": "execute_result"
    }
   ],
   "source": [
    "# Fit a logistic Regression model on X_train after adding a constant and output the summary\n",
    "\n",
    "X_train_sm = sm.add_constant(X_train[col])\n",
    "logm2 = sm.GLM(y_train, X_train_sm, family = sm.families.Binomial())\n",
    "res = logm2.fit()\n",
    "res.summary()"
   ]
  },
  {
   "cell_type": "markdown",
   "id": "073e3395",
   "metadata": {},
   "source": [
    "There are quite a few variable which have a p-value greater than 0.05. "
   ]
  },
  {
   "cell_type": "code",
   "execution_count": 75,
   "id": "399a2c47",
   "metadata": {},
   "outputs": [
    {
     "data": {
      "text/plain": [
       "1871    0.356115\n",
       "6885    0.516844\n",
       "3427    0.106556\n",
       "1525    0.882290\n",
       "1475    0.945509\n",
       "8067    0.417019\n",
       "6083    0.112913\n",
       "3270    0.850168\n",
       "3223    0.403463\n",
       "1996    0.042678\n",
       "dtype: float64"
      ]
     },
     "execution_count": 75,
     "metadata": {},
     "output_type": "execute_result"
    }
   ],
   "source": [
    "# Getting the predicted values on the train set\n",
    "y_train_pred = res.predict(X_train_sm)\n",
    "y_train_pred[:10]"
   ]
  },
  {
   "cell_type": "code",
   "execution_count": 76,
   "id": "12ee57be",
   "metadata": {},
   "outputs": [
    {
     "data": {
      "text/plain": [
       "array([0.35611483, 0.51684389, 0.10655639, 0.88229014, 0.94550891,\n",
       "       0.41701901, 0.11291304, 0.85016753, 0.40346268, 0.04267759])"
      ]
     },
     "execution_count": 76,
     "metadata": {},
     "output_type": "execute_result"
    }
   ],
   "source": [
    "y_train_pred = y_train_pred.values.reshape(-1)\n",
    "y_train_pred[:10]"
   ]
  },
  {
   "cell_type": "code",
   "execution_count": 77,
   "id": "f926949a",
   "metadata": {},
   "outputs": [
    {
     "data": {
      "text/html": [
       "<div>\n",
       "<style scoped>\n",
       "    .dataframe tbody tr th:only-of-type {\n",
       "        vertical-align: middle;\n",
       "    }\n",
       "\n",
       "    .dataframe tbody tr th {\n",
       "        vertical-align: top;\n",
       "    }\n",
       "\n",
       "    .dataframe thead th {\n",
       "        text-align: right;\n",
       "    }\n",
       "</style>\n",
       "<table border=\"1\" class=\"dataframe\">\n",
       "  <thead>\n",
       "    <tr style=\"text-align: right;\">\n",
       "      <th></th>\n",
       "      <th>Converted</th>\n",
       "      <th>Leadscore_Prob</th>\n",
       "      <th>CustID</th>\n",
       "    </tr>\n",
       "  </thead>\n",
       "  <tbody>\n",
       "    <tr>\n",
       "      <th>0</th>\n",
       "      <td>0</td>\n",
       "      <td>0.356115</td>\n",
       "      <td>1871</td>\n",
       "    </tr>\n",
       "    <tr>\n",
       "      <th>1</th>\n",
       "      <td>1</td>\n",
       "      <td>0.516844</td>\n",
       "      <td>6885</td>\n",
       "    </tr>\n",
       "    <tr>\n",
       "      <th>2</th>\n",
       "      <td>0</td>\n",
       "      <td>0.106556</td>\n",
       "      <td>3427</td>\n",
       "    </tr>\n",
       "    <tr>\n",
       "      <th>3</th>\n",
       "      <td>0</td>\n",
       "      <td>0.882290</td>\n",
       "      <td>1525</td>\n",
       "    </tr>\n",
       "    <tr>\n",
       "      <th>4</th>\n",
       "      <td>1</td>\n",
       "      <td>0.945509</td>\n",
       "      <td>1475</td>\n",
       "    </tr>\n",
       "  </tbody>\n",
       "</table>\n",
       "</div>"
      ],
      "text/plain": [
       "   Converted  Leadscore_Prob  CustID\n",
       "0          0        0.356115    1871\n",
       "1          1        0.516844    6885\n",
       "2          0        0.106556    3427\n",
       "3          0        0.882290    1525\n",
       "4          1        0.945509    1475"
      ]
     },
     "execution_count": 77,
     "metadata": {},
     "output_type": "execute_result"
    }
   ],
   "source": [
    "#Creating a dataframe with the actual converted flag and the predicted probabilities\n",
    "y_train_pred_final = pd.DataFrame({'Converted':y_train.values, 'Leadscore_Prob':y_train_pred})\n",
    "y_train_pred_final['CustID'] = y_train.index\n",
    "y_train_pred_final.head()"
   ]
  },
  {
   "cell_type": "code",
   "execution_count": 78,
   "id": "704c3b30",
   "metadata": {},
   "outputs": [],
   "source": [
    "#Creating new column 'predicted' with 1 if Lead_Prob > 0.5 else 0\n",
    "y_train_pred_final['predicted'] = y_train_pred_final.Leadscore_Prob.map(lambda x: 1 if x > 0.5 else 0)"
   ]
  },
  {
   "cell_type": "code",
   "execution_count": 79,
   "id": "9c11fc2f",
   "metadata": {},
   "outputs": [
    {
     "data": {
      "text/html": [
       "<div>\n",
       "<style scoped>\n",
       "    .dataframe tbody tr th:only-of-type {\n",
       "        vertical-align: middle;\n",
       "    }\n",
       "\n",
       "    .dataframe tbody tr th {\n",
       "        vertical-align: top;\n",
       "    }\n",
       "\n",
       "    .dataframe thead th {\n",
       "        text-align: right;\n",
       "    }\n",
       "</style>\n",
       "<table border=\"1\" class=\"dataframe\">\n",
       "  <thead>\n",
       "    <tr style=\"text-align: right;\">\n",
       "      <th></th>\n",
       "      <th>Converted</th>\n",
       "      <th>Leadscore_Prob</th>\n",
       "      <th>CustID</th>\n",
       "      <th>predicted</th>\n",
       "    </tr>\n",
       "  </thead>\n",
       "  <tbody>\n",
       "    <tr>\n",
       "      <th>0</th>\n",
       "      <td>0</td>\n",
       "      <td>0.356115</td>\n",
       "      <td>1871</td>\n",
       "      <td>0</td>\n",
       "    </tr>\n",
       "    <tr>\n",
       "      <th>1</th>\n",
       "      <td>1</td>\n",
       "      <td>0.516844</td>\n",
       "      <td>6885</td>\n",
       "      <td>1</td>\n",
       "    </tr>\n",
       "    <tr>\n",
       "      <th>2</th>\n",
       "      <td>0</td>\n",
       "      <td>0.106556</td>\n",
       "      <td>3427</td>\n",
       "      <td>0</td>\n",
       "    </tr>\n",
       "    <tr>\n",
       "      <th>3</th>\n",
       "      <td>0</td>\n",
       "      <td>0.882290</td>\n",
       "      <td>1525</td>\n",
       "      <td>1</td>\n",
       "    </tr>\n",
       "    <tr>\n",
       "      <th>4</th>\n",
       "      <td>1</td>\n",
       "      <td>0.945509</td>\n",
       "      <td>1475</td>\n",
       "      <td>1</td>\n",
       "    </tr>\n",
       "  </tbody>\n",
       "</table>\n",
       "</div>"
      ],
      "text/plain": [
       "   Converted  Leadscore_Prob  CustID  predicted\n",
       "0          0        0.356115    1871          0\n",
       "1          1        0.516844    6885          1\n",
       "2          0        0.106556    3427          0\n",
       "3          0        0.882290    1525          1\n",
       "4          1        0.945509    1475          1"
      ]
     },
     "execution_count": 79,
     "metadata": {},
     "output_type": "execute_result"
    }
   ],
   "source": [
    "# Let's see the head\n",
    "y_train_pred_final.head()"
   ]
  },
  {
   "cell_type": "code",
   "execution_count": 80,
   "id": "657bd7bf",
   "metadata": {},
   "outputs": [
    {
     "data": {
      "text/html": [
       "<div>\n",
       "<style scoped>\n",
       "    .dataframe tbody tr th:only-of-type {\n",
       "        vertical-align: middle;\n",
       "    }\n",
       "\n",
       "    .dataframe tbody tr th {\n",
       "        vertical-align: top;\n",
       "    }\n",
       "\n",
       "    .dataframe thead th {\n",
       "        text-align: right;\n",
       "    }\n",
       "</style>\n",
       "<table border=\"1\" class=\"dataframe\">\n",
       "  <thead>\n",
       "    <tr style=\"text-align: right;\">\n",
       "      <th></th>\n",
       "      <th>Converted</th>\n",
       "      <th>Leadscore_Prob</th>\n",
       "      <th>CustID</th>\n",
       "      <th>predicted</th>\n",
       "      <th>leadscore_score</th>\n",
       "    </tr>\n",
       "  </thead>\n",
       "  <tbody>\n",
       "    <tr>\n",
       "      <th>0</th>\n",
       "      <td>0</td>\n",
       "      <td>0.356115</td>\n",
       "      <td>1871</td>\n",
       "      <td>0</td>\n",
       "      <td>35.611483</td>\n",
       "    </tr>\n",
       "    <tr>\n",
       "      <th>1</th>\n",
       "      <td>1</td>\n",
       "      <td>0.516844</td>\n",
       "      <td>6885</td>\n",
       "      <td>1</td>\n",
       "      <td>51.684389</td>\n",
       "    </tr>\n",
       "    <tr>\n",
       "      <th>2</th>\n",
       "      <td>0</td>\n",
       "      <td>0.106556</td>\n",
       "      <td>3427</td>\n",
       "      <td>0</td>\n",
       "      <td>10.655639</td>\n",
       "    </tr>\n",
       "    <tr>\n",
       "      <th>3</th>\n",
       "      <td>0</td>\n",
       "      <td>0.882290</td>\n",
       "      <td>1525</td>\n",
       "      <td>1</td>\n",
       "      <td>88.229014</td>\n",
       "    </tr>\n",
       "    <tr>\n",
       "      <th>4</th>\n",
       "      <td>1</td>\n",
       "      <td>0.945509</td>\n",
       "      <td>1475</td>\n",
       "      <td>1</td>\n",
       "      <td>94.550891</td>\n",
       "    </tr>\n",
       "  </tbody>\n",
       "</table>\n",
       "</div>"
      ],
      "text/plain": [
       "   Converted  Leadscore_Prob  CustID  predicted  leadscore_score\n",
       "0          0        0.356115    1871          0        35.611483\n",
       "1          1        0.516844    6885          1        51.684389\n",
       "2          0        0.106556    3427          0        10.655639\n",
       "3          0        0.882290    1525          1        88.229014\n",
       "4          1        0.945509    1475          1        94.550891"
      ]
     },
     "execution_count": 80,
     "metadata": {},
     "output_type": "execute_result"
    }
   ],
   "source": [
    "#assigning leadscore score [Leadscore score = 100*(probability of converted)]\n",
    "y_train_pred_final['leadscore_score']= y_train_pred_final.Leadscore_Prob.map(lambda x: x*100)\n",
    "y_train_pred_final.head()"
   ]
  },
  {
   "cell_type": "code",
   "execution_count": 81,
   "id": "dddc58c3",
   "metadata": {},
   "outputs": [
    {
     "name": "stdout",
     "output_type": "stream",
     "text": [
      "[[1804  371]\n",
      " [ 522 1465]]\n"
     ]
    }
   ],
   "source": [
    "# Confusion matrix \n",
    "confusion = metrics.confusion_matrix(y_train_pred_final.Converted, y_train_pred_final.predicted )\n",
    "print(confusion)"
   ]
  },
  {
   "cell_type": "code",
   "execution_count": 82,
   "id": "f46dc1fd",
   "metadata": {},
   "outputs": [
    {
     "name": "stdout",
     "output_type": "stream",
     "text": [
      "0.7854396924555502\n"
     ]
    }
   ],
   "source": [
    "# Let's check the overall accuracy.\n",
    "print(metrics.accuracy_score(y_train_pred_final.Converted, y_train_pred_final.predicted))"
   ]
  },
  {
   "cell_type": "markdown",
   "id": "af317b88",
   "metadata": {},
   "source": [
    "Checking VIFs"
   ]
  },
  {
   "cell_type": "code",
   "execution_count": 83,
   "id": "f3b087c3",
   "metadata": {},
   "outputs": [
    {
     "data": {
      "text/html": [
       "<div>\n",
       "<style scoped>\n",
       "    .dataframe tbody tr th:only-of-type {\n",
       "        vertical-align: middle;\n",
       "    }\n",
       "\n",
       "    .dataframe tbody tr th {\n",
       "        vertical-align: top;\n",
       "    }\n",
       "\n",
       "    .dataframe thead th {\n",
       "        text-align: right;\n",
       "    }\n",
       "</style>\n",
       "<table border=\"1\" class=\"dataframe\">\n",
       "  <thead>\n",
       "    <tr style=\"text-align: right;\">\n",
       "      <th></th>\n",
       "      <th>Features</th>\n",
       "      <th>VIF</th>\n",
       "    </tr>\n",
       "  </thead>\n",
       "  <tbody>\n",
       "    <tr>\n",
       "      <th>1</th>\n",
       "      <td>Lead Origin_Lead Add Form</td>\n",
       "      <td>100.78</td>\n",
       "    </tr>\n",
       "    <tr>\n",
       "      <th>5</th>\n",
       "      <td>Lead Source_Reference</td>\n",
       "      <td>77.16</td>\n",
       "    </tr>\n",
       "    <tr>\n",
       "      <th>7</th>\n",
       "      <td>Lead Source_Welingak Website</td>\n",
       "      <td>24.78</td>\n",
       "    </tr>\n",
       "    <tr>\n",
       "      <th>11</th>\n",
       "      <td>Last Activity_SMS Sent</td>\n",
       "      <td>1.51</td>\n",
       "    </tr>\n",
       "    <tr>\n",
       "      <th>3</th>\n",
       "      <td>Lead Source_Google</td>\n",
       "      <td>1.29</td>\n",
       "    </tr>\n",
       "    <tr>\n",
       "      <th>2</th>\n",
       "      <td>Lead Source_Direct Traffic</td>\n",
       "      <td>1.22</td>\n",
       "    </tr>\n",
       "    <tr>\n",
       "      <th>13</th>\n",
       "      <td>What is your current occupation_Working Profes...</td>\n",
       "      <td>1.21</td>\n",
       "    </tr>\n",
       "    <tr>\n",
       "      <th>0</th>\n",
       "      <td>Total Time Spent on Website</td>\n",
       "      <td>1.19</td>\n",
       "    </tr>\n",
       "    <tr>\n",
       "      <th>4</th>\n",
       "      <td>Lead Source_Organic Search</td>\n",
       "      <td>1.10</td>\n",
       "    </tr>\n",
       "    <tr>\n",
       "      <th>8</th>\n",
       "      <td>Do Not Email_Yes</td>\n",
       "      <td>1.09</td>\n",
       "    </tr>\n",
       "    <tr>\n",
       "      <th>10</th>\n",
       "      <td>Last Activity_Olark Chat Conversation</td>\n",
       "      <td>1.05</td>\n",
       "    </tr>\n",
       "    <tr>\n",
       "      <th>6</th>\n",
       "      <td>Lead Source_Referral Sites</td>\n",
       "      <td>1.01</td>\n",
       "    </tr>\n",
       "    <tr>\n",
       "      <th>9</th>\n",
       "      <td>Last Activity_Had a Phone Conversation</td>\n",
       "      <td>1.01</td>\n",
       "    </tr>\n",
       "    <tr>\n",
       "      <th>12</th>\n",
       "      <td>What is your current occupation_Housewife</td>\n",
       "      <td>1.01</td>\n",
       "    </tr>\n",
       "    <tr>\n",
       "      <th>14</th>\n",
       "      <td>Last Notable Activity_Unreachable</td>\n",
       "      <td>1.01</td>\n",
       "    </tr>\n",
       "  </tbody>\n",
       "</table>\n",
       "</div>"
      ],
      "text/plain": [
       "                                             Features     VIF\n",
       "1                           Lead Origin_Lead Add Form  100.78\n",
       "5                               Lead Source_Reference   77.16\n",
       "7                        Lead Source_Welingak Website   24.78\n",
       "11                             Last Activity_SMS Sent    1.51\n",
       "3                                  Lead Source_Google    1.29\n",
       "2                          Lead Source_Direct Traffic    1.22\n",
       "13  What is your current occupation_Working Profes...    1.21\n",
       "0                         Total Time Spent on Website    1.19\n",
       "4                          Lead Source_Organic Search    1.10\n",
       "8                                    Do Not Email_Yes    1.09\n",
       "10              Last Activity_Olark Chat Conversation    1.05\n",
       "6                          Lead Source_Referral Sites    1.01\n",
       "9              Last Activity_Had a Phone Conversation    1.01\n",
       "12          What is your current occupation_Housewife    1.01\n",
       "14                  Last Notable Activity_Unreachable    1.01"
      ]
     },
     "execution_count": 83,
     "metadata": {},
     "output_type": "execute_result"
    }
   ],
   "source": [
    "# Make a VIF dataframe for all the variables present\n",
    "\n",
    "vif = pd.DataFrame()\n",
    "vif['Features'] = X_train.columns\n",
    "vif['VIF'] = [variance_inflation_factor(X_train.values, i) for i in range(X_train.shape[1])]\n",
    "vif['VIF'] = round(vif['VIF'], 2)\n",
    "vif = vif.sort_values(by = \"VIF\", ascending = False)\n",
    "vif"
   ]
  },
  {
   "cell_type": "markdown",
   "id": "36553e91",
   "metadata": {},
   "source": [
    "VIFs seem to be in a decent range except for three variables.\n",
    "\n",
    "Let's first drop the variable Lead Origin_Lead Add Form , since it has a high VIF as well as a high p-value."
   ]
  },
  {
   "cell_type": "code",
   "execution_count": 84,
   "id": "2f8df37a",
   "metadata": {},
   "outputs": [],
   "source": [
    "col = col.drop('Lead Origin_Lead Add Form', 1)"
   ]
  },
  {
   "cell_type": "code",
   "execution_count": 85,
   "id": "ddff98b7",
   "metadata": {},
   "outputs": [
    {
     "data": {
      "text/html": [
       "<table class=\"simpletable\">\n",
       "<caption>Generalized Linear Model Regression Results</caption>\n",
       "<tr>\n",
       "  <th>Dep. Variable:</th>       <td>Converted</td>    <th>  No. Observations:  </th>  <td>  4162</td> \n",
       "</tr>\n",
       "<tr>\n",
       "  <th>Model:</th>                  <td>GLM</td>       <th>  Df Residuals:      </th>  <td>  4147</td> \n",
       "</tr>\n",
       "<tr>\n",
       "  <th>Model Family:</th>        <td>Binomial</td>     <th>  Df Model:          </th>  <td>    14</td> \n",
       "</tr>\n",
       "<tr>\n",
       "  <th>Link Function:</th>         <td>logit</td>      <th>  Scale:             </th> <td>  1.0000</td>\n",
       "</tr>\n",
       "<tr>\n",
       "  <th>Method:</th>                <td>IRLS</td>       <th>  Log-Likelihood:    </th> <td> -1914.8</td>\n",
       "</tr>\n",
       "<tr>\n",
       "  <th>Date:</th>            <td>Fri, 12 Nov 2021</td> <th>  Deviance:          </th> <td>  3829.6</td>\n",
       "</tr>\n",
       "<tr>\n",
       "  <th>Time:</th>                <td>07:31:48</td>     <th>  Pearson chi2:      </th> <td>4.24e+03</td>\n",
       "</tr>\n",
       "<tr>\n",
       "  <th>No. Iterations:</th>         <td>21</td>        <th>                     </th>     <td> </td>   \n",
       "</tr>\n",
       "<tr>\n",
       "  <th>Covariance Type:</th>     <td>nonrobust</td>    <th>                     </th>     <td> </td>   \n",
       "</tr>\n",
       "</table>\n",
       "<table class=\"simpletable\">\n",
       "<tr>\n",
       "                            <td></td>                              <th>coef</th>     <th>std err</th>      <th>z</th>      <th>P>|z|</th>  <th>[0.025</th>    <th>0.975]</th>  \n",
       "</tr>\n",
       "<tr>\n",
       "  <th>const</th>                                                <td>    0.4201</td> <td>    0.106</td> <td>    3.947</td> <td> 0.000</td> <td>    0.211</td> <td>    0.629</td>\n",
       "</tr>\n",
       "<tr>\n",
       "  <th>Total Time Spent on Website</th>                          <td>    1.0978</td> <td>    0.048</td> <td>   22.667</td> <td> 0.000</td> <td>    1.003</td> <td>    1.193</td>\n",
       "</tr>\n",
       "<tr>\n",
       "  <th>Lead Source_Direct Traffic</th>                           <td>   -1.8263</td> <td>    0.134</td> <td>  -13.627</td> <td> 0.000</td> <td>   -2.089</td> <td>   -1.564</td>\n",
       "</tr>\n",
       "<tr>\n",
       "  <th>Lead Source_Google</th>                                   <td>   -1.3070</td> <td>    0.128</td> <td>  -10.210</td> <td> 0.000</td> <td>   -1.558</td> <td>   -1.056</td>\n",
       "</tr>\n",
       "<tr>\n",
       "  <th>Lead Source_Organic Search</th>                           <td>   -1.5458</td> <td>    0.157</td> <td>   -9.854</td> <td> 0.000</td> <td>   -1.853</td> <td>   -1.238</td>\n",
       "</tr>\n",
       "<tr>\n",
       "  <th>Lead Source_Reference</th>                                <td>    2.2419</td> <td>    0.248</td> <td>    9.040</td> <td> 0.000</td> <td>    1.756</td> <td>    2.728</td>\n",
       "</tr>\n",
       "<tr>\n",
       "  <th>Lead Source_Referral Sites</th>                           <td>   -1.6811</td> <td>    0.436</td> <td>   -3.855</td> <td> 0.000</td> <td>   -2.536</td> <td>   -0.826</td>\n",
       "</tr>\n",
       "<tr>\n",
       "  <th>Lead Source_Welingak Website</th>                         <td>    3.9873</td> <td>    0.727</td> <td>    5.488</td> <td> 0.000</td> <td>    2.563</td> <td>    5.411</td>\n",
       "</tr>\n",
       "<tr>\n",
       "  <th>Do Not Email_Yes</th>                                     <td>   -1.4175</td> <td>    0.195</td> <td>   -7.267</td> <td> 0.000</td> <td>   -1.800</td> <td>   -1.035</td>\n",
       "</tr>\n",
       "<tr>\n",
       "  <th>Last Activity_Had a Phone Conversation</th>               <td>    1.8988</td> <td>    0.778</td> <td>    2.440</td> <td> 0.015</td> <td>    0.374</td> <td>    3.424</td>\n",
       "</tr>\n",
       "<tr>\n",
       "  <th>Last Activity_Olark Chat Conversation</th>                <td>   -1.4674</td> <td>    0.202</td> <td>   -7.278</td> <td> 0.000</td> <td>   -1.863</td> <td>   -1.072</td>\n",
       "</tr>\n",
       "<tr>\n",
       "  <th>Last Activity_SMS Sent</th>                               <td>    1.2042</td> <td>    0.086</td> <td>   13.975</td> <td> 0.000</td> <td>    1.035</td> <td>    1.373</td>\n",
       "</tr>\n",
       "<tr>\n",
       "  <th>What is your current occupation_Housewife</th>            <td>   22.8958</td> <td> 1.49e+04</td> <td>    0.002</td> <td> 0.999</td> <td>-2.91e+04</td> <td> 2.92e+04</td>\n",
       "</tr>\n",
       "<tr>\n",
       "  <th>What is your current occupation_Working Professional</th> <td>    2.3772</td> <td>    0.187</td> <td>   12.743</td> <td> 0.000</td> <td>    2.012</td> <td>    2.743</td>\n",
       "</tr>\n",
       "<tr>\n",
       "  <th>Last Notable Activity_Unreachable</th>                    <td>    2.5186</td> <td>    0.831</td> <td>    3.031</td> <td> 0.002</td> <td>    0.890</td> <td>    4.147</td>\n",
       "</tr>\n",
       "</table>"
      ],
      "text/plain": [
       "<class 'statsmodels.iolib.summary.Summary'>\n",
       "\"\"\"\n",
       "                 Generalized Linear Model Regression Results                  \n",
       "==============================================================================\n",
       "Dep. Variable:              Converted   No. Observations:                 4162\n",
       "Model:                            GLM   Df Residuals:                     4147\n",
       "Model Family:                Binomial   Df Model:                           14\n",
       "Link Function:                  logit   Scale:                          1.0000\n",
       "Method:                          IRLS   Log-Likelihood:                -1914.8\n",
       "Date:                Fri, 12 Nov 2021   Deviance:                       3829.6\n",
       "Time:                        07:31:48   Pearson chi2:                 4.24e+03\n",
       "No. Iterations:                    21                                         \n",
       "Covariance Type:            nonrobust                                         \n",
       "========================================================================================================================\n",
       "                                                           coef    std err          z      P>|z|      [0.025      0.975]\n",
       "------------------------------------------------------------------------------------------------------------------------\n",
       "const                                                    0.4201      0.106      3.947      0.000       0.211       0.629\n",
       "Total Time Spent on Website                              1.0978      0.048     22.667      0.000       1.003       1.193\n",
       "Lead Source_Direct Traffic                              -1.8263      0.134    -13.627      0.000      -2.089      -1.564\n",
       "Lead Source_Google                                      -1.3070      0.128    -10.210      0.000      -1.558      -1.056\n",
       "Lead Source_Organic Search                              -1.5458      0.157     -9.854      0.000      -1.853      -1.238\n",
       "Lead Source_Reference                                    2.2419      0.248      9.040      0.000       1.756       2.728\n",
       "Lead Source_Referral Sites                              -1.6811      0.436     -3.855      0.000      -2.536      -0.826\n",
       "Lead Source_Welingak Website                             3.9873      0.727      5.488      0.000       2.563       5.411\n",
       "Do Not Email_Yes                                        -1.4175      0.195     -7.267      0.000      -1.800      -1.035\n",
       "Last Activity_Had a Phone Conversation                   1.8988      0.778      2.440      0.015       0.374       3.424\n",
       "Last Activity_Olark Chat Conversation                   -1.4674      0.202     -7.278      0.000      -1.863      -1.072\n",
       "Last Activity_SMS Sent                                   1.2042      0.086     13.975      0.000       1.035       1.373\n",
       "What is your current occupation_Housewife               22.8958   1.49e+04      0.002      0.999   -2.91e+04    2.92e+04\n",
       "What is your current occupation_Working Professional     2.3772      0.187     12.743      0.000       2.012       2.743\n",
       "Last Notable Activity_Unreachable                        2.5186      0.831      3.031      0.002       0.890       4.147\n",
       "========================================================================================================================\n",
       "\"\"\""
      ]
     },
     "execution_count": 85,
     "metadata": {},
     "output_type": "execute_result"
    }
   ],
   "source": [
    "# Let's re-run the model using the selected variables\n",
    "X_train_sm = sm.add_constant(X_train[col])\n",
    "logm3 = sm.GLM(y_train,X_train_sm, family = sm.families.Binomial())\n",
    "res = logm3.fit()\n",
    "res.summary()"
   ]
  },
  {
   "cell_type": "code",
   "execution_count": 86,
   "id": "5715671a",
   "metadata": {},
   "outputs": [
    {
     "data": {
      "text/plain": [
       "1871    0.355532\n",
       "6885    0.516786\n",
       "3427    0.106566\n",
       "1525    0.882299\n",
       "1475    0.945507\n",
       "8067    0.417036\n",
       "6083    0.112820\n",
       "3270    0.850141\n",
       "3223    0.403490\n",
       "1996    0.042700\n",
       "dtype: float64"
      ]
     },
     "execution_count": 86,
     "metadata": {},
     "output_type": "execute_result"
    }
   ],
   "source": [
    "# Getting the predicted values on the train set\n",
    "y_train_pred = res.predict(X_train_sm)\n",
    "y_train_pred[:10]"
   ]
  },
  {
   "cell_type": "code",
   "execution_count": 87,
   "id": "536c9519",
   "metadata": {},
   "outputs": [
    {
     "data": {
      "text/plain": [
       "array([0.35553155, 0.51678556, 0.1065655 , 0.88229863, 0.94550663,\n",
       "       0.41703647, 0.11281995, 0.85014133, 0.40349001, 0.04269957])"
      ]
     },
     "execution_count": 87,
     "metadata": {},
     "output_type": "execute_result"
    }
   ],
   "source": [
    "y_train_pred = y_train_pred.values.reshape(-1)\n",
    "y_train_pred[:10]"
   ]
  },
  {
   "cell_type": "code",
   "execution_count": 88,
   "id": "0adf3e26",
   "metadata": {},
   "outputs": [
    {
     "data": {
      "text/html": [
       "<div>\n",
       "<style scoped>\n",
       "    .dataframe tbody tr th:only-of-type {\n",
       "        vertical-align: middle;\n",
       "    }\n",
       "\n",
       "    .dataframe tbody tr th {\n",
       "        vertical-align: top;\n",
       "    }\n",
       "\n",
       "    .dataframe thead th {\n",
       "        text-align: right;\n",
       "    }\n",
       "</style>\n",
       "<table border=\"1\" class=\"dataframe\">\n",
       "  <thead>\n",
       "    <tr style=\"text-align: right;\">\n",
       "      <th></th>\n",
       "      <th>Converted</th>\n",
       "      <th>Lead_Prob</th>\n",
       "      <th>CustID</th>\n",
       "    </tr>\n",
       "  </thead>\n",
       "  <tbody>\n",
       "    <tr>\n",
       "      <th>0</th>\n",
       "      <td>0</td>\n",
       "      <td>0.355532</td>\n",
       "      <td>1871</td>\n",
       "    </tr>\n",
       "    <tr>\n",
       "      <th>1</th>\n",
       "      <td>1</td>\n",
       "      <td>0.516786</td>\n",
       "      <td>6885</td>\n",
       "    </tr>\n",
       "    <tr>\n",
       "      <th>2</th>\n",
       "      <td>0</td>\n",
       "      <td>0.106566</td>\n",
       "      <td>3427</td>\n",
       "    </tr>\n",
       "    <tr>\n",
       "      <th>3</th>\n",
       "      <td>0</td>\n",
       "      <td>0.882299</td>\n",
       "      <td>1525</td>\n",
       "    </tr>\n",
       "    <tr>\n",
       "      <th>4</th>\n",
       "      <td>1</td>\n",
       "      <td>0.945507</td>\n",
       "      <td>1475</td>\n",
       "    </tr>\n",
       "  </tbody>\n",
       "</table>\n",
       "</div>"
      ],
      "text/plain": [
       "   Converted  Lead_Prob  CustID\n",
       "0          0   0.355532    1871\n",
       "1          1   0.516786    6885\n",
       "2          0   0.106566    3427\n",
       "3          0   0.882299    1525\n",
       "4          1   0.945507    1475"
      ]
     },
     "execution_count": 88,
     "metadata": {},
     "output_type": "execute_result"
    }
   ],
   "source": [
    "#Creating a dataframe with the actual converted flag and the predicted probabilities\n",
    "y_train_pred_final = pd.DataFrame({'Converted':y_train.values, 'Lead_Prob':y_train_pred})\n",
    "y_train_pred_final['CustID'] = y_train.index\n",
    "y_train_pred_final.head()"
   ]
  },
  {
   "cell_type": "code",
   "execution_count": 89,
   "id": "b33317fc",
   "metadata": {},
   "outputs": [],
   "source": [
    "#Creating new column 'predicted' with 1 if Lead_Prob > 0.5 else 0\n",
    "y_train_pred_final['predicted'] = y_train_pred_final.Lead_Prob.map(lambda x: 1 if x > 0.5 else 0)"
   ]
  },
  {
   "cell_type": "code",
   "execution_count": 90,
   "id": "1c3da745",
   "metadata": {},
   "outputs": [
    {
     "data": {
      "text/html": [
       "<div>\n",
       "<style scoped>\n",
       "    .dataframe tbody tr th:only-of-type {\n",
       "        vertical-align: middle;\n",
       "    }\n",
       "\n",
       "    .dataframe tbody tr th {\n",
       "        vertical-align: top;\n",
       "    }\n",
       "\n",
       "    .dataframe thead th {\n",
       "        text-align: right;\n",
       "    }\n",
       "</style>\n",
       "<table border=\"1\" class=\"dataframe\">\n",
       "  <thead>\n",
       "    <tr style=\"text-align: right;\">\n",
       "      <th></th>\n",
       "      <th>Converted</th>\n",
       "      <th>Lead_Prob</th>\n",
       "      <th>CustID</th>\n",
       "      <th>predicted</th>\n",
       "      <th>leadscore_score</th>\n",
       "    </tr>\n",
       "  </thead>\n",
       "  <tbody>\n",
       "    <tr>\n",
       "      <th>0</th>\n",
       "      <td>0</td>\n",
       "      <td>0.355532</td>\n",
       "      <td>1871</td>\n",
       "      <td>0</td>\n",
       "      <td>35.553155</td>\n",
       "    </tr>\n",
       "    <tr>\n",
       "      <th>1</th>\n",
       "      <td>1</td>\n",
       "      <td>0.516786</td>\n",
       "      <td>6885</td>\n",
       "      <td>1</td>\n",
       "      <td>51.678556</td>\n",
       "    </tr>\n",
       "    <tr>\n",
       "      <th>2</th>\n",
       "      <td>0</td>\n",
       "      <td>0.106566</td>\n",
       "      <td>3427</td>\n",
       "      <td>0</td>\n",
       "      <td>10.656550</td>\n",
       "    </tr>\n",
       "    <tr>\n",
       "      <th>3</th>\n",
       "      <td>0</td>\n",
       "      <td>0.882299</td>\n",
       "      <td>1525</td>\n",
       "      <td>1</td>\n",
       "      <td>88.229863</td>\n",
       "    </tr>\n",
       "    <tr>\n",
       "      <th>4</th>\n",
       "      <td>1</td>\n",
       "      <td>0.945507</td>\n",
       "      <td>1475</td>\n",
       "      <td>1</td>\n",
       "      <td>94.550663</td>\n",
       "    </tr>\n",
       "  </tbody>\n",
       "</table>\n",
       "</div>"
      ],
      "text/plain": [
       "   Converted  Lead_Prob  CustID  predicted  leadscore_score\n",
       "0          0   0.355532    1871          0        35.553155\n",
       "1          1   0.516786    6885          1        51.678556\n",
       "2          0   0.106566    3427          0        10.656550\n",
       "3          0   0.882299    1525          1        88.229863\n",
       "4          1   0.945507    1475          1        94.550663"
      ]
     },
     "execution_count": 90,
     "metadata": {},
     "output_type": "execute_result"
    }
   ],
   "source": [
    "#assigning lead score [Lead score = 100*(probability of converted)]\n",
    "y_train_pred_final['leadscore_score']= y_train_pred_final.Lead_Prob.map(lambda x: x*100)\n",
    "\n",
    "y_train_pred_final.head()"
   ]
  },
  {
   "cell_type": "code",
   "execution_count": null,
   "id": "0ae630f3",
   "metadata": {},
   "outputs": [],
   "source": []
  },
  {
   "cell_type": "code",
   "execution_count": 91,
   "id": "31314a53",
   "metadata": {},
   "outputs": [
    {
     "name": "stdout",
     "output_type": "stream",
     "text": [
      "0.7854396924555502\n"
     ]
    }
   ],
   "source": [
    "# Let's check the overall accuracy.\n",
    "print(metrics.accuracy_score(y_train_pred_final.Converted, y_train_pred_final.predicted))\n"
   ]
  },
  {
   "cell_type": "markdown",
   "id": "a83153ba",
   "metadata": {},
   "source": [
    "So overall the accuracy hasn't dropped much."
   ]
  },
  {
   "cell_type": "markdown",
   "id": "031f7f24",
   "metadata": {},
   "source": [
    "Let's check the VIFs again"
   ]
  },
  {
   "cell_type": "code",
   "execution_count": 92,
   "id": "aa4a3ba0",
   "metadata": {
    "scrolled": false
   },
   "outputs": [
    {
     "data": {
      "text/html": [
       "<div>\n",
       "<style scoped>\n",
       "    .dataframe tbody tr th:only-of-type {\n",
       "        vertical-align: middle;\n",
       "    }\n",
       "\n",
       "    .dataframe tbody tr th {\n",
       "        vertical-align: top;\n",
       "    }\n",
       "\n",
       "    .dataframe thead th {\n",
       "        text-align: right;\n",
       "    }\n",
       "</style>\n",
       "<table border=\"1\" class=\"dataframe\">\n",
       "  <thead>\n",
       "    <tr style=\"text-align: right;\">\n",
       "      <th></th>\n",
       "      <th>Features</th>\n",
       "      <th>VIF</th>\n",
       "    </tr>\n",
       "  </thead>\n",
       "  <tbody>\n",
       "    <tr>\n",
       "      <th>10</th>\n",
       "      <td>Last Activity_SMS Sent</td>\n",
       "      <td>1.50</td>\n",
       "    </tr>\n",
       "    <tr>\n",
       "      <th>2</th>\n",
       "      <td>Lead Source_Google</td>\n",
       "      <td>1.29</td>\n",
       "    </tr>\n",
       "    <tr>\n",
       "      <th>4</th>\n",
       "      <td>Lead Source_Reference</td>\n",
       "      <td>1.24</td>\n",
       "    </tr>\n",
       "    <tr>\n",
       "      <th>1</th>\n",
       "      <td>Lead Source_Direct Traffic</td>\n",
       "      <td>1.22</td>\n",
       "    </tr>\n",
       "    <tr>\n",
       "      <th>12</th>\n",
       "      <td>What is your current occupation_Working Profes...</td>\n",
       "      <td>1.21</td>\n",
       "    </tr>\n",
       "    <tr>\n",
       "      <th>0</th>\n",
       "      <td>Total Time Spent on Website</td>\n",
       "      <td>1.19</td>\n",
       "    </tr>\n",
       "    <tr>\n",
       "      <th>3</th>\n",
       "      <td>Lead Source_Organic Search</td>\n",
       "      <td>1.10</td>\n",
       "    </tr>\n",
       "    <tr>\n",
       "      <th>7</th>\n",
       "      <td>Do Not Email_Yes</td>\n",
       "      <td>1.09</td>\n",
       "    </tr>\n",
       "    <tr>\n",
       "      <th>6</th>\n",
       "      <td>Lead Source_Welingak Website</td>\n",
       "      <td>1.06</td>\n",
       "    </tr>\n",
       "    <tr>\n",
       "      <th>9</th>\n",
       "      <td>Last Activity_Olark Chat Conversation</td>\n",
       "      <td>1.05</td>\n",
       "    </tr>\n",
       "    <tr>\n",
       "      <th>5</th>\n",
       "      <td>Lead Source_Referral Sites</td>\n",
       "      <td>1.01</td>\n",
       "    </tr>\n",
       "    <tr>\n",
       "      <th>8</th>\n",
       "      <td>Last Activity_Had a Phone Conversation</td>\n",
       "      <td>1.01</td>\n",
       "    </tr>\n",
       "    <tr>\n",
       "      <th>11</th>\n",
       "      <td>What is your current occupation_Housewife</td>\n",
       "      <td>1.01</td>\n",
       "    </tr>\n",
       "    <tr>\n",
       "      <th>13</th>\n",
       "      <td>Last Notable Activity_Unreachable</td>\n",
       "      <td>1.01</td>\n",
       "    </tr>\n",
       "  </tbody>\n",
       "</table>\n",
       "</div>"
      ],
      "text/plain": [
       "                                             Features   VIF\n",
       "10                             Last Activity_SMS Sent  1.50\n",
       "2                                  Lead Source_Google  1.29\n",
       "4                               Lead Source_Reference  1.24\n",
       "1                          Lead Source_Direct Traffic  1.22\n",
       "12  What is your current occupation_Working Profes...  1.21\n",
       "0                         Total Time Spent on Website  1.19\n",
       "3                          Lead Source_Organic Search  1.10\n",
       "7                                    Do Not Email_Yes  1.09\n",
       "6                        Lead Source_Welingak Website  1.06\n",
       "9               Last Activity_Olark Chat Conversation  1.05\n",
       "5                          Lead Source_Referral Sites  1.01\n",
       "8              Last Activity_Had a Phone Conversation  1.01\n",
       "11          What is your current occupation_Housewife  1.01\n",
       "13                  Last Notable Activity_Unreachable  1.01"
      ]
     },
     "execution_count": 92,
     "metadata": {},
     "output_type": "execute_result"
    }
   ],
   "source": [
    "vif = pd.DataFrame()\n",
    "vif['Features'] = X_train[col].columns\n",
    "vif['VIF'] = [variance_inflation_factor(X_train[col].values, i) for i in range(X_train[col].shape[1])]\n",
    "vif['VIF'] = round(vif['VIF'], 2)\n",
    "vif = vif.sort_values(by = \"VIF\", ascending = False)\n",
    "vif"
   ]
  },
  {
   "cell_type": "code",
   "execution_count": 93,
   "id": "d29b3787",
   "metadata": {},
   "outputs": [
    {
     "data": {
      "text/html": [
       "<table class=\"simpletable\">\n",
       "<caption>Generalized Linear Model Regression Results</caption>\n",
       "<tr>\n",
       "  <th>Dep. Variable:</th>       <td>Converted</td>    <th>  No. Observations:  </th>  <td>  4162</td> \n",
       "</tr>\n",
       "<tr>\n",
       "  <th>Model:</th>                  <td>GLM</td>       <th>  Df Residuals:      </th>  <td>  4147</td> \n",
       "</tr>\n",
       "<tr>\n",
       "  <th>Model Family:</th>        <td>Binomial</td>     <th>  Df Model:          </th>  <td>    14</td> \n",
       "</tr>\n",
       "<tr>\n",
       "  <th>Link Function:</th>         <td>logit</td>      <th>  Scale:             </th> <td>  1.0000</td>\n",
       "</tr>\n",
       "<tr>\n",
       "  <th>Method:</th>                <td>IRLS</td>       <th>  Log-Likelihood:    </th> <td> -1914.8</td>\n",
       "</tr>\n",
       "<tr>\n",
       "  <th>Date:</th>            <td>Fri, 12 Nov 2021</td> <th>  Deviance:          </th> <td>  3829.6</td>\n",
       "</tr>\n",
       "<tr>\n",
       "  <th>Time:</th>                <td>07:31:49</td>     <th>  Pearson chi2:      </th> <td>4.24e+03</td>\n",
       "</tr>\n",
       "<tr>\n",
       "  <th>No. Iterations:</th>         <td>21</td>        <th>                     </th>     <td> </td>   \n",
       "</tr>\n",
       "<tr>\n",
       "  <th>Covariance Type:</th>     <td>nonrobust</td>    <th>                     </th>     <td> </td>   \n",
       "</tr>\n",
       "</table>\n",
       "<table class=\"simpletable\">\n",
       "<tr>\n",
       "                            <td></td>                              <th>coef</th>     <th>std err</th>      <th>z</th>      <th>P>|z|</th>  <th>[0.025</th>    <th>0.975]</th>  \n",
       "</tr>\n",
       "<tr>\n",
       "  <th>const</th>                                                <td>    0.4201</td> <td>    0.106</td> <td>    3.947</td> <td> 0.000</td> <td>    0.211</td> <td>    0.629</td>\n",
       "</tr>\n",
       "<tr>\n",
       "  <th>Total Time Spent on Website</th>                          <td>    1.0978</td> <td>    0.048</td> <td>   22.667</td> <td> 0.000</td> <td>    1.003</td> <td>    1.193</td>\n",
       "</tr>\n",
       "<tr>\n",
       "  <th>Lead Source_Direct Traffic</th>                           <td>   -1.8263</td> <td>    0.134</td> <td>  -13.627</td> <td> 0.000</td> <td>   -2.089</td> <td>   -1.564</td>\n",
       "</tr>\n",
       "<tr>\n",
       "  <th>Lead Source_Google</th>                                   <td>   -1.3070</td> <td>    0.128</td> <td>  -10.210</td> <td> 0.000</td> <td>   -1.558</td> <td>   -1.056</td>\n",
       "</tr>\n",
       "<tr>\n",
       "  <th>Lead Source_Organic Search</th>                           <td>   -1.5458</td> <td>    0.157</td> <td>   -9.854</td> <td> 0.000</td> <td>   -1.853</td> <td>   -1.238</td>\n",
       "</tr>\n",
       "<tr>\n",
       "  <th>Lead Source_Reference</th>                                <td>    2.2419</td> <td>    0.248</td> <td>    9.040</td> <td> 0.000</td> <td>    1.756</td> <td>    2.728</td>\n",
       "</tr>\n",
       "<tr>\n",
       "  <th>Lead Source_Referral Sites</th>                           <td>   -1.6811</td> <td>    0.436</td> <td>   -3.855</td> <td> 0.000</td> <td>   -2.536</td> <td>   -0.826</td>\n",
       "</tr>\n",
       "<tr>\n",
       "  <th>Lead Source_Welingak Website</th>                         <td>    3.9873</td> <td>    0.727</td> <td>    5.488</td> <td> 0.000</td> <td>    2.563</td> <td>    5.411</td>\n",
       "</tr>\n",
       "<tr>\n",
       "  <th>Do Not Email_Yes</th>                                     <td>   -1.4175</td> <td>    0.195</td> <td>   -7.267</td> <td> 0.000</td> <td>   -1.800</td> <td>   -1.035</td>\n",
       "</tr>\n",
       "<tr>\n",
       "  <th>Last Activity_Had a Phone Conversation</th>               <td>    1.8988</td> <td>    0.778</td> <td>    2.440</td> <td> 0.015</td> <td>    0.374</td> <td>    3.424</td>\n",
       "</tr>\n",
       "<tr>\n",
       "  <th>Last Activity_Olark Chat Conversation</th>                <td>   -1.4674</td> <td>    0.202</td> <td>   -7.278</td> <td> 0.000</td> <td>   -1.863</td> <td>   -1.072</td>\n",
       "</tr>\n",
       "<tr>\n",
       "  <th>Last Activity_SMS Sent</th>                               <td>    1.2042</td> <td>    0.086</td> <td>   13.975</td> <td> 0.000</td> <td>    1.035</td> <td>    1.373</td>\n",
       "</tr>\n",
       "<tr>\n",
       "  <th>What is your current occupation_Housewife</th>            <td>   22.8958</td> <td> 1.49e+04</td> <td>    0.002</td> <td> 0.999</td> <td>-2.91e+04</td> <td> 2.92e+04</td>\n",
       "</tr>\n",
       "<tr>\n",
       "  <th>What is your current occupation_Working Professional</th> <td>    2.3772</td> <td>    0.187</td> <td>   12.743</td> <td> 0.000</td> <td>    2.012</td> <td>    2.743</td>\n",
       "</tr>\n",
       "<tr>\n",
       "  <th>Last Notable Activity_Unreachable</th>                    <td>    2.5186</td> <td>    0.831</td> <td>    3.031</td> <td> 0.002</td> <td>    0.890</td> <td>    4.147</td>\n",
       "</tr>\n",
       "</table>"
      ],
      "text/plain": [
       "<class 'statsmodels.iolib.summary.Summary'>\n",
       "\"\"\"\n",
       "                 Generalized Linear Model Regression Results                  \n",
       "==============================================================================\n",
       "Dep. Variable:              Converted   No. Observations:                 4162\n",
       "Model:                            GLM   Df Residuals:                     4147\n",
       "Model Family:                Binomial   Df Model:                           14\n",
       "Link Function:                  logit   Scale:                          1.0000\n",
       "Method:                          IRLS   Log-Likelihood:                -1914.8\n",
       "Date:                Fri, 12 Nov 2021   Deviance:                       3829.6\n",
       "Time:                        07:31:49   Pearson chi2:                 4.24e+03\n",
       "No. Iterations:                    21                                         \n",
       "Covariance Type:            nonrobust                                         \n",
       "========================================================================================================================\n",
       "                                                           coef    std err          z      P>|z|      [0.025      0.975]\n",
       "------------------------------------------------------------------------------------------------------------------------\n",
       "const                                                    0.4201      0.106      3.947      0.000       0.211       0.629\n",
       "Total Time Spent on Website                              1.0978      0.048     22.667      0.000       1.003       1.193\n",
       "Lead Source_Direct Traffic                              -1.8263      0.134    -13.627      0.000      -2.089      -1.564\n",
       "Lead Source_Google                                      -1.3070      0.128    -10.210      0.000      -1.558      -1.056\n",
       "Lead Source_Organic Search                              -1.5458      0.157     -9.854      0.000      -1.853      -1.238\n",
       "Lead Source_Reference                                    2.2419      0.248      9.040      0.000       1.756       2.728\n",
       "Lead Source_Referral Sites                              -1.6811      0.436     -3.855      0.000      -2.536      -0.826\n",
       "Lead Source_Welingak Website                             3.9873      0.727      5.488      0.000       2.563       5.411\n",
       "Do Not Email_Yes                                        -1.4175      0.195     -7.267      0.000      -1.800      -1.035\n",
       "Last Activity_Had a Phone Conversation                   1.8988      0.778      2.440      0.015       0.374       3.424\n",
       "Last Activity_Olark Chat Conversation                   -1.4674      0.202     -7.278      0.000      -1.863      -1.072\n",
       "Last Activity_SMS Sent                                   1.2042      0.086     13.975      0.000       1.035       1.373\n",
       "What is your current occupation_Housewife               22.8958   1.49e+04      0.002      0.999   -2.91e+04    2.92e+04\n",
       "What is your current occupation_Working Professional     2.3772      0.187     12.743      0.000       2.012       2.743\n",
       "Last Notable Activity_Unreachable                        2.5186      0.831      3.031      0.002       0.890       4.147\n",
       "========================================================================================================================\n",
       "\"\"\""
      ]
     },
     "execution_count": 93,
     "metadata": {},
     "output_type": "execute_result"
    }
   ],
   "source": [
    "X_train_sm = sm.add_constant(X_train[col])\n",
    "logm4 = sm.GLM(y_train,X_train_sm, family = sm.families.Binomial())\n",
    "res = logm4.fit()\n",
    "res.summary()"
   ]
  },
  {
   "cell_type": "markdown",
   "id": "97e64274",
   "metadata": {},
   "source": [
    "VIFs seem to be in a decent range."
   ]
  },
  {
   "cell_type": "markdown",
   "id": "947c53b4",
   "metadata": {},
   "source": [
    "But drop the variable What is your current occupation_Housewife since it has a high p-value."
   ]
  },
  {
   "cell_type": "code",
   "execution_count": 94,
   "id": "6c75cfdb",
   "metadata": {},
   "outputs": [],
   "source": [
    "#drop 'What is your current occupation_Housewife' - having high p value\n",
    "col = col.drop('What is your current occupation_Housewife', 1)"
   ]
  },
  {
   "cell_type": "code",
   "execution_count": 95,
   "id": "aae92aef",
   "metadata": {},
   "outputs": [
    {
     "data": {
      "text/html": [
       "<table class=\"simpletable\">\n",
       "<caption>Generalized Linear Model Regression Results</caption>\n",
       "<tr>\n",
       "  <th>Dep. Variable:</th>       <td>Converted</td>    <th>  No. Observations:  </th>  <td>  4162</td> \n",
       "</tr>\n",
       "<tr>\n",
       "  <th>Model:</th>                  <td>GLM</td>       <th>  Df Residuals:      </th>  <td>  4148</td> \n",
       "</tr>\n",
       "<tr>\n",
       "  <th>Model Family:</th>        <td>Binomial</td>     <th>  Df Model:          </th>  <td>    13</td> \n",
       "</tr>\n",
       "<tr>\n",
       "  <th>Link Function:</th>         <td>logit</td>      <th>  Scale:             </th> <td>  1.0000</td>\n",
       "</tr>\n",
       "<tr>\n",
       "  <th>Method:</th>                <td>IRLS</td>       <th>  Log-Likelihood:    </th> <td> -1921.0</td>\n",
       "</tr>\n",
       "<tr>\n",
       "  <th>Date:</th>            <td>Fri, 12 Nov 2021</td> <th>  Deviance:          </th> <td>  3842.0</td>\n",
       "</tr>\n",
       "<tr>\n",
       "  <th>Time:</th>                <td>07:31:49</td>     <th>  Pearson chi2:      </th> <td>4.25e+03</td>\n",
       "</tr>\n",
       "<tr>\n",
       "  <th>No. Iterations:</th>          <td>7</td>        <th>                     </th>     <td> </td>   \n",
       "</tr>\n",
       "<tr>\n",
       "  <th>Covariance Type:</th>     <td>nonrobust</td>    <th>                     </th>     <td> </td>   \n",
       "</tr>\n",
       "</table>\n",
       "<table class=\"simpletable\">\n",
       "<tr>\n",
       "                            <td></td>                              <th>coef</th>     <th>std err</th>      <th>z</th>      <th>P>|z|</th>  <th>[0.025</th>    <th>0.975]</th>  \n",
       "</tr>\n",
       "<tr>\n",
       "  <th>const</th>                                                <td>    0.4242</td> <td>    0.106</td> <td>    3.989</td> <td> 0.000</td> <td>    0.216</td> <td>    0.633</td>\n",
       "</tr>\n",
       "<tr>\n",
       "  <th>Total Time Spent on Website</th>                          <td>    1.0974</td> <td>    0.048</td> <td>   22.694</td> <td> 0.000</td> <td>    1.003</td> <td>    1.192</td>\n",
       "</tr>\n",
       "<tr>\n",
       "  <th>Lead Source_Direct Traffic</th>                           <td>   -1.8221</td> <td>    0.134</td> <td>  -13.613</td> <td> 0.000</td> <td>   -2.084</td> <td>   -1.560</td>\n",
       "</tr>\n",
       "<tr>\n",
       "  <th>Lead Source_Google</th>                                   <td>   -1.3003</td> <td>    0.128</td> <td>  -10.173</td> <td> 0.000</td> <td>   -1.551</td> <td>   -1.050</td>\n",
       "</tr>\n",
       "<tr>\n",
       "  <th>Lead Source_Organic Search</th>                           <td>   -1.5290</td> <td>    0.156</td> <td>   -9.774</td> <td> 0.000</td> <td>   -1.836</td> <td>   -1.222</td>\n",
       "</tr>\n",
       "<tr>\n",
       "  <th>Lead Source_Reference</th>                                <td>    2.2568</td> <td>    0.248</td> <td>    9.109</td> <td> 0.000</td> <td>    1.771</td> <td>    2.742</td>\n",
       "</tr>\n",
       "<tr>\n",
       "  <th>Lead Source_Referral Sites</th>                           <td>   -1.6816</td> <td>    0.436</td> <td>   -3.858</td> <td> 0.000</td> <td>   -2.536</td> <td>   -0.827</td>\n",
       "</tr>\n",
       "<tr>\n",
       "  <th>Lead Source_Welingak Website</th>                         <td>    3.9887</td> <td>    0.727</td> <td>    5.490</td> <td> 0.000</td> <td>    2.565</td> <td>    5.413</td>\n",
       "</tr>\n",
       "<tr>\n",
       "  <th>Do Not Email_Yes</th>                                     <td>   -1.4230</td> <td>    0.195</td> <td>   -7.300</td> <td> 0.000</td> <td>   -1.805</td> <td>   -1.041</td>\n",
       "</tr>\n",
       "<tr>\n",
       "  <th>Last Activity_Had a Phone Conversation</th>               <td>    1.8863</td> <td>    0.778</td> <td>    2.424</td> <td> 0.015</td> <td>    0.361</td> <td>    3.411</td>\n",
       "</tr>\n",
       "<tr>\n",
       "  <th>Last Activity_Olark Chat Conversation</th>                <td>   -1.4742</td> <td>    0.202</td> <td>   -7.312</td> <td> 0.000</td> <td>   -1.869</td> <td>   -1.079</td>\n",
       "</tr>\n",
       "<tr>\n",
       "  <th>Last Activity_SMS Sent</th>                               <td>    1.1943</td> <td>    0.086</td> <td>   13.878</td> <td> 0.000</td> <td>    1.026</td> <td>    1.363</td>\n",
       "</tr>\n",
       "<tr>\n",
       "  <th>What is your current occupation_Working Professional</th> <td>    2.3699</td> <td>    0.186</td> <td>   12.708</td> <td> 0.000</td> <td>    2.004</td> <td>    2.735</td>\n",
       "</tr>\n",
       "<tr>\n",
       "  <th>Last Notable Activity_Unreachable</th>                    <td>    2.5080</td> <td>    0.831</td> <td>    3.017</td> <td> 0.003</td> <td>    0.879</td> <td>    4.137</td>\n",
       "</tr>\n",
       "</table>"
      ],
      "text/plain": [
       "<class 'statsmodels.iolib.summary.Summary'>\n",
       "\"\"\"\n",
       "                 Generalized Linear Model Regression Results                  \n",
       "==============================================================================\n",
       "Dep. Variable:              Converted   No. Observations:                 4162\n",
       "Model:                            GLM   Df Residuals:                     4148\n",
       "Model Family:                Binomial   Df Model:                           13\n",
       "Link Function:                  logit   Scale:                          1.0000\n",
       "Method:                          IRLS   Log-Likelihood:                -1921.0\n",
       "Date:                Fri, 12 Nov 2021   Deviance:                       3842.0\n",
       "Time:                        07:31:49   Pearson chi2:                 4.25e+03\n",
       "No. Iterations:                     7                                         \n",
       "Covariance Type:            nonrobust                                         \n",
       "========================================================================================================================\n",
       "                                                           coef    std err          z      P>|z|      [0.025      0.975]\n",
       "------------------------------------------------------------------------------------------------------------------------\n",
       "const                                                    0.4242      0.106      3.989      0.000       0.216       0.633\n",
       "Total Time Spent on Website                              1.0974      0.048     22.694      0.000       1.003       1.192\n",
       "Lead Source_Direct Traffic                              -1.8221      0.134    -13.613      0.000      -2.084      -1.560\n",
       "Lead Source_Google                                      -1.3003      0.128    -10.173      0.000      -1.551      -1.050\n",
       "Lead Source_Organic Search                              -1.5290      0.156     -9.774      0.000      -1.836      -1.222\n",
       "Lead Source_Reference                                    2.2568      0.248      9.109      0.000       1.771       2.742\n",
       "Lead Source_Referral Sites                              -1.6816      0.436     -3.858      0.000      -2.536      -0.827\n",
       "Lead Source_Welingak Website                             3.9887      0.727      5.490      0.000       2.565       5.413\n",
       "Do Not Email_Yes                                        -1.4230      0.195     -7.300      0.000      -1.805      -1.041\n",
       "Last Activity_Had a Phone Conversation                   1.8863      0.778      2.424      0.015       0.361       3.411\n",
       "Last Activity_Olark Chat Conversation                   -1.4742      0.202     -7.312      0.000      -1.869      -1.079\n",
       "Last Activity_SMS Sent                                   1.1943      0.086     13.878      0.000       1.026       1.363\n",
       "What is your current occupation_Working Professional     2.3699      0.186     12.708      0.000       2.004       2.735\n",
       "Last Notable Activity_Unreachable                        2.5080      0.831      3.017      0.003       0.879       4.137\n",
       "========================================================================================================================\n",
       "\"\"\""
      ]
     },
     "execution_count": 95,
     "metadata": {},
     "output_type": "execute_result"
    }
   ],
   "source": [
    "X_train_sm = sm.add_constant(X_train[col])\n",
    "logm5 = sm.GLM(y_train,X_train_sm, family = sm.families.Binomial())\n",
    "res = logm5.fit()\n",
    "res.summary()"
   ]
  },
  {
   "cell_type": "code",
   "execution_count": 96,
   "id": "afca2311",
   "metadata": {},
   "outputs": [
    {
     "data": {
      "text/plain": [
       "1871    0.356556\n",
       "6885    0.518751\n",
       "3427    0.107384\n",
       "1525    0.882647\n",
       "1475    0.945666\n",
       "8067    0.419762\n",
       "6083    0.112596\n",
       "3270    0.850200\n",
       "3223    0.403762\n",
       "1996    0.043342\n",
       "dtype: float64"
      ]
     },
     "execution_count": 96,
     "metadata": {},
     "output_type": "execute_result"
    }
   ],
   "source": [
    "# Getting the predicted values on the train set\n",
    "y_train_pred = res.predict(X_train_sm)\n",
    "y_train_pred[:10]"
   ]
  },
  {
   "cell_type": "code",
   "execution_count": 97,
   "id": "4d756858",
   "metadata": {},
   "outputs": [
    {
     "data": {
      "text/plain": [
       "array([0.35655553, 0.51875063, 0.10738368, 0.88264676, 0.94566566,\n",
       "       0.41976186, 0.1125956 , 0.85019978, 0.40376249, 0.04334165])"
      ]
     },
     "execution_count": 97,
     "metadata": {},
     "output_type": "execute_result"
    }
   ],
   "source": [
    "y_train_pred = y_train_pred.values.reshape(-1)\n",
    "y_train_pred[:10]"
   ]
  },
  {
   "cell_type": "code",
   "execution_count": 98,
   "id": "b8c62929",
   "metadata": {},
   "outputs": [
    {
     "data": {
      "text/html": [
       "<div>\n",
       "<style scoped>\n",
       "    .dataframe tbody tr th:only-of-type {\n",
       "        vertical-align: middle;\n",
       "    }\n",
       "\n",
       "    .dataframe tbody tr th {\n",
       "        vertical-align: top;\n",
       "    }\n",
       "\n",
       "    .dataframe thead th {\n",
       "        text-align: right;\n",
       "    }\n",
       "</style>\n",
       "<table border=\"1\" class=\"dataframe\">\n",
       "  <thead>\n",
       "    <tr style=\"text-align: right;\">\n",
       "      <th></th>\n",
       "      <th>Converted</th>\n",
       "      <th>Leadscore_Prob</th>\n",
       "      <th>CustID</th>\n",
       "    </tr>\n",
       "  </thead>\n",
       "  <tbody>\n",
       "    <tr>\n",
       "      <th>0</th>\n",
       "      <td>0</td>\n",
       "      <td>0.356556</td>\n",
       "      <td>1871</td>\n",
       "    </tr>\n",
       "    <tr>\n",
       "      <th>1</th>\n",
       "      <td>1</td>\n",
       "      <td>0.518751</td>\n",
       "      <td>6885</td>\n",
       "    </tr>\n",
       "    <tr>\n",
       "      <th>2</th>\n",
       "      <td>0</td>\n",
       "      <td>0.107384</td>\n",
       "      <td>3427</td>\n",
       "    </tr>\n",
       "    <tr>\n",
       "      <th>3</th>\n",
       "      <td>0</td>\n",
       "      <td>0.882647</td>\n",
       "      <td>1525</td>\n",
       "    </tr>\n",
       "    <tr>\n",
       "      <th>4</th>\n",
       "      <td>1</td>\n",
       "      <td>0.945666</td>\n",
       "      <td>1475</td>\n",
       "    </tr>\n",
       "  </tbody>\n",
       "</table>\n",
       "</div>"
      ],
      "text/plain": [
       "   Converted  Leadscore_Prob  CustID\n",
       "0          0        0.356556    1871\n",
       "1          1        0.518751    6885\n",
       "2          0        0.107384    3427\n",
       "3          0        0.882647    1525\n",
       "4          1        0.945666    1475"
      ]
     },
     "execution_count": 98,
     "metadata": {},
     "output_type": "execute_result"
    }
   ],
   "source": [
    "#Creating a dataframe with the actual converted flag and the predicted probabilities\n",
    "y_train_pred_final = pd.DataFrame({'Converted':y_train.values, 'Leadscore_Prob':y_train_pred})\n",
    "y_train_pred_final['CustID'] = y_train.index\n",
    "y_train_pred_final.head()"
   ]
  },
  {
   "cell_type": "code",
   "execution_count": 99,
   "id": "5880d333",
   "metadata": {},
   "outputs": [
    {
     "data": {
      "text/html": [
       "<div>\n",
       "<style scoped>\n",
       "    .dataframe tbody tr th:only-of-type {\n",
       "        vertical-align: middle;\n",
       "    }\n",
       "\n",
       "    .dataframe tbody tr th {\n",
       "        vertical-align: top;\n",
       "    }\n",
       "\n",
       "    .dataframe thead th {\n",
       "        text-align: right;\n",
       "    }\n",
       "</style>\n",
       "<table border=\"1\" class=\"dataframe\">\n",
       "  <thead>\n",
       "    <tr style=\"text-align: right;\">\n",
       "      <th></th>\n",
       "      <th>Converted</th>\n",
       "      <th>Leadscore_Prob</th>\n",
       "      <th>CustID</th>\n",
       "      <th>predicted</th>\n",
       "    </tr>\n",
       "  </thead>\n",
       "  <tbody>\n",
       "    <tr>\n",
       "      <th>0</th>\n",
       "      <td>0</td>\n",
       "      <td>0.356556</td>\n",
       "      <td>1871</td>\n",
       "      <td>0</td>\n",
       "    </tr>\n",
       "    <tr>\n",
       "      <th>1</th>\n",
       "      <td>1</td>\n",
       "      <td>0.518751</td>\n",
       "      <td>6885</td>\n",
       "      <td>1</td>\n",
       "    </tr>\n",
       "    <tr>\n",
       "      <th>2</th>\n",
       "      <td>0</td>\n",
       "      <td>0.107384</td>\n",
       "      <td>3427</td>\n",
       "      <td>0</td>\n",
       "    </tr>\n",
       "    <tr>\n",
       "      <th>3</th>\n",
       "      <td>0</td>\n",
       "      <td>0.882647</td>\n",
       "      <td>1525</td>\n",
       "      <td>1</td>\n",
       "    </tr>\n",
       "    <tr>\n",
       "      <th>4</th>\n",
       "      <td>1</td>\n",
       "      <td>0.945666</td>\n",
       "      <td>1475</td>\n",
       "      <td>1</td>\n",
       "    </tr>\n",
       "  </tbody>\n",
       "</table>\n",
       "</div>"
      ],
      "text/plain": [
       "   Converted  Leadscore_Prob  CustID  predicted\n",
       "0          0        0.356556    1871          0\n",
       "1          1        0.518751    6885          1\n",
       "2          0        0.107384    3427          0\n",
       "3          0        0.882647    1525          1\n",
       "4          1        0.945666    1475          1"
      ]
     },
     "execution_count": 99,
     "metadata": {},
     "output_type": "execute_result"
    }
   ],
   "source": [
    "#Creating new column 'predicted' with 1 if Leadscore_Prob > 0.5 else 0\n",
    "y_train_pred_final['predicted'] = y_train_pred_final.Leadscore_Prob.map(lambda x: 1 if x > 0.5 else 0)\n",
    "\n",
    "# Let's see the head\n",
    "y_train_pred_final.head()"
   ]
  },
  {
   "cell_type": "code",
   "execution_count": 100,
   "id": "949fd39d",
   "metadata": {},
   "outputs": [],
   "source": [
    "#assigning lead score [Lead score = 100*(probability of converted)]\n",
    "y_train_pred_final['leadscore_score']= y_train_pred_final.Leadscore_Prob.map(lambda x: x*100)"
   ]
  },
  {
   "cell_type": "code",
   "execution_count": 101,
   "id": "80c8258e",
   "metadata": {},
   "outputs": [
    {
     "data": {
      "text/html": [
       "<div>\n",
       "<style scoped>\n",
       "    .dataframe tbody tr th:only-of-type {\n",
       "        vertical-align: middle;\n",
       "    }\n",
       "\n",
       "    .dataframe tbody tr th {\n",
       "        vertical-align: top;\n",
       "    }\n",
       "\n",
       "    .dataframe thead th {\n",
       "        text-align: right;\n",
       "    }\n",
       "</style>\n",
       "<table border=\"1\" class=\"dataframe\">\n",
       "  <thead>\n",
       "    <tr style=\"text-align: right;\">\n",
       "      <th></th>\n",
       "      <th>Converted</th>\n",
       "      <th>Leadscore_Prob</th>\n",
       "      <th>CustID</th>\n",
       "      <th>predicted</th>\n",
       "      <th>leadscore_score</th>\n",
       "    </tr>\n",
       "  </thead>\n",
       "  <tbody>\n",
       "    <tr>\n",
       "      <th>0</th>\n",
       "      <td>0</td>\n",
       "      <td>0.356556</td>\n",
       "      <td>1871</td>\n",
       "      <td>0</td>\n",
       "      <td>35.655553</td>\n",
       "    </tr>\n",
       "    <tr>\n",
       "      <th>1</th>\n",
       "      <td>1</td>\n",
       "      <td>0.518751</td>\n",
       "      <td>6885</td>\n",
       "      <td>1</td>\n",
       "      <td>51.875063</td>\n",
       "    </tr>\n",
       "    <tr>\n",
       "      <th>2</th>\n",
       "      <td>0</td>\n",
       "      <td>0.107384</td>\n",
       "      <td>3427</td>\n",
       "      <td>0</td>\n",
       "      <td>10.738368</td>\n",
       "    </tr>\n",
       "    <tr>\n",
       "      <th>3</th>\n",
       "      <td>0</td>\n",
       "      <td>0.882647</td>\n",
       "      <td>1525</td>\n",
       "      <td>1</td>\n",
       "      <td>88.264676</td>\n",
       "    </tr>\n",
       "    <tr>\n",
       "      <th>4</th>\n",
       "      <td>1</td>\n",
       "      <td>0.945666</td>\n",
       "      <td>1475</td>\n",
       "      <td>1</td>\n",
       "      <td>94.566566</td>\n",
       "    </tr>\n",
       "  </tbody>\n",
       "</table>\n",
       "</div>"
      ],
      "text/plain": [
       "   Converted  Leadscore_Prob  CustID  predicted  leadscore_score\n",
       "0          0        0.356556    1871          0        35.655553\n",
       "1          1        0.518751    6885          1        51.875063\n",
       "2          0        0.107384    3427          0        10.738368\n",
       "3          0        0.882647    1525          1        88.264676\n",
       "4          1        0.945666    1475          1        94.566566"
      ]
     },
     "execution_count": 101,
     "metadata": {},
     "output_type": "execute_result"
    }
   ],
   "source": [
    "y_train_pred_final.head()"
   ]
  },
  {
   "cell_type": "markdown",
   "id": "6bd14657",
   "metadata": {},
   "source": [
    "## Step 4: Model Evaluation"
   ]
  },
  {
   "cell_type": "markdown",
   "id": "ba08b14e",
   "metadata": {},
   "source": [
    "Now it's time to evaluate the model."
   ]
  },
  {
   "cell_type": "code",
   "execution_count": 102,
   "id": "121fcf6a",
   "metadata": {},
   "outputs": [
    {
     "name": "stdout",
     "output_type": "stream",
     "text": [
      "[[1803  372]\n",
      " [ 524 1463]]\n"
     ]
    }
   ],
   "source": [
    "# Confusion matrix \n",
    "confusion = metrics.confusion_matrix(y_train_pred_final.Converted, y_train_pred_final.predicted )\n",
    "print(confusion)"
   ]
  },
  {
   "cell_type": "code",
   "execution_count": 103,
   "id": "d2ecfe73",
   "metadata": {},
   "outputs": [],
   "source": [
    "# Predicted     not_lead    lead\n",
    "# Actual\n",
    "# not_lead        1803      372\n",
    "# lead            524       1463"
   ]
  },
  {
   "cell_type": "code",
   "execution_count": 104,
   "id": "730f7da0",
   "metadata": {},
   "outputs": [
    {
     "name": "stdout",
     "output_type": "stream",
     "text": [
      "0.7847188851513696\n"
     ]
    }
   ],
   "source": [
    "# Let's check the overall accuracy.\n",
    "print(metrics.accuracy_score(y_train_pred_final.Converted, y_train_pred_final.predicted))"
   ]
  },
  {
   "cell_type": "markdown",
   "id": "86c771b6",
   "metadata": {},
   "source": [
    "The accuracy is still practically the same."
   ]
  },
  {
   "cell_type": "markdown",
   "id": "a76d8871",
   "metadata": {},
   "source": [
    "## Metrics beyond simply accuracy"
   ]
  },
  {
   "cell_type": "code",
   "execution_count": 105,
   "id": "9b69f7e9",
   "metadata": {},
   "outputs": [],
   "source": [
    "TP = confusion[1,1] # true positive \n",
    "TN = confusion[0,0] # true negatives\n",
    "FP = confusion[0,1] # false positives\n",
    "FN = confusion[1,0] # false negatives"
   ]
  },
  {
   "cell_type": "code",
   "execution_count": 106,
   "id": "5be172a7",
   "metadata": {},
   "outputs": [
    {
     "data": {
      "text/plain": [
       "0.7362858580775038"
      ]
     },
     "execution_count": 106,
     "metadata": {},
     "output_type": "execute_result"
    }
   ],
   "source": [
    "# Let's see the sensitivity of our logistic regression model\n",
    "TP / float(TP+FN)"
   ]
  },
  {
   "cell_type": "code",
   "execution_count": 107,
   "id": "2ac43cf2",
   "metadata": {},
   "outputs": [
    {
     "data": {
      "text/plain": [
       "0.8289655172413793"
      ]
     },
     "execution_count": 107,
     "metadata": {},
     "output_type": "execute_result"
    }
   ],
   "source": [
    "# Let us calculate specificity\n",
    "TN / float(TN+FP)"
   ]
  },
  {
   "cell_type": "code",
   "execution_count": 108,
   "id": "bdac55f9",
   "metadata": {},
   "outputs": [
    {
     "name": "stdout",
     "output_type": "stream",
     "text": [
      "0.17103448275862068\n"
     ]
    }
   ],
   "source": [
    "# Calculate false postive rate - predicting as hot leads when customer did not convert\n",
    "print(FP/ float(TN+FP))"
   ]
  },
  {
   "cell_type": "code",
   "execution_count": 109,
   "id": "ab540a50",
   "metadata": {},
   "outputs": [
    {
     "name": "stdout",
     "output_type": "stream",
     "text": [
      "0.797275204359673\n"
     ]
    }
   ],
   "source": [
    "# positive predictive value \n",
    "print (TP / float(TP+FP))"
   ]
  },
  {
   "cell_type": "code",
   "execution_count": 110,
   "id": "c4b2d28c",
   "metadata": {},
   "outputs": [
    {
     "name": "stdout",
     "output_type": "stream",
     "text": [
      "0.7748173614095402\n"
     ]
    }
   ],
   "source": [
    "# Negative predictive value\n",
    "print (TN / float(TN+ FN))"
   ]
  },
  {
   "cell_type": "code",
   "execution_count": 111,
   "id": "6aa03538",
   "metadata": {},
   "outputs": [
    {
     "data": {
      "text/plain": [
       "0.797275204359673"
      ]
     },
     "execution_count": 111,
     "metadata": {},
     "output_type": "execute_result"
    }
   ],
   "source": [
    "#Precision\n",
    "#TP / TP + FP\n",
    "\n",
    "confusion[1,1]/(confusion[0,1]+confusion[1,1])"
   ]
  },
  {
   "cell_type": "markdown",
   "id": "277f145b",
   "metadata": {},
   "source": [
    "## Plotting the ROC Curve"
   ]
  },
  {
   "cell_type": "markdown",
   "id": "0d3a58a2",
   "metadata": {},
   "source": [
    "An ROC curve demonstrates several things:"
   ]
  },
  {
   "cell_type": "markdown",
   "id": "a0835597",
   "metadata": {},
   "source": [
    "It shows the tradeoff between sensitivity and specificity (any increase in sensitivity will be accompanied by a decrease in specificity).\n",
    "The closer the curve follows the left-hand border and then the top border of the ROC space, the more accurate the test.\n",
    "The closer the curve comes to the 45-degree diagonal of the ROC space, the less accurate the test."
   ]
  },
  {
   "cell_type": "code",
   "execution_count": 112,
   "id": "6f580146",
   "metadata": {},
   "outputs": [],
   "source": [
    "def draw_roc( actual, probs ):\n",
    "    fpr, tpr, thresholds = metrics.roc_curve( actual, probs,\n",
    "                                              drop_intermediate = False )\n",
    "    auc_score = metrics.roc_auc_score( actual, probs )\n",
    "    plt.figure(figsize=(5, 5))\n",
    "    plt.plot( fpr, tpr, label='ROC curve (area = %0.2f)' % auc_score )\n",
    "    plt.plot([0, 1], [0, 1], 'k--')\n",
    "    plt.xlim([0.0, 1.0])\n",
    "    plt.ylim([0.0, 1.05])\n",
    "    plt.xlabel('False Positive Rate or [1 - True Negative Rate]')\n",
    "    plt.ylabel('True Positive Rate')\n",
    "    plt.title('Receiver operating characteristic example')\n",
    "    plt.legend(loc=\"lower right\")\n",
    "    plt.show()\n",
    "\n",
    "    return None"
   ]
  },
  {
   "cell_type": "code",
   "execution_count": 113,
   "id": "d71634f2",
   "metadata": {},
   "outputs": [],
   "source": [
    "fpr, tpr, thresholds = metrics.roc_curve( y_train_pred_final.Converted, y_train_pred_final.Leadscore_Prob, drop_intermediate = False )"
   ]
  },
  {
   "cell_type": "code",
   "execution_count": 114,
   "id": "7086da51",
   "metadata": {},
   "outputs": [
    {
     "data": {
      "image/png": "[encoded data removed]",
      "text/plain": [
       "<Figure size 360x360 with 1 Axes>"
      ]
     },
     "metadata": {
      "needs_background": "light"
     },
     "output_type": "display_data"
    }
   ],
   "source": [
    "draw_roc(y_train_pred_final.Converted, y_train_pred_final.Leadscore_Prob)"
   ]
  },
  {
   "cell_type": "markdown",
   "id": "a10def72",
   "metadata": {},
   "source": [
    "The area under the curve of the ROC is 0.86 which is quite good. So we seem to have a good model. Let's also check the sensitivity and specificity tradeoff to find the optimal cutoff point."
   ]
  },
  {
   "cell_type": "markdown",
   "id": "95739104",
   "metadata": {},
   "source": [
    "## Finding Optimal Cutoff Point"
   ]
  },
  {
   "cell_type": "code",
   "execution_count": 115,
   "id": "00946914",
   "metadata": {},
   "outputs": [
    {
     "data": {
      "text/html": [
       "<div>\n",
       "<style scoped>\n",
       "    .dataframe tbody tr th:only-of-type {\n",
       "        vertical-align: middle;\n",
       "    }\n",
       "\n",
       "    .dataframe tbody tr th {\n",
       "        vertical-align: top;\n",
       "    }\n",
       "\n",
       "    .dataframe thead th {\n",
       "        text-align: right;\n",
       "    }\n",
       "</style>\n",
       "<table border=\"1\" class=\"dataframe\">\n",
       "  <thead>\n",
       "    <tr style=\"text-align: right;\">\n",
       "      <th></th>\n",
       "      <th>Converted</th>\n",
       "      <th>Leadscore_Prob</th>\n",
       "      <th>CustID</th>\n",
       "      <th>predicted</th>\n",
       "      <th>leadscore_score</th>\n",
       "      <th>0.0</th>\n",
       "      <th>0.1</th>\n",
       "      <th>0.2</th>\n",
       "      <th>0.3</th>\n",
       "      <th>0.4</th>\n",
       "      <th>0.5</th>\n",
       "      <th>0.6</th>\n",
       "      <th>0.7</th>\n",
       "      <th>0.8</th>\n",
       "      <th>0.9</th>\n",
       "    </tr>\n",
       "  </thead>\n",
       "  <tbody>\n",
       "    <tr>\n",
       "      <th>0</th>\n",
       "      <td>0</td>\n",
       "      <td>0.356556</td>\n",
       "      <td>1871</td>\n",
       "      <td>0</td>\n",
       "      <td>35.655553</td>\n",
       "      <td>1</td>\n",
       "      <td>1</td>\n",
       "      <td>1</td>\n",
       "      <td>1</td>\n",
       "      <td>0</td>\n",
       "      <td>0</td>\n",
       "      <td>0</td>\n",
       "      <td>0</td>\n",
       "      <td>0</td>\n",
       "      <td>0</td>\n",
       "    </tr>\n",
       "    <tr>\n",
       "      <th>1</th>\n",
       "      <td>1</td>\n",
       "      <td>0.518751</td>\n",
       "      <td>6885</td>\n",
       "      <td>1</td>\n",
       "      <td>51.875063</td>\n",
       "      <td>1</td>\n",
       "      <td>1</td>\n",
       "      <td>1</td>\n",
       "      <td>1</td>\n",
       "      <td>1</td>\n",
       "      <td>1</td>\n",
       "      <td>0</td>\n",
       "      <td>0</td>\n",
       "      <td>0</td>\n",
       "      <td>0</td>\n",
       "    </tr>\n",
       "    <tr>\n",
       "      <th>2</th>\n",
       "      <td>0</td>\n",
       "      <td>0.107384</td>\n",
       "      <td>3427</td>\n",
       "      <td>0</td>\n",
       "      <td>10.738368</td>\n",
       "      <td>1</td>\n",
       "      <td>1</td>\n",
       "      <td>0</td>\n",
       "      <td>0</td>\n",
       "      <td>0</td>\n",
       "      <td>0</td>\n",
       "      <td>0</td>\n",
       "      <td>0</td>\n",
       "      <td>0</td>\n",
       "      <td>0</td>\n",
       "    </tr>\n",
       "    <tr>\n",
       "      <th>3</th>\n",
       "      <td>0</td>\n",
       "      <td>0.882647</td>\n",
       "      <td>1525</td>\n",
       "      <td>1</td>\n",
       "      <td>88.264676</td>\n",
       "      <td>1</td>\n",
       "      <td>1</td>\n",
       "      <td>1</td>\n",
       "      <td>1</td>\n",
       "      <td>1</td>\n",
       "      <td>1</td>\n",
       "      <td>1</td>\n",
       "      <td>1</td>\n",
       "      <td>1</td>\n",
       "      <td>0</td>\n",
       "    </tr>\n",
       "    <tr>\n",
       "      <th>4</th>\n",
       "      <td>1</td>\n",
       "      <td>0.945666</td>\n",
       "      <td>1475</td>\n",
       "      <td>1</td>\n",
       "      <td>94.566566</td>\n",
       "      <td>1</td>\n",
       "      <td>1</td>\n",
       "      <td>1</td>\n",
       "      <td>1</td>\n",
       "      <td>1</td>\n",
       "      <td>1</td>\n",
       "      <td>1</td>\n",
       "      <td>1</td>\n",
       "      <td>1</td>\n",
       "      <td>1</td>\n",
       "    </tr>\n",
       "  </tbody>\n",
       "</table>\n",
       "</div>"
      ],
      "text/plain": [
       "   Converted  Leadscore_Prob  CustID  predicted  leadscore_score  0.0  0.1  \\\n",
       "0          0        0.356556    1871          0        35.655553    1    1   \n",
       "1          1        0.518751    6885          1        51.875063    1    1   \n",
       "2          0        0.107384    3427          0        10.738368    1    1   \n",
       "3          0        0.882647    1525          1        88.264676    1    1   \n",
       "4          1        0.945666    1475          1        94.566566    1    1   \n",
       "\n",
       "   0.2  0.3  0.4  0.5  0.6  0.7  0.8  0.9  \n",
       "0    1    1    0    0    0    0    0    0  \n",
       "1    1    1    1    1    0    0    0    0  \n",
       "2    0    0    0    0    0    0    0    0  \n",
       "3    1    1    1    1    1    1    1    0  \n",
       "4    1    1    1    1    1    1    1    1  "
      ]
     },
     "execution_count": 115,
     "metadata": {},
     "output_type": "execute_result"
    }
   ],
   "source": [
    "# Let's create columns with different probability cutoffs \n",
    "numbers = [float(x)/10 for x in range(10)]\n",
    "for i in numbers:\n",
    "    y_train_pred_final[i]= y_train_pred_final.Leadscore_Prob.map(lambda x: 1 if x > i else 0)\n",
    "y_train_pred_final.head()"
   ]
  },
  {
   "cell_type": "code",
   "execution_count": 116,
   "id": "7acdf2ad",
   "metadata": {},
   "outputs": [
    {
     "data": {
      "text/html": [
       "<div>\n",
       "<style scoped>\n",
       "    .dataframe tbody tr th:only-of-type {\n",
       "        vertical-align: middle;\n",
       "    }\n",
       "\n",
       "    .dataframe tbody tr th {\n",
       "        vertical-align: top;\n",
       "    }\n",
       "\n",
       "    .dataframe thead th {\n",
       "        text-align: right;\n",
       "    }\n",
       "</style>\n",
       "<table border=\"1\" class=\"dataframe\">\n",
       "  <thead>\n",
       "    <tr style=\"text-align: right;\">\n",
       "      <th></th>\n",
       "      <th>Probability</th>\n",
       "      <th>Accuracy</th>\n",
       "      <th>Sensitivity</th>\n",
       "      <th>Specificity</th>\n",
       "    </tr>\n",
       "  </thead>\n",
       "  <tbody>\n",
       "    <tr>\n",
       "      <th>0.0</th>\n",
       "      <td>0.0</td>\n",
       "      <td>0.477415</td>\n",
       "      <td>1.000000</td>\n",
       "      <td>0.000000</td>\n",
       "    </tr>\n",
       "    <tr>\n",
       "      <th>0.1</th>\n",
       "      <td>0.1</td>\n",
       "      <td>0.546132</td>\n",
       "      <td>0.988425</td>\n",
       "      <td>0.142069</td>\n",
       "    </tr>\n",
       "    <tr>\n",
       "      <th>0.2</th>\n",
       "      <td>0.2</td>\n",
       "      <td>0.714320</td>\n",
       "      <td>0.941621</td>\n",
       "      <td>0.506667</td>\n",
       "    </tr>\n",
       "    <tr>\n",
       "      <th>0.3</th>\n",
       "      <td>0.3</td>\n",
       "      <td>0.756367</td>\n",
       "      <td>0.904378</td>\n",
       "      <td>0.621149</td>\n",
       "    </tr>\n",
       "    <tr>\n",
       "      <th>0.4</th>\n",
       "      <td>0.4</td>\n",
       "      <td>0.787362</td>\n",
       "      <td>0.803221</td>\n",
       "      <td>0.772874</td>\n",
       "    </tr>\n",
       "    <tr>\n",
       "      <th>0.5</th>\n",
       "      <td>0.5</td>\n",
       "      <td>0.784719</td>\n",
       "      <td>0.736286</td>\n",
       "      <td>0.828966</td>\n",
       "    </tr>\n",
       "    <tr>\n",
       "      <th>0.6</th>\n",
       "      <td>0.6</td>\n",
       "      <td>0.772465</td>\n",
       "      <td>0.668848</td>\n",
       "      <td>0.867126</td>\n",
       "    </tr>\n",
       "    <tr>\n",
       "      <th>0.7</th>\n",
       "      <td>0.7</td>\n",
       "      <td>0.736905</td>\n",
       "      <td>0.537997</td>\n",
       "      <td>0.918621</td>\n",
       "    </tr>\n",
       "    <tr>\n",
       "      <th>0.8</th>\n",
       "      <td>0.8</td>\n",
       "      <td>0.712878</td>\n",
       "      <td>0.448415</td>\n",
       "      <td>0.954483</td>\n",
       "    </tr>\n",
       "    <tr>\n",
       "      <th>0.9</th>\n",
       "      <td>0.9</td>\n",
       "      <td>0.651129</td>\n",
       "      <td>0.284852</td>\n",
       "      <td>0.985747</td>\n",
       "    </tr>\n",
       "  </tbody>\n",
       "</table>\n",
       "</div>"
      ],
      "text/plain": [
       "     Probability  Accuracy  Sensitivity  Specificity\n",
       "0.0          0.0  0.477415     1.000000     0.000000\n",
       "0.1          0.1  0.546132     0.988425     0.142069\n",
       "0.2          0.2  0.714320     0.941621     0.506667\n",
       "0.3          0.3  0.756367     0.904378     0.621149\n",
       "0.4          0.4  0.787362     0.803221     0.772874\n",
       "0.5          0.5  0.784719     0.736286     0.828966\n",
       "0.6          0.6  0.772465     0.668848     0.867126\n",
       "0.7          0.7  0.736905     0.537997     0.918621\n",
       "0.8          0.8  0.712878     0.448415     0.954483\n",
       "0.9          0.9  0.651129     0.284852     0.985747"
      ]
     },
     "execution_count": 116,
     "metadata": {},
     "output_type": "execute_result"
    }
   ],
   "source": [
    "# Now let's calculate accuracy sensitivity and specificity for various probability cutoffs.\n",
    "cutoff_df = pd.DataFrame( columns = ['Probability','Accuracy','Sensitivity','Specificity'])\n",
    "from sklearn.metrics import confusion_matrix\n",
    "\n",
    "# TP = confusion[1,1] # true positive \n",
    "# TN = confusion[0,0] # true negatives\n",
    "# FP = confusion[0,1] # false positives\n",
    "# FN = confusion[1,0] # false negatives\n",
    "\n",
    "num = [0.0,0.1,0.2,0.3,0.4,0.5,0.6,0.7,0.8,0.9]\n",
    "for i in num:\n",
    "    cm1 = metrics.confusion_matrix(y_train_pred_final.Converted, y_train_pred_final[i] )\n",
    "    total1=sum(sum(cm1))\n",
    "    accuracy = (cm1[0,0]+cm1[1,1])/total1\n",
    "    \n",
    "    speci = cm1[0,0]/(cm1[0,0]+cm1[0,1])\n",
    "    sensi = cm1[1,1]/(cm1[1,0]+cm1[1,1])\n",
    "    cutoff_df.loc[i] =[ i ,accuracy,sensi,speci]\n",
    "cutoff_df"
   ]
  },
  {
   "cell_type": "code",
   "execution_count": 163,
   "id": "1e6101b0",
   "metadata": {},
   "outputs": [
    {
     "data": {
      "image/png": "[encoded data removed]",
      "text/plain": [
       "<Figure size 576x576 with 1 Axes>"
      ]
     },
     "metadata": {
      "needs_background": "light"
     },
     "output_type": "display_data"
    }
   ],
   "source": [
    "# Let's plot accuracy sensitivity and specificity for various probabilities.\n",
    "cutoff_df.plot.line(x='Probability', y=['Accuracy','Sensitivity','Specificity'],figsize =(8,8))\n",
    "plt.show()"
   ]
  },
  {
   "cell_type": "markdown",
   "id": "46e8cb91",
   "metadata": {},
   "source": [
    "As we can see that around 0.42, you get the optimal values of the three metrics. So let's choose 0.42 as our cutoff now."
   ]
  },
  {
   "cell_type": "code",
   "execution_count": 118,
   "id": "36cfa7c6",
   "metadata": {},
   "outputs": [
    {
     "data": {
      "text/html": [
       "<div>\n",
       "<style scoped>\n",
       "    .dataframe tbody tr th:only-of-type {\n",
       "        vertical-align: middle;\n",
       "    }\n",
       "\n",
       "    .dataframe tbody tr th {\n",
       "        vertical-align: top;\n",
       "    }\n",
       "\n",
       "    .dataframe thead th {\n",
       "        text-align: right;\n",
       "    }\n",
       "</style>\n",
       "<table border=\"1\" class=\"dataframe\">\n",
       "  <thead>\n",
       "    <tr style=\"text-align: right;\">\n",
       "      <th></th>\n",
       "      <th>Converted</th>\n",
       "      <th>Leadscore_Prob</th>\n",
       "      <th>CustID</th>\n",
       "      <th>predicted</th>\n",
       "      <th>leadscore_score</th>\n",
       "      <th>0.0</th>\n",
       "      <th>0.1</th>\n",
       "      <th>0.2</th>\n",
       "      <th>0.3</th>\n",
       "      <th>0.4</th>\n",
       "      <th>0.5</th>\n",
       "      <th>0.6</th>\n",
       "      <th>0.7</th>\n",
       "      <th>0.8</th>\n",
       "      <th>0.9</th>\n",
       "      <th>final_predicted</th>\n",
       "    </tr>\n",
       "  </thead>\n",
       "  <tbody>\n",
       "    <tr>\n",
       "      <th>0</th>\n",
       "      <td>0</td>\n",
       "      <td>0.356556</td>\n",
       "      <td>1871</td>\n",
       "      <td>0</td>\n",
       "      <td>35.655553</td>\n",
       "      <td>1</td>\n",
       "      <td>1</td>\n",
       "      <td>1</td>\n",
       "      <td>1</td>\n",
       "      <td>0</td>\n",
       "      <td>0</td>\n",
       "      <td>0</td>\n",
       "      <td>0</td>\n",
       "      <td>0</td>\n",
       "      <td>0</td>\n",
       "      <td>1</td>\n",
       "    </tr>\n",
       "    <tr>\n",
       "      <th>1</th>\n",
       "      <td>1</td>\n",
       "      <td>0.518751</td>\n",
       "      <td>6885</td>\n",
       "      <td>1</td>\n",
       "      <td>51.875063</td>\n",
       "      <td>1</td>\n",
       "      <td>1</td>\n",
       "      <td>1</td>\n",
       "      <td>1</td>\n",
       "      <td>1</td>\n",
       "      <td>1</td>\n",
       "      <td>0</td>\n",
       "      <td>0</td>\n",
       "      <td>0</td>\n",
       "      <td>0</td>\n",
       "      <td>1</td>\n",
       "    </tr>\n",
       "    <tr>\n",
       "      <th>2</th>\n",
       "      <td>0</td>\n",
       "      <td>0.107384</td>\n",
       "      <td>3427</td>\n",
       "      <td>0</td>\n",
       "      <td>10.738368</td>\n",
       "      <td>1</td>\n",
       "      <td>1</td>\n",
       "      <td>0</td>\n",
       "      <td>0</td>\n",
       "      <td>0</td>\n",
       "      <td>0</td>\n",
       "      <td>0</td>\n",
       "      <td>0</td>\n",
       "      <td>0</td>\n",
       "      <td>0</td>\n",
       "      <td>0</td>\n",
       "    </tr>\n",
       "    <tr>\n",
       "      <th>3</th>\n",
       "      <td>0</td>\n",
       "      <td>0.882647</td>\n",
       "      <td>1525</td>\n",
       "      <td>1</td>\n",
       "      <td>88.264676</td>\n",
       "      <td>1</td>\n",
       "      <td>1</td>\n",
       "      <td>1</td>\n",
       "      <td>1</td>\n",
       "      <td>1</td>\n",
       "      <td>1</td>\n",
       "      <td>1</td>\n",
       "      <td>1</td>\n",
       "      <td>1</td>\n",
       "      <td>0</td>\n",
       "      <td>1</td>\n",
       "    </tr>\n",
       "    <tr>\n",
       "      <th>4</th>\n",
       "      <td>1</td>\n",
       "      <td>0.945666</td>\n",
       "      <td>1475</td>\n",
       "      <td>1</td>\n",
       "      <td>94.566566</td>\n",
       "      <td>1</td>\n",
       "      <td>1</td>\n",
       "      <td>1</td>\n",
       "      <td>1</td>\n",
       "      <td>1</td>\n",
       "      <td>1</td>\n",
       "      <td>1</td>\n",
       "      <td>1</td>\n",
       "      <td>1</td>\n",
       "      <td>1</td>\n",
       "      <td>1</td>\n",
       "    </tr>\n",
       "  </tbody>\n",
       "</table>\n",
       "</div>"
      ],
      "text/plain": [
       "   Converted  Leadscore_Prob  CustID  predicted  leadscore_score  0.0  0.1  \\\n",
       "0          0        0.356556    1871          0        35.655553    1    1   \n",
       "1          1        0.518751    6885          1        51.875063    1    1   \n",
       "2          0        0.107384    3427          0        10.738368    1    1   \n",
       "3          0        0.882647    1525          1        88.264676    1    1   \n",
       "4          1        0.945666    1475          1        94.566566    1    1   \n",
       "\n",
       "   0.2  0.3  0.4  0.5  0.6  0.7  0.8  0.9  final_predicted  \n",
       "0    1    1    0    0    0    0    0    0                1  \n",
       "1    1    1    1    1    0    0    0    0                1  \n",
       "2    0    0    0    0    0    0    0    0                0  \n",
       "3    1    1    1    1    1    1    1    0                1  \n",
       "4    1    1    1    1    1    1    1    1                1  "
      ]
     },
     "execution_count": 118,
     "metadata": {},
     "output_type": "execute_result"
    }
   ],
   "source": [
    "y_train_pred_final['final_predicted'] = y_train_pred_final.Leadscore_Prob.map( lambda x: 1 if x > 0.35 else 0)\n",
    "y_train_pred_final.head()"
   ]
  },
  {
   "cell_type": "code",
   "execution_count": 162,
   "id": "50a32db1",
   "metadata": {},
   "outputs": [
    {
     "data": {
      "text/html": [
       "<div>\n",
       "<style scoped>\n",
       "    .dataframe tbody tr th:only-of-type {\n",
       "        vertical-align: middle;\n",
       "    }\n",
       "\n",
       "    .dataframe tbody tr th {\n",
       "        vertical-align: top;\n",
       "    }\n",
       "\n",
       "    .dataframe thead th {\n",
       "        text-align: right;\n",
       "    }\n",
       "</style>\n",
       "<table border=\"1\" class=\"dataframe\">\n",
       "  <thead>\n",
       "    <tr style=\"text-align: right;\">\n",
       "      <th></th>\n",
       "      <th>Converted</th>\n",
       "      <th>Leadscore_Prob</th>\n",
       "      <th>CustID</th>\n",
       "      <th>predicted</th>\n",
       "      <th>leadscore_score</th>\n",
       "      <th>0.0</th>\n",
       "      <th>0.1</th>\n",
       "      <th>0.2</th>\n",
       "      <th>0.3</th>\n",
       "      <th>0.4</th>\n",
       "      <th>0.5</th>\n",
       "      <th>0.6</th>\n",
       "      <th>0.7</th>\n",
       "      <th>0.8</th>\n",
       "      <th>0.9</th>\n",
       "      <th>final_predicted</th>\n",
       "    </tr>\n",
       "  </thead>\n",
       "  <tbody>\n",
       "    <tr>\n",
       "      <th>0</th>\n",
       "      <td>0</td>\n",
       "      <td>0.356556</td>\n",
       "      <td>1871</td>\n",
       "      <td>0</td>\n",
       "      <td>35.655553</td>\n",
       "      <td>1</td>\n",
       "      <td>1</td>\n",
       "      <td>1</td>\n",
       "      <td>1</td>\n",
       "      <td>0</td>\n",
       "      <td>0</td>\n",
       "      <td>0</td>\n",
       "      <td>0</td>\n",
       "      <td>0</td>\n",
       "      <td>0</td>\n",
       "      <td>1</td>\n",
       "    </tr>\n",
       "    <tr>\n",
       "      <th>1</th>\n",
       "      <td>1</td>\n",
       "      <td>0.518751</td>\n",
       "      <td>6885</td>\n",
       "      <td>1</td>\n",
       "      <td>51.875063</td>\n",
       "      <td>1</td>\n",
       "      <td>1</td>\n",
       "      <td>1</td>\n",
       "      <td>1</td>\n",
       "      <td>1</td>\n",
       "      <td>1</td>\n",
       "      <td>0</td>\n",
       "      <td>0</td>\n",
       "      <td>0</td>\n",
       "      <td>0</td>\n",
       "      <td>1</td>\n",
       "    </tr>\n",
       "    <tr>\n",
       "      <th>2</th>\n",
       "      <td>0</td>\n",
       "      <td>0.107384</td>\n",
       "      <td>3427</td>\n",
       "      <td>0</td>\n",
       "      <td>10.738368</td>\n",
       "      <td>1</td>\n",
       "      <td>1</td>\n",
       "      <td>0</td>\n",
       "      <td>0</td>\n",
       "      <td>0</td>\n",
       "      <td>0</td>\n",
       "      <td>0</td>\n",
       "      <td>0</td>\n",
       "      <td>0</td>\n",
       "      <td>0</td>\n",
       "      <td>0</td>\n",
       "    </tr>\n",
       "    <tr>\n",
       "      <th>3</th>\n",
       "      <td>0</td>\n",
       "      <td>0.882647</td>\n",
       "      <td>1525</td>\n",
       "      <td>1</td>\n",
       "      <td>88.264676</td>\n",
       "      <td>1</td>\n",
       "      <td>1</td>\n",
       "      <td>1</td>\n",
       "      <td>1</td>\n",
       "      <td>1</td>\n",
       "      <td>1</td>\n",
       "      <td>1</td>\n",
       "      <td>1</td>\n",
       "      <td>1</td>\n",
       "      <td>0</td>\n",
       "      <td>1</td>\n",
       "    </tr>\n",
       "    <tr>\n",
       "      <th>4</th>\n",
       "      <td>1</td>\n",
       "      <td>0.945666</td>\n",
       "      <td>1475</td>\n",
       "      <td>1</td>\n",
       "      <td>94.566566</td>\n",
       "      <td>1</td>\n",
       "      <td>1</td>\n",
       "      <td>1</td>\n",
       "      <td>1</td>\n",
       "      <td>1</td>\n",
       "      <td>1</td>\n",
       "      <td>1</td>\n",
       "      <td>1</td>\n",
       "      <td>1</td>\n",
       "      <td>1</td>\n",
       "      <td>1</td>\n",
       "    </tr>\n",
       "    <tr>\n",
       "      <th>...</th>\n",
       "      <td>...</td>\n",
       "      <td>...</td>\n",
       "      <td>...</td>\n",
       "      <td>...</td>\n",
       "      <td>...</td>\n",
       "      <td>...</td>\n",
       "      <td>...</td>\n",
       "      <td>...</td>\n",
       "      <td>...</td>\n",
       "      <td>...</td>\n",
       "      <td>...</td>\n",
       "      <td>...</td>\n",
       "      <td>...</td>\n",
       "      <td>...</td>\n",
       "      <td>...</td>\n",
       "      <td>...</td>\n",
       "    </tr>\n",
       "    <tr>\n",
       "      <th>4157</th>\n",
       "      <td>1</td>\n",
       "      <td>0.909371</td>\n",
       "      <td>3015</td>\n",
       "      <td>1</td>\n",
       "      <td>90.937100</td>\n",
       "      <td>1</td>\n",
       "      <td>1</td>\n",
       "      <td>1</td>\n",
       "      <td>1</td>\n",
       "      <td>1</td>\n",
       "      <td>1</td>\n",
       "      <td>1</td>\n",
       "      <td>1</td>\n",
       "      <td>1</td>\n",
       "      <td>1</td>\n",
       "      <td>1</td>\n",
       "    </tr>\n",
       "    <tr>\n",
       "      <th>4158</th>\n",
       "      <td>0</td>\n",
       "      <td>0.665788</td>\n",
       "      <td>615</td>\n",
       "      <td>1</td>\n",
       "      <td>66.578767</td>\n",
       "      <td>1</td>\n",
       "      <td>1</td>\n",
       "      <td>1</td>\n",
       "      <td>1</td>\n",
       "      <td>1</td>\n",
       "      <td>1</td>\n",
       "      <td>1</td>\n",
       "      <td>0</td>\n",
       "      <td>0</td>\n",
       "      <td>0</td>\n",
       "      <td>1</td>\n",
       "    </tr>\n",
       "    <tr>\n",
       "      <th>4159</th>\n",
       "      <td>1</td>\n",
       "      <td>0.410769</td>\n",
       "      <td>110</td>\n",
       "      <td>0</td>\n",
       "      <td>41.076924</td>\n",
       "      <td>1</td>\n",
       "      <td>1</td>\n",
       "      <td>1</td>\n",
       "      <td>1</td>\n",
       "      <td>1</td>\n",
       "      <td>0</td>\n",
       "      <td>0</td>\n",
       "      <td>0</td>\n",
       "      <td>0</td>\n",
       "      <td>0</td>\n",
       "      <td>1</td>\n",
       "    </tr>\n",
       "    <tr>\n",
       "      <th>4160</th>\n",
       "      <td>0</td>\n",
       "      <td>0.699573</td>\n",
       "      <td>6308</td>\n",
       "      <td>1</td>\n",
       "      <td>69.957267</td>\n",
       "      <td>1</td>\n",
       "      <td>1</td>\n",
       "      <td>1</td>\n",
       "      <td>1</td>\n",
       "      <td>1</td>\n",
       "      <td>1</td>\n",
       "      <td>1</td>\n",
       "      <td>0</td>\n",
       "      <td>0</td>\n",
       "      <td>0</td>\n",
       "      <td>1</td>\n",
       "    </tr>\n",
       "    <tr>\n",
       "      <th>4161</th>\n",
       "      <td>0</td>\n",
       "      <td>0.881768</td>\n",
       "      <td>8788</td>\n",
       "      <td>1</td>\n",
       "      <td>88.176847</td>\n",
       "      <td>1</td>\n",
       "      <td>1</td>\n",
       "      <td>1</td>\n",
       "      <td>1</td>\n",
       "      <td>1</td>\n",
       "      <td>1</td>\n",
       "      <td>1</td>\n",
       "      <td>1</td>\n",
       "      <td>1</td>\n",
       "      <td>0</td>\n",
       "      <td>1</td>\n",
       "    </tr>\n",
       "  </tbody>\n",
       "</table>\n",
       "<p>4162 rows × 16 columns</p>\n",
       "</div>"
      ],
      "text/plain": [
       "      Converted  Leadscore_Prob  CustID  predicted  leadscore_score  0.0  0.1  \\\n",
       "0             0        0.356556    1871          0        35.655553    1    1   \n",
       "1             1        0.518751    6885          1        51.875063    1    1   \n",
       "2             0        0.107384    3427          0        10.738368    1    1   \n",
       "3             0        0.882647    1525          1        88.264676    1    1   \n",
       "4             1        0.945666    1475          1        94.566566    1    1   \n",
       "...         ...             ...     ...        ...              ...  ...  ...   \n",
       "4157          1        0.909371    3015          1        90.937100    1    1   \n",
       "4158          0        0.665788     615          1        66.578767    1    1   \n",
       "4159          1        0.410769     110          0        41.076924    1    1   \n",
       "4160          0        0.699573    6308          1        69.957267    1    1   \n",
       "4161          0        0.881768    8788          1        88.176847    1    1   \n",
       "\n",
       "      0.2  0.3  0.4  0.5  0.6  0.7  0.8  0.9  final_predicted  \n",
       "0       1    1    0    0    0    0    0    0                1  \n",
       "1       1    1    1    1    0    0    0    0                1  \n",
       "2       0    0    0    0    0    0    0    0                0  \n",
       "3       1    1    1    1    1    1    1    0                1  \n",
       "4       1    1    1    1    1    1    1    1                1  \n",
       "...   ...  ...  ...  ...  ...  ...  ...  ...              ...  \n",
       "4157    1    1    1    1    1    1    1    1                1  \n",
       "4158    1    1    1    1    1    0    0    0                1  \n",
       "4159    1    1    1    0    0    0    0    0                1  \n",
       "4160    1    1    1    1    1    0    0    0                1  \n",
       "4161    1    1    1    1    1    1    1    0                1  \n",
       "\n",
       "[4162 rows x 16 columns]"
      ]
     },
     "execution_count": 162,
     "metadata": {},
     "output_type": "execute_result"
    }
   ],
   "source": [
    "y_train_pred_final"
   ]
  },
  {
   "cell_type": "code",
   "execution_count": 119,
   "id": "a19df7d5",
   "metadata": {},
   "outputs": [
    {
     "data": {
      "text/plain": [
       "0.7614127823161941"
      ]
     },
     "execution_count": 119,
     "metadata": {},
     "output_type": "execute_result"
    }
   ],
   "source": [
    "# Let's check the overall accuracy.\n",
    "metrics.accuracy_score(y_train_pred_final.Converted, y_train_pred_final.final_predicted)"
   ]
  },
  {
   "cell_type": "markdown",
   "id": "44c5074e",
   "metadata": {},
   "source": [
    "## Precision and Recall"
   ]
  },
  {
   "cell_type": "code",
   "execution_count": 120,
   "id": "f54411a7",
   "metadata": {},
   "outputs": [
    {
     "data": {
      "text/plain": [
       "array([[1803,  372],\n",
       "       [ 524, 1463]], dtype=int64)"
      ]
     },
     "execution_count": 120,
     "metadata": {},
     "output_type": "execute_result"
    }
   ],
   "source": [
    "confusion = metrics.confusion_matrix(y_train_pred_final.Converted, y_train_pred_final.predicted )\n",
    "confusion"
   ]
  },
  {
   "cell_type": "code",
   "execution_count": 121,
   "id": "4243e6f7",
   "metadata": {},
   "outputs": [
    {
     "data": {
      "text/plain": [
       "0.797275204359673"
      ]
     },
     "execution_count": 121,
     "metadata": {},
     "output_type": "execute_result"
    }
   ],
   "source": [
    "#Precision\n",
    "#TP / TP + FP\n",
    "\n",
    "confusion[1,1]/(confusion[0,1]+confusion[1,1])"
   ]
  },
  {
   "cell_type": "code",
   "execution_count": 122,
   "id": "18ac0517",
   "metadata": {},
   "outputs": [
    {
     "data": {
      "text/plain": [
       "0.7362858580775038"
      ]
     },
     "execution_count": 122,
     "metadata": {},
     "output_type": "execute_result"
    }
   ],
   "source": [
    "#Recall\n",
    "#TP / TP + FN\n",
    "\n",
    "confusion[1,1]/(confusion[1,0]+confusion[1,1])"
   ]
  },
  {
   "cell_type": "markdown",
   "id": "ce78ae7e",
   "metadata": {},
   "source": [
    "## Precision and recall tradeoff"
   ]
  },
  {
   "cell_type": "code",
   "execution_count": 123,
   "id": "91fe84b2",
   "metadata": {},
   "outputs": [],
   "source": [
    "from sklearn.metrics import precision_recall_curve"
   ]
  },
  {
   "cell_type": "code",
   "execution_count": 124,
   "id": "7f124dc7",
   "metadata": {},
   "outputs": [],
   "source": [
    "p, r, thresholds = precision_recall_curve(y_train_pred_final.Converted, y_train_pred_final.Leadscore_Prob)"
   ]
  },
  {
   "cell_type": "code",
   "execution_count": 125,
   "id": "3147ee67",
   "metadata": {},
   "outputs": [
    {
     "data": {
      "image/png": "[encoded data removed]",
      "text/plain": [
       "<Figure size 504x504 with 1 Axes>"
      ]
     },
     "metadata": {
      "needs_background": "light"
     },
     "output_type": "display_data"
    }
   ],
   "source": [
    "plt.figure(figsize=(7,7))\n",
    "plt.plot(thresholds, p[:-1], \"g-\")\n",
    "plt.plot(thresholds, r[:-1], \"r-\")\n",
    "plt.show()"
   ]
  },
  {
   "cell_type": "markdown",
   "id": "506ae0f7",
   "metadata": {},
   "source": [
    "## Step 5:Making predictions on the test set"
   ]
  },
  {
   "cell_type": "code",
   "execution_count": 126,
   "id": "77f7ed0d",
   "metadata": {},
   "outputs": [
    {
     "data": {
      "text/html": [
       "<div>\n",
       "<style scoped>\n",
       "    .dataframe tbody tr th:only-of-type {\n",
       "        vertical-align: middle;\n",
       "    }\n",
       "\n",
       "    .dataframe tbody tr th {\n",
       "        vertical-align: top;\n",
       "    }\n",
       "\n",
       "    .dataframe thead th {\n",
       "        text-align: right;\n",
       "    }\n",
       "</style>\n",
       "<table border=\"1\" class=\"dataframe\">\n",
       "  <thead>\n",
       "    <tr style=\"text-align: right;\">\n",
       "      <th></th>\n",
       "      <th>Total Time Spent on Website</th>\n",
       "      <th>Lead Source_Direct Traffic</th>\n",
       "      <th>Lead Source_Google</th>\n",
       "      <th>Lead Source_Organic Search</th>\n",
       "      <th>Lead Source_Reference</th>\n",
       "      <th>Lead Source_Referral Sites</th>\n",
       "      <th>Lead Source_Welingak Website</th>\n",
       "      <th>Do Not Email_Yes</th>\n",
       "      <th>Last Activity_Had a Phone Conversation</th>\n",
       "      <th>Last Activity_Olark Chat Conversation</th>\n",
       "      <th>Last Activity_SMS Sent</th>\n",
       "      <th>What is your current occupation_Working Professional</th>\n",
       "      <th>Last Notable Activity_Unreachable</th>\n",
       "    </tr>\n",
       "  </thead>\n",
       "  <tbody>\n",
       "    <tr>\n",
       "      <th>1340</th>\n",
       "      <td>-0.586101</td>\n",
       "      <td>0</td>\n",
       "      <td>1</td>\n",
       "      <td>0</td>\n",
       "      <td>0</td>\n",
       "      <td>0</td>\n",
       "      <td>0</td>\n",
       "      <td>0</td>\n",
       "      <td>0</td>\n",
       "      <td>0</td>\n",
       "      <td>0</td>\n",
       "      <td>0</td>\n",
       "      <td>0</td>\n",
       "    </tr>\n",
       "    <tr>\n",
       "      <th>3411</th>\n",
       "      <td>-0.924488</td>\n",
       "      <td>0</td>\n",
       "      <td>0</td>\n",
       "      <td>0</td>\n",
       "      <td>1</td>\n",
       "      <td>0</td>\n",
       "      <td>0</td>\n",
       "      <td>0</td>\n",
       "      <td>0</td>\n",
       "      <td>0</td>\n",
       "      <td>0</td>\n",
       "      <td>0</td>\n",
       "      <td>0</td>\n",
       "    </tr>\n",
       "    <tr>\n",
       "      <th>7124</th>\n",
       "      <td>-0.532388</td>\n",
       "      <td>1</td>\n",
       "      <td>0</td>\n",
       "      <td>0</td>\n",
       "      <td>0</td>\n",
       "      <td>0</td>\n",
       "      <td>0</td>\n",
       "      <td>0</td>\n",
       "      <td>0</td>\n",
       "      <td>0</td>\n",
       "      <td>0</td>\n",
       "      <td>0</td>\n",
       "      <td>0</td>\n",
       "    </tr>\n",
       "    <tr>\n",
       "      <th>1969</th>\n",
       "      <td>-0.924488</td>\n",
       "      <td>0</td>\n",
       "      <td>0</td>\n",
       "      <td>0</td>\n",
       "      <td>0</td>\n",
       "      <td>0</td>\n",
       "      <td>0</td>\n",
       "      <td>0</td>\n",
       "      <td>0</td>\n",
       "      <td>0</td>\n",
       "      <td>1</td>\n",
       "      <td>0</td>\n",
       "      <td>0</td>\n",
       "    </tr>\n",
       "    <tr>\n",
       "      <th>8567</th>\n",
       "      <td>-0.924488</td>\n",
       "      <td>0</td>\n",
       "      <td>0</td>\n",
       "      <td>0</td>\n",
       "      <td>0</td>\n",
       "      <td>0</td>\n",
       "      <td>0</td>\n",
       "      <td>1</td>\n",
       "      <td>0</td>\n",
       "      <td>0</td>\n",
       "      <td>1</td>\n",
       "      <td>0</td>\n",
       "      <td>0</td>\n",
       "    </tr>\n",
       "  </tbody>\n",
       "</table>\n",
       "</div>"
      ],
      "text/plain": [
       "      Total Time Spent on Website  Lead Source_Direct Traffic  \\\n",
       "1340                    -0.586101                           0   \n",
       "3411                    -0.924488                           0   \n",
       "7124                    -0.532388                           1   \n",
       "1969                    -0.924488                           0   \n",
       "8567                    -0.924488                           0   \n",
       "\n",
       "      Lead Source_Google  Lead Source_Organic Search  Lead Source_Reference  \\\n",
       "1340                   1                           0                      0   \n",
       "3411                   0                           0                      1   \n",
       "7124                   0                           0                      0   \n",
       "1969                   0                           0                      0   \n",
       "8567                   0                           0                      0   \n",
       "\n",
       "      Lead Source_Referral Sites  Lead Source_Welingak Website  \\\n",
       "1340                           0                             0   \n",
       "3411                           0                             0   \n",
       "7124                           0                             0   \n",
       "1969                           0                             0   \n",
       "8567                           0                             0   \n",
       "\n",
       "      Do Not Email_Yes  Last Activity_Had a Phone Conversation  \\\n",
       "1340                 0                                       0   \n",
       "3411                 0                                       0   \n",
       "7124                 0                                       0   \n",
       "1969                 0                                       0   \n",
       "8567                 1                                       0   \n",
       "\n",
       "      Last Activity_Olark Chat Conversation  Last Activity_SMS Sent  \\\n",
       "1340                                      0                       0   \n",
       "3411                                      0                       0   \n",
       "7124                                      0                       0   \n",
       "1969                                      0                       1   \n",
       "8567                                      0                       1   \n",
       "\n",
       "      What is your current occupation_Working Professional  \\\n",
       "1340                                                  0      \n",
       "3411                                                  0      \n",
       "7124                                                  0      \n",
       "1969                                                  0      \n",
       "8567                                                  0      \n",
       "\n",
       "      Last Notable Activity_Unreachable  \n",
       "1340                                  0  \n",
       "3411                                  0  \n",
       "7124                                  0  \n",
       "1969                                  0  \n",
       "8567                                  0  "
      ]
     },
     "execution_count": 126,
     "metadata": {},
     "output_type": "execute_result"
    }
   ],
   "source": [
    "X_test[colsumnsToScale] = scaler.transform(X_test[colsumnsToScale])\n",
    "X_test = X_test[col]\n",
    "X_test.head()"
   ]
  },
  {
   "cell_type": "code",
   "execution_count": 127,
   "id": "47b7fd41",
   "metadata": {},
   "outputs": [],
   "source": [
    "X_test_sm = sm.add_constant(X_test)\n",
    "y_test_pred = res.predict(X_test_sm)"
   ]
  },
  {
   "cell_type": "code",
   "execution_count": 128,
   "id": "4501e8ac",
   "metadata": {},
   "outputs": [],
   "source": [
    "# Converting y_pred to a dataframe which is an array\n",
    "y_pred_1 = pd.DataFrame(y_test_pred)"
   ]
  },
  {
   "cell_type": "code",
   "execution_count": 129,
   "id": "f14780d3",
   "metadata": {},
   "outputs": [
    {
     "data": {
      "text/html": [
       "<div>\n",
       "<style scoped>\n",
       "    .dataframe tbody tr th:only-of-type {\n",
       "        vertical-align: middle;\n",
       "    }\n",
       "\n",
       "    .dataframe tbody tr th {\n",
       "        vertical-align: top;\n",
       "    }\n",
       "\n",
       "    .dataframe thead th {\n",
       "        text-align: right;\n",
       "    }\n",
       "</style>\n",
       "<table border=\"1\" class=\"dataframe\">\n",
       "  <thead>\n",
       "    <tr style=\"text-align: right;\">\n",
       "      <th></th>\n",
       "      <th>0</th>\n",
       "    </tr>\n",
       "  </thead>\n",
       "  <tbody>\n",
       "    <tr>\n",
       "      <th>1340</th>\n",
       "      <td>0.179563</td>\n",
       "    </tr>\n",
       "    <tr>\n",
       "      <th>3411</th>\n",
       "      <td>0.841107</td>\n",
       "    </tr>\n",
       "    <tr>\n",
       "      <th>7124</th>\n",
       "      <td>0.121087</td>\n",
       "    </tr>\n",
       "    <tr>\n",
       "      <th>1969</th>\n",
       "      <td>0.646569</td>\n",
       "    </tr>\n",
       "    <tr>\n",
       "      <th>8567</th>\n",
       "      <td>0.305978</td>\n",
       "    </tr>\n",
       "  </tbody>\n",
       "</table>\n",
       "</div>"
      ],
      "text/plain": [
       "             0\n",
       "1340  0.179563\n",
       "3411  0.841107\n",
       "7124  0.121087\n",
       "1969  0.646569\n",
       "8567  0.305978"
      ]
     },
     "execution_count": 129,
     "metadata": {},
     "output_type": "execute_result"
    }
   ],
   "source": [
    "y_pred_1.head()"
   ]
  },
  {
   "cell_type": "code",
   "execution_count": 130,
   "id": "9aa6785b",
   "metadata": {},
   "outputs": [],
   "source": [
    "# Converting y_test to dataframe\n",
    "y_test_df = pd.DataFrame(y_test)"
   ]
  },
  {
   "cell_type": "code",
   "execution_count": 131,
   "id": "b6a3e667",
   "metadata": {},
   "outputs": [],
   "source": [
    "# Putting CustID to index\n",
    "y_test_df['CustID'] = y_test_df.index"
   ]
  },
  {
   "cell_type": "code",
   "execution_count": 132,
   "id": "31b162a8",
   "metadata": {},
   "outputs": [],
   "source": [
    "# Removing index for both dataframes to append them side by side \n",
    "y_pred_1.reset_index(drop=True, inplace=True)\n",
    "y_test_df.reset_index(drop=True, inplace=True)"
   ]
  },
  {
   "cell_type": "code",
   "execution_count": 133,
   "id": "cdb3badd",
   "metadata": {},
   "outputs": [],
   "source": [
    "# Appending y_test_df and y_pred_1\n",
    "y_pred_final = pd.concat([y_test_df, y_pred_1],axis=1)"
   ]
  },
  {
   "cell_type": "code",
   "execution_count": 134,
   "id": "d4ee4a73",
   "metadata": {},
   "outputs": [
    {
     "data": {
      "text/html": [
       "<div>\n",
       "<style scoped>\n",
       "    .dataframe tbody tr th:only-of-type {\n",
       "        vertical-align: middle;\n",
       "    }\n",
       "\n",
       "    .dataframe tbody tr th {\n",
       "        vertical-align: top;\n",
       "    }\n",
       "\n",
       "    .dataframe thead th {\n",
       "        text-align: right;\n",
       "    }\n",
       "</style>\n",
       "<table border=\"1\" class=\"dataframe\">\n",
       "  <thead>\n",
       "    <tr style=\"text-align: right;\">\n",
       "      <th></th>\n",
       "      <th>Converted</th>\n",
       "      <th>CustID</th>\n",
       "      <th>0</th>\n",
       "    </tr>\n",
       "  </thead>\n",
       "  <tbody>\n",
       "    <tr>\n",
       "      <th>0</th>\n",
       "      <td>1</td>\n",
       "      <td>1340</td>\n",
       "      <td>0.179563</td>\n",
       "    </tr>\n",
       "    <tr>\n",
       "      <th>1</th>\n",
       "      <td>1</td>\n",
       "      <td>3411</td>\n",
       "      <td>0.841107</td>\n",
       "    </tr>\n",
       "    <tr>\n",
       "      <th>2</th>\n",
       "      <td>0</td>\n",
       "      <td>7124</td>\n",
       "      <td>0.121087</td>\n",
       "    </tr>\n",
       "    <tr>\n",
       "      <th>3</th>\n",
       "      <td>1</td>\n",
       "      <td>1969</td>\n",
       "      <td>0.646569</td>\n",
       "    </tr>\n",
       "    <tr>\n",
       "      <th>4</th>\n",
       "      <td>1</td>\n",
       "      <td>8567</td>\n",
       "      <td>0.305978</td>\n",
       "    </tr>\n",
       "  </tbody>\n",
       "</table>\n",
       "</div>"
      ],
      "text/plain": [
       "   Converted  CustID         0\n",
       "0          1    1340  0.179563\n",
       "1          1    3411  0.841107\n",
       "2          0    7124  0.121087\n",
       "3          1    1969  0.646569\n",
       "4          1    8567  0.305978"
      ]
     },
     "execution_count": 134,
     "metadata": {},
     "output_type": "execute_result"
    }
   ],
   "source": [
    "y_pred_final.head()"
   ]
  },
  {
   "cell_type": "code",
   "execution_count": 135,
   "id": "d55f7020",
   "metadata": {},
   "outputs": [],
   "source": [
    "# Renaming the column \n",
    "y_pred_final= y_pred_final.rename(columns={ 0 : 'Leadscore_Prob'})"
   ]
  },
  {
   "cell_type": "code",
   "execution_count": 136,
   "id": "4afb0d8e",
   "metadata": {},
   "outputs": [],
   "source": [
    "# Rearranging the columns\n",
    "y_pred_final = y_pred_final.reindex(['CustID','Converted','Leadscore_Prob'], axis=1)"
   ]
  },
  {
   "cell_type": "code",
   "execution_count": 137,
   "id": "1c3ace19",
   "metadata": {},
   "outputs": [
    {
     "data": {
      "text/html": [
       "<div>\n",
       "<style scoped>\n",
       "    .dataframe tbody tr th:only-of-type {\n",
       "        vertical-align: middle;\n",
       "    }\n",
       "\n",
       "    .dataframe tbody tr th {\n",
       "        vertical-align: top;\n",
       "    }\n",
       "\n",
       "    .dataframe thead th {\n",
       "        text-align: right;\n",
       "    }\n",
       "</style>\n",
       "<table border=\"1\" class=\"dataframe\">\n",
       "  <thead>\n",
       "    <tr style=\"text-align: right;\">\n",
       "      <th></th>\n",
       "      <th>CustID</th>\n",
       "      <th>Converted</th>\n",
       "      <th>Leadscore_Prob</th>\n",
       "    </tr>\n",
       "  </thead>\n",
       "  <tbody>\n",
       "    <tr>\n",
       "      <th>0</th>\n",
       "      <td>1340</td>\n",
       "      <td>1</td>\n",
       "      <td>0.179563</td>\n",
       "    </tr>\n",
       "    <tr>\n",
       "      <th>1</th>\n",
       "      <td>3411</td>\n",
       "      <td>1</td>\n",
       "      <td>0.841107</td>\n",
       "    </tr>\n",
       "    <tr>\n",
       "      <th>2</th>\n",
       "      <td>7124</td>\n",
       "      <td>0</td>\n",
       "      <td>0.121087</td>\n",
       "    </tr>\n",
       "    <tr>\n",
       "      <th>3</th>\n",
       "      <td>1969</td>\n",
       "      <td>1</td>\n",
       "      <td>0.646569</td>\n",
       "    </tr>\n",
       "    <tr>\n",
       "      <th>4</th>\n",
       "      <td>8567</td>\n",
       "      <td>1</td>\n",
       "      <td>0.305978</td>\n",
       "    </tr>\n",
       "  </tbody>\n",
       "</table>\n",
       "</div>"
      ],
      "text/plain": [
       "   CustID  Converted  Leadscore_Prob\n",
       "0    1340          1        0.179563\n",
       "1    3411          1        0.841107\n",
       "2    7124          0        0.121087\n",
       "3    1969          1        0.646569\n",
       "4    8567          1        0.305978"
      ]
     },
     "execution_count": 137,
     "metadata": {},
     "output_type": "execute_result"
    }
   ],
   "source": [
    "# Let's see the head of y_pred_final\n",
    "y_pred_final.head()"
   ]
  },
  {
   "cell_type": "code",
   "execution_count": 138,
   "id": "5e417495",
   "metadata": {},
   "outputs": [],
   "source": [
    "y_pred_final['final_predicted'] = y_pred_final.Leadscore_Prob.map(lambda x: 1 if x > 0.35 else 0)"
   ]
  },
  {
   "cell_type": "code",
   "execution_count": 139,
   "id": "04907318",
   "metadata": {},
   "outputs": [],
   "source": [
    "y_pred_final['leadscore_score']= y_pred_final.Leadscore_Prob.map(lambda x: x*100)"
   ]
  },
  {
   "cell_type": "code",
   "execution_count": 140,
   "id": "f4ecb94a",
   "metadata": {},
   "outputs": [
    {
     "data": {
      "text/html": [
       "<div>\n",
       "<style scoped>\n",
       "    .dataframe tbody tr th:only-of-type {\n",
       "        vertical-align: middle;\n",
       "    }\n",
       "\n",
       "    .dataframe tbody tr th {\n",
       "        vertical-align: top;\n",
       "    }\n",
       "\n",
       "    .dataframe thead th {\n",
       "        text-align: right;\n",
       "    }\n",
       "</style>\n",
       "<table border=\"1\" class=\"dataframe\">\n",
       "  <thead>\n",
       "    <tr style=\"text-align: right;\">\n",
       "      <th></th>\n",
       "      <th>CustID</th>\n",
       "      <th>Converted</th>\n",
       "      <th>Leadscore_Prob</th>\n",
       "      <th>final_predicted</th>\n",
       "      <th>leadscore_score</th>\n",
       "    </tr>\n",
       "  </thead>\n",
       "  <tbody>\n",
       "    <tr>\n",
       "      <th>0</th>\n",
       "      <td>1340</td>\n",
       "      <td>1</td>\n",
       "      <td>0.179563</td>\n",
       "      <td>0</td>\n",
       "      <td>17.956300</td>\n",
       "    </tr>\n",
       "    <tr>\n",
       "      <th>1</th>\n",
       "      <td>3411</td>\n",
       "      <td>1</td>\n",
       "      <td>0.841107</td>\n",
       "      <td>1</td>\n",
       "      <td>84.110659</td>\n",
       "    </tr>\n",
       "    <tr>\n",
       "      <th>2</th>\n",
       "      <td>7124</td>\n",
       "      <td>0</td>\n",
       "      <td>0.121087</td>\n",
       "      <td>0</td>\n",
       "      <td>12.108737</td>\n",
       "    </tr>\n",
       "    <tr>\n",
       "      <th>3</th>\n",
       "      <td>1969</td>\n",
       "      <td>1</td>\n",
       "      <td>0.646569</td>\n",
       "      <td>1</td>\n",
       "      <td>64.656940</td>\n",
       "    </tr>\n",
       "    <tr>\n",
       "      <th>4</th>\n",
       "      <td>8567</td>\n",
       "      <td>1</td>\n",
       "      <td>0.305978</td>\n",
       "      <td>0</td>\n",
       "      <td>30.597823</td>\n",
       "    </tr>\n",
       "  </tbody>\n",
       "</table>\n",
       "</div>"
      ],
      "text/plain": [
       "   CustID  Converted  Leadscore_Prob  final_predicted  leadscore_score\n",
       "0    1340          1        0.179563                0        17.956300\n",
       "1    3411          1        0.841107                1        84.110659\n",
       "2    7124          0        0.121087                0        12.108737\n",
       "3    1969          1        0.646569                1        64.656940\n",
       "4    8567          1        0.305978                0        30.597823"
      ]
     },
     "execution_count": 140,
     "metadata": {},
     "output_type": "execute_result"
    }
   ],
   "source": [
    "y_pred_final.head()"
   ]
  },
  {
   "cell_type": "code",
   "execution_count": 141,
   "id": "1a7140e9",
   "metadata": {},
   "outputs": [
    {
     "data": {
      "text/plain": [
       "0.77703081232493"
      ]
     },
     "execution_count": 141,
     "metadata": {},
     "output_type": "execute_result"
    }
   ],
   "source": [
    "# Let's check the overall accuracy.\n",
    "metrics.accuracy_score(y_pred_final.Converted, y_pred_final.final_predicted)"
   ]
  },
  {
   "cell_type": "code",
   "execution_count": 142,
   "id": "43d1e2ec",
   "metadata": {},
   "outputs": [
    {
     "data": {
      "text/plain": [
       "array([[631, 287],\n",
       "       [111, 756]], dtype=int64)"
      ]
     },
     "execution_count": 142,
     "metadata": {},
     "output_type": "execute_result"
    }
   ],
   "source": [
    "confusion2 = metrics.confusion_matrix(y_pred_final.Converted, y_pred_final.final_predicted )\n",
    "confusion2"
   ]
  },
  {
   "cell_type": "code",
   "execution_count": 143,
   "id": "8202a7f9",
   "metadata": {},
   "outputs": [],
   "source": [
    "TP = confusion2[1,1] # true positive \n",
    "TN = confusion2[0,0] # true negatives\n",
    "FP = confusion2[0,1] # false positives\n",
    "FN = confusion2[1,0] # false negatives"
   ]
  },
  {
   "cell_type": "code",
   "execution_count": 144,
   "id": "b8ccaf86",
   "metadata": {},
   "outputs": [
    {
     "data": {
      "text/plain": [
       "0.8719723183391004"
      ]
     },
     "execution_count": 144,
     "metadata": {},
     "output_type": "execute_result"
    }
   ],
   "source": [
    "# Let's see the sensitivity of our logistic regression model\n",
    "TP / float(TP+FN)"
   ]
  },
  {
   "cell_type": "code",
   "execution_count": 145,
   "id": "8ab1dab8",
   "metadata": {},
   "outputs": [
    {
     "data": {
      "text/plain": [
       "0.6873638344226579"
      ]
     },
     "execution_count": 145,
     "metadata": {},
     "output_type": "execute_result"
    }
   ],
   "source": [
    "# Let us calculate specificity\n",
    "TN / float(TN+FP)"
   ]
  },
  {
   "cell_type": "markdown",
   "id": "14e7b159",
   "metadata": {},
   "source": [
    "## Precision and Recall"
   ]
  },
  {
   "cell_type": "code",
   "execution_count": 146,
   "id": "84d24715",
   "metadata": {},
   "outputs": [
    {
     "data": {
      "text/plain": [
       "0.7248322147651006"
      ]
     },
     "execution_count": 146,
     "metadata": {},
     "output_type": "execute_result"
    }
   ],
   "source": [
    "#Precision\n",
    "#TP / TP + FP\n",
    "\n",
    "confusion2[1,1]/(confusion2[0,1]+confusion2[1,1])"
   ]
  },
  {
   "cell_type": "code",
   "execution_count": 147,
   "id": "531ca835",
   "metadata": {},
   "outputs": [
    {
     "data": {
      "text/plain": [
       "0.8719723183391004"
      ]
     },
     "execution_count": 147,
     "metadata": {},
     "output_type": "execute_result"
    }
   ],
   "source": [
    "#Recall\n",
    "#TP / TP + FN\n",
    "\n",
    "confusion2[1,1]/(confusion2[1,0]+confusion2[1,1])"
   ]
  },
  {
   "cell_type": "markdown",
   "id": "95a88eb6",
   "metadata": {},
   "source": [
    " Business Requirement has given a ballpark of the target lead conversion rate to be around 80%."
   ]
  },
  {
   "cell_type": "markdown",
   "id": "221cdda6",
   "metadata": {},
   "source": [
    "Therefore we increase our cutoff for lead probability to 0.5 inorder to achieve a precision above 80%"
   ]
  },
  {
   "cell_type": "code",
   "execution_count": 148,
   "id": "676a3b23",
   "metadata": {},
   "outputs": [],
   "source": [
    "# Appending y_test_df and y_pred_1\n",
    "y_pred_final2 = pd.concat([y_test_df, y_pred_1],axis=1)"
   ]
  },
  {
   "cell_type": "code",
   "execution_count": 149,
   "id": "0ba9fdeb",
   "metadata": {},
   "outputs": [
    {
     "data": {
      "text/html": [
       "<div>\n",
       "<style scoped>\n",
       "    .dataframe tbody tr th:only-of-type {\n",
       "        vertical-align: middle;\n",
       "    }\n",
       "\n",
       "    .dataframe tbody tr th {\n",
       "        vertical-align: top;\n",
       "    }\n",
       "\n",
       "    .dataframe thead th {\n",
       "        text-align: right;\n",
       "    }\n",
       "</style>\n",
       "<table border=\"1\" class=\"dataframe\">\n",
       "  <thead>\n",
       "    <tr style=\"text-align: right;\">\n",
       "      <th></th>\n",
       "      <th>Converted</th>\n",
       "      <th>CustID</th>\n",
       "      <th>0</th>\n",
       "    </tr>\n",
       "  </thead>\n",
       "  <tbody>\n",
       "    <tr>\n",
       "      <th>0</th>\n",
       "      <td>1</td>\n",
       "      <td>1340</td>\n",
       "      <td>0.179563</td>\n",
       "    </tr>\n",
       "    <tr>\n",
       "      <th>1</th>\n",
       "      <td>1</td>\n",
       "      <td>3411</td>\n",
       "      <td>0.841107</td>\n",
       "    </tr>\n",
       "    <tr>\n",
       "      <th>2</th>\n",
       "      <td>0</td>\n",
       "      <td>7124</td>\n",
       "      <td>0.121087</td>\n",
       "    </tr>\n",
       "    <tr>\n",
       "      <th>3</th>\n",
       "      <td>1</td>\n",
       "      <td>1969</td>\n",
       "      <td>0.646569</td>\n",
       "    </tr>\n",
       "    <tr>\n",
       "      <th>4</th>\n",
       "      <td>1</td>\n",
       "      <td>8567</td>\n",
       "      <td>0.305978</td>\n",
       "    </tr>\n",
       "  </tbody>\n",
       "</table>\n",
       "</div>"
      ],
      "text/plain": [
       "   Converted  CustID         0\n",
       "0          1    1340  0.179563\n",
       "1          1    3411  0.841107\n",
       "2          0    7124  0.121087\n",
       "3          1    1969  0.646569\n",
       "4          1    8567  0.305978"
      ]
     },
     "execution_count": 149,
     "metadata": {},
     "output_type": "execute_result"
    }
   ],
   "source": [
    "y_pred_final2.head()"
   ]
  },
  {
   "cell_type": "code",
   "execution_count": 150,
   "id": "5a626676",
   "metadata": {},
   "outputs": [],
   "source": [
    "# Renaming the column \n",
    "y_pred_final2= y_pred_final2.rename(columns={ 0 : 'Leadscore_Prob'})"
   ]
  },
  {
   "cell_type": "code",
   "execution_count": 151,
   "id": "fff3bb28",
   "metadata": {},
   "outputs": [],
   "source": [
    "# Rearranging the columns\n",
    "y_pred_final2 = y_pred_final2.reindex(['CustID','Converted','Leadscore_Prob'], axis=1)"
   ]
  },
  {
   "cell_type": "code",
   "execution_count": 152,
   "id": "efdd5494",
   "metadata": {},
   "outputs": [
    {
     "data": {
      "text/html": [
       "<div>\n",
       "<style scoped>\n",
       "    .dataframe tbody tr th:only-of-type {\n",
       "        vertical-align: middle;\n",
       "    }\n",
       "\n",
       "    .dataframe tbody tr th {\n",
       "        vertical-align: top;\n",
       "    }\n",
       "\n",
       "    .dataframe thead th {\n",
       "        text-align: right;\n",
       "    }\n",
       "</style>\n",
       "<table border=\"1\" class=\"dataframe\">\n",
       "  <thead>\n",
       "    <tr style=\"text-align: right;\">\n",
       "      <th></th>\n",
       "      <th>CustID</th>\n",
       "      <th>Converted</th>\n",
       "      <th>Leadscore_Prob</th>\n",
       "    </tr>\n",
       "  </thead>\n",
       "  <tbody>\n",
       "    <tr>\n",
       "      <th>0</th>\n",
       "      <td>1340</td>\n",
       "      <td>1</td>\n",
       "      <td>0.179563</td>\n",
       "    </tr>\n",
       "    <tr>\n",
       "      <th>1</th>\n",
       "      <td>3411</td>\n",
       "      <td>1</td>\n",
       "      <td>0.841107</td>\n",
       "    </tr>\n",
       "    <tr>\n",
       "      <th>2</th>\n",
       "      <td>7124</td>\n",
       "      <td>0</td>\n",
       "      <td>0.121087</td>\n",
       "    </tr>\n",
       "    <tr>\n",
       "      <th>3</th>\n",
       "      <td>1969</td>\n",
       "      <td>1</td>\n",
       "      <td>0.646569</td>\n",
       "    </tr>\n",
       "    <tr>\n",
       "      <th>4</th>\n",
       "      <td>8567</td>\n",
       "      <td>1</td>\n",
       "      <td>0.305978</td>\n",
       "    </tr>\n",
       "  </tbody>\n",
       "</table>\n",
       "</div>"
      ],
      "text/plain": [
       "   CustID  Converted  Leadscore_Prob\n",
       "0    1340          1        0.179563\n",
       "1    3411          1        0.841107\n",
       "2    7124          0        0.121087\n",
       "3    1969          1        0.646569\n",
       "4    8567          1        0.305978"
      ]
     },
     "execution_count": 152,
     "metadata": {},
     "output_type": "execute_result"
    }
   ],
   "source": [
    "y_pred_final2.head()"
   ]
  },
  {
   "cell_type": "code",
   "execution_count": 153,
   "id": "efa3fdb0",
   "metadata": {},
   "outputs": [],
   "source": [
    "y_pred_final2['final_predicted'] = y_pred_final2.Leadscore_Prob.map(lambda x: 1 if x > 0.5 else 0)"
   ]
  },
  {
   "cell_type": "code",
   "execution_count": 154,
   "id": "ffa4ff54",
   "metadata": {},
   "outputs": [],
   "source": [
    "y_pred_final2['leadscore_score']= y_pred_final2.Leadscore_Prob.map(lambda x: x*100)"
   ]
  },
  {
   "cell_type": "code",
   "execution_count": 155,
   "id": "f51b2c21",
   "metadata": {},
   "outputs": [
    {
     "data": {
      "text/html": [
       "<div>\n",
       "<style scoped>\n",
       "    .dataframe tbody tr th:only-of-type {\n",
       "        vertical-align: middle;\n",
       "    }\n",
       "\n",
       "    .dataframe tbody tr th {\n",
       "        vertical-align: top;\n",
       "    }\n",
       "\n",
       "    .dataframe thead th {\n",
       "        text-align: right;\n",
       "    }\n",
       "</style>\n",
       "<table border=\"1\" class=\"dataframe\">\n",
       "  <thead>\n",
       "    <tr style=\"text-align: right;\">\n",
       "      <th></th>\n",
       "      <th>CustID</th>\n",
       "      <th>Converted</th>\n",
       "      <th>Leadscore_Prob</th>\n",
       "      <th>final_predicted</th>\n",
       "      <th>leadscore_score</th>\n",
       "    </tr>\n",
       "  </thead>\n",
       "  <tbody>\n",
       "    <tr>\n",
       "      <th>0</th>\n",
       "      <td>1340</td>\n",
       "      <td>1</td>\n",
       "      <td>0.179563</td>\n",
       "      <td>0</td>\n",
       "      <td>17.956300</td>\n",
       "    </tr>\n",
       "    <tr>\n",
       "      <th>1</th>\n",
       "      <td>3411</td>\n",
       "      <td>1</td>\n",
       "      <td>0.841107</td>\n",
       "      <td>1</td>\n",
       "      <td>84.110659</td>\n",
       "    </tr>\n",
       "    <tr>\n",
       "      <th>2</th>\n",
       "      <td>7124</td>\n",
       "      <td>0</td>\n",
       "      <td>0.121087</td>\n",
       "      <td>0</td>\n",
       "      <td>12.108737</td>\n",
       "    </tr>\n",
       "    <tr>\n",
       "      <th>3</th>\n",
       "      <td>1969</td>\n",
       "      <td>1</td>\n",
       "      <td>0.646569</td>\n",
       "      <td>1</td>\n",
       "      <td>64.656940</td>\n",
       "    </tr>\n",
       "    <tr>\n",
       "      <th>4</th>\n",
       "      <td>8567</td>\n",
       "      <td>1</td>\n",
       "      <td>0.305978</td>\n",
       "      <td>0</td>\n",
       "      <td>30.597823</td>\n",
       "    </tr>\n",
       "  </tbody>\n",
       "</table>\n",
       "</div>"
      ],
      "text/plain": [
       "   CustID  Converted  Leadscore_Prob  final_predicted  leadscore_score\n",
       "0    1340          1        0.179563                0        17.956300\n",
       "1    3411          1        0.841107                1        84.110659\n",
       "2    7124          0        0.121087                0        12.108737\n",
       "3    1969          1        0.646569                1        64.656940\n",
       "4    8567          1        0.305978                0        30.597823"
      ]
     },
     "execution_count": 155,
     "metadata": {},
     "output_type": "execute_result"
    }
   ],
   "source": [
    "y_pred_final2.head()"
   ]
  },
  {
   "cell_type": "code",
   "execution_count": 156,
   "id": "8f2ac8fa",
   "metadata": {},
   "outputs": [
    {
     "data": {
      "text/plain": [
       "0.7887955182072829"
      ]
     },
     "execution_count": 156,
     "metadata": {},
     "output_type": "execute_result"
    }
   ],
   "source": [
    "# Let's check the overall accuracy.\n",
    "metrics.accuracy_score(y_pred_final2.Converted, y_pred_final2.final_predicted)"
   ]
  },
  {
   "cell_type": "code",
   "execution_count": 157,
   "id": "2d234fd2",
   "metadata": {},
   "outputs": [
    {
     "data": {
      "text/plain": [
       "array([[768, 150],\n",
       "       [227, 640]], dtype=int64)"
      ]
     },
     "execution_count": 157,
     "metadata": {},
     "output_type": "execute_result"
    }
   ],
   "source": [
    "confusion3 = metrics.confusion_matrix(y_pred_final2.Converted, y_pred_final2.final_predicted )\n",
    "confusion3"
   ]
  },
  {
   "cell_type": "code",
   "execution_count": 158,
   "id": "8186f3d6",
   "metadata": {},
   "outputs": [],
   "source": [
    "TP = confusion3[1,1] # true positive \n",
    "TN = confusion3[0,0] # true negatives\n",
    "FP = confusion3[0,1] # false positives\n",
    "FN = confusion3[1,0] # false negatives"
   ]
  },
  {
   "cell_type": "code",
   "execution_count": 159,
   "id": "1f4257dc",
   "metadata": {},
   "outputs": [
    {
     "data": {
      "text/plain": [
       "0.7381776239907728"
      ]
     },
     "execution_count": 159,
     "metadata": {},
     "output_type": "execute_result"
    }
   ],
   "source": [
    "# Let's see the sensitivity of our logistic regression model\n",
    "TP / float(TP+FN)"
   ]
  },
  {
   "cell_type": "code",
   "execution_count": 160,
   "id": "fc026f75",
   "metadata": {},
   "outputs": [
    {
     "data": {
      "text/plain": [
       "0.8366013071895425"
      ]
     },
     "execution_count": 160,
     "metadata": {},
     "output_type": "execute_result"
    }
   ],
   "source": [
    "# Let us calculate specificity\n",
    "TN / float(TN+FP)"
   ]
  },
  {
   "cell_type": "code",
   "execution_count": 161,
   "id": "dd1852cc",
   "metadata": {},
   "outputs": [
    {
     "data": {
      "text/plain": [
       "0.810126582278481"
      ]
     },
     "execution_count": 161,
     "metadata": {},
     "output_type": "execute_result"
    }
   ],
   "source": [
    "#TP / TP + FP\n",
    "\n",
    "confusion3[1,1]/(confusion3[0,1]+confusion3[1,1])"
   ]
  },
  {
   "cell_type": "code",
   "execution_count": null,
   "id": "b7c7cb88",
   "metadata": {},
   "outputs": [],
   "source": []
  }
 ],
 "metadata": {
  "kernelspec": {
   "display_name": "Python 3",
   "language": "python",
   "name": "python3"
  },
  "language_info": {
   "codemirror_mode": {
    "name": "ipython",
    "version": 3
   },
   "file_extension": ".py",
   "mimetype": "text/x-python",
   "name": "python",
   "nbconvert_exporter": "python",
   "pygments_lexer": "ipython3",
   "version": "3.8.8"
  }
 },
 "nbformat": 4,
 "nbformat_minor": 5
}
